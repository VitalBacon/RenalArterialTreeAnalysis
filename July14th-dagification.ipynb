{
 "cells": [
  {
   "cell_type": "code",
   "execution_count": 1,
   "metadata": {},
   "outputs": [],
   "source": [
    "import numpy as np\n",
    "import glob\n",
    "import matplotlib.pyplot as plt\n",
    "import cv2\n",
    "from skimage import measure, segmentation, feature\n",
    "from vis_utils import load_volume, VolumeVisualizer, ColorMapVisualizer\n",
    "from scipy.ndimage import zoom\n",
    "from skimage.morphology import skeletonize, skeletonize_3d, binary_dilation\n",
    "\n",
    "from skimage import filters, morphology\n",
    "\n",
    "from scipy.ndimage.filters import convolve, correlate\n",
    "from scipy import signal\n",
    "\n",
    "from skimage.filters import frangi, sato\n",
    "from skimage.draw import line_nd\n",
    "\n",
    "from PIL import Image\n",
    "import pickle\n",
    "\n",
    "from queue import PriorityQueue"
   ]
  },
  {
   "cell_type": "code",
   "execution_count": 2,
   "metadata": {
    "scrolled": true
   },
   "outputs": [],
   "source": [
    "source_dir = './data/P12/'\n",
    "skeleton = np.load(source_dir + 'skeleton.npy')\n",
    "thiccness_map = np.load(source_dir + 'thiccness-map.npy')\n",
    "\n",
    "# !!!!!!!!!!!!!!!!!!!!!!!!!!!!!!!!!!!!!!!!!!!!!!!!!!!!!!!!!!!!\n",
    "skeleton = np.pad(skeleton, 1)\n",
    "thiccness_map = np.pad(thiccness_map, 1)"
   ]
  },
  {
   "cell_type": "code",
   "execution_count": 3,
   "metadata": {},
   "outputs": [],
   "source": [
    "def visualize_addition(base, base_with_addition):\n",
    "    base = (base.copy() > 0).astype(np.uint8)\n",
    "    addition = (base_with_addition > 0).astype(np.uint8)\n",
    "    addition[base == 1] = 0\n",
    "    ColorMapVisualizer(base + addition * 4).visualize()\n",
    "    \n",
    "def visualize_lsd(lsd_mask):\n",
    "    ColorMapVisualizer(lsd_mask.astype(np.uint8)).visualize()\n",
    "    \n",
    "def visualize_gradient(lsd_mask):\n",
    "    ColorMapVisualizer(lsd_mask.astype(np.uint8)).visualize(gradient=True)\n",
    "    \n",
    "def visualize_mask_bin(mask):\n",
    "    VolumeVisualizer((mask > 0).astype(np.uint8), binary=True).visualize()\n",
    "    \n",
    "def visualize_mask_non_bin(mask):\n",
    "    VolumeVisualizer((mask > 0).astype(np.uint8) * 255, binary=False).visualize()\n",
    "    \n",
    "def visualize_skeleton(mask, visualize_mask=True, visualize_both_versions=False):\n",
    "    skeleton = skeletonize((mask > 0).astype(np.uint8))\n",
    "    if not visualize_mask or visualize_both_versions:\n",
    "        VolumeVisualizer(skeleton, binary=True).visualize()\n",
    "    if visualize_mask or visualize_both_versions:\n",
    "        skeleton = skeleton.astype(np.uint8) * 4\n",
    "        mask = (mask > 0).astype(np.uint8) * 3\n",
    "        mask[skeleton != 0] = 0\n",
    "        ColorMapVisualizer(skeleton + mask).visualize()\n",
    "\n",
    "def visualize_ultimate(lsd, base_mask):\n",
    "    visualize_lsd(lsd)\n",
    "    visualize_mask_non_bin(lsd)\n",
    "    visualize_addition(base_mask, lsd)\n",
    "    visualize_skeleton(lsd, visualize_mask=True)"
   ]
  },
  {
   "cell_type": "code",
   "execution_count": 4,
   "metadata": {},
   "outputs": [],
   "source": [
    "def trim_skeleton(skeleton):   \n",
    "    # TODO: fix wczesniejszych skeletonow !!!!!!!!!!!!!!!!!!!!!!!!!!!!!!!!TODOTODOTODOTODOTODOTODOTODOTODOTODOTODOTODOTO\n",
    "    padded_skeleton = np.pad(skeleton, 1)\n",
    "    new_skeleton = np.zeros(padded_skeleton.shape)\n",
    "    queue = [tuple(np.argwhere(padded_skeleton)[0])]\n",
    "    \n",
    "    while(len(queue) > 0):\n",
    "        x, y, z = queue.pop(0)\n",
    "        \n",
    "        for dx in [-1, 0, 1]:\n",
    "            for dy in [-1, 0, 1]:\n",
    "                for dz in [-1, 0, 1]:\n",
    "                    if dx == dy == dz == 0:\n",
    "                        continue\n",
    "                    \n",
    "                    neighbour_x = x + dx\n",
    "                    neighbour_y = y + dy\n",
    "                    neighbour_z = z + dz\n",
    "                    if padded_skeleton[neighbour_x, neighbour_y, neighbour_z] == 0:\n",
    "                        continue\n",
    "                        \n",
    "                    if new_skeleton[neighbour_x, neighbour_y, neighbour_z] == 0:\n",
    "                        queue.append((neighbour_x, neighbour_y, neighbour_z))\n",
    "                        new_skeleton[neighbour_x, neighbour_y, neighbour_z] += 1;\n",
    "                        new_skeleton[x, y, z] += 1\n",
    "                        \n",
    "    return (new_skeleton[1:-1, 1:-1, 1:-1] > 1).astype(np.uint8)\n",
    "\n",
    "\n",
    "\n",
    "def mark_bifurcation_regions(skeleton):\n",
    "    \n",
    "    padded_skeleton = np.pad(skeleton, 1)\n",
    "    bifurcations_map = np.zeros(padded_skeleton.shape)\n",
    "    \n",
    "    for skeleton_voxel in np.argwhere(padded_skeleton > 0):\n",
    "        x, y, z = tuple(skeleton_voxel)\n",
    "        kernel_radius = 1\n",
    "        kernel = np.ones((3, 3, 3))\n",
    "        kernel[1, 1, 1] = 0\n",
    "        \n",
    "        skeleton_slice = padded_skeleton[\n",
    "            x-kernel_radius:x+kernel_radius + 1,\n",
    "            y-kernel_radius:y+kernel_radius + 1,\n",
    "            z-kernel_radius:z+kernel_radius + 1\n",
    "        ]\n",
    "        \n",
    "        intersections = (skeleton_slice > 0) * kernel\n",
    "        bifurcations_map[x, y, z] = np.sum(intersections)\n",
    "        \n",
    "    return (bifurcations_map[1:-1, 1:-1, 1:-1] > 2).astype(np.uint8)\n",
    "\n",
    "def mark_leaves(skeleton):\n",
    "    trimmed = trim_skeleton(skeleton)\n",
    "    leaves = skeleton - trimmed\n",
    "    return leaves\n",
    "\n",
    "def mark_nodes(skeleton):\n",
    "    bifurcation_map = mark_bifurcation_regions(skeleton)\n",
    "    leaves_map = mark_leaves(skeleton)\n",
    "    return bifurcation_map + leaves_map"
   ]
  },
  {
   "cell_type": "code",
   "execution_count": 5,
   "metadata": {},
   "outputs": [],
   "source": [
    "class Node:\n",
    "    def __init__(self, coords):\n",
    "        self.coords = coords\n",
    "        self.edges = []\n",
    "        self.data = {}\n",
    "            \n",
    "    def add_edge(self, edge):\n",
    "        self.edges.append(edge)\n",
    "        \n",
    "    def get_neighbours(self):\n",
    "        return [e.node_a if e.node_a.coords != self.coords else e.node_b for e in self.edges]\n",
    "    \n",
    "    def copy_without_edges(self):\n",
    "        copied_node = Node(self.coords)\n",
    "        copied_node.data = self.data\n",
    "        return copied_node\n",
    "    \n",
    "    def __setitem__(self, key, value):\n",
    "        self.data[key] = value\n",
    "    \n",
    "    def __getitem__(self, key):\n",
    "        return self.data[key]\n",
    "    \n",
    "    def __hash__(self):\n",
    "        return hash(self.coords)\n",
    "    \n",
    "    def __repr__(self):\n",
    "        return f'Node {str(self.coords)}'\n",
    "        \n",
    "        \n",
    "class Edge:\n",
    "    def __init__(self, node_a, node_b):\n",
    "        self.node_a = node_a\n",
    "        self.node_b = node_b\n",
    "        self.data = {}\n",
    "        \n",
    "    def __setitem__(self, key, value):\n",
    "        self.data[key] = value\n",
    "    \n",
    "    def __getitem__(self, key):\n",
    "        return self.data[key]\n",
    "    \n",
    "    def __repr__(self):\n",
    "        return f'Edge {self.node_a.coords} -> {self.node_b.coords}'"
   ]
  },
  {
   "cell_type": "code",
   "execution_count": 6,
   "metadata": {},
   "outputs": [],
   "source": [
    "def construct_graph(skeleton, nodes_mask, thiccness_map):\n",
    "    nodes_labels = measure.label(nodes_mask)\n",
    "    nodes_props = measure.regionprops(nodes_labels)\n",
    "    print('nodes found (regions on nodes mask):', nodes_labels.max())\n",
    "    voxel_to_node = dict()\n",
    "    \n",
    "    for props in nodes_props:\n",
    "        if props.label < 1:\n",
    "            continue\n",
    "            \n",
    "        node = Node(tuple(props.coords[0]))\n",
    "        node['voxels'] = props.coords\n",
    "        node['thiccness'] = thiccness_map[tuple(props.coords[0])]\n",
    "        \n",
    "        for c in props.coords:\n",
    "            voxel_to_node[tuple(c)] = node\n",
    "            \n",
    "    edges_mask = skeleton - nodes_mask\n",
    "    edges_labels = measure.label(edges_mask > 0)\n",
    "    print('edges found:', edges_labels.max())\n",
    "    \n",
    "    visited = np.zeros(skeleton.shape, dtype=np.bool)\n",
    "    \n",
    "    def find_touching_nodes(source_voxel):\n",
    "        touching_nodes = set()\n",
    "        queue = [source_voxel]\n",
    "        while len(queue) > 0:\n",
    "            x, y, z = queue.pop(0)\n",
    "            \n",
    "            for dx in [-1, 0, 1]:\n",
    "                for dy in [-1, 0, 1]:\n",
    "                    for dz in [-1, 0, 1]:\n",
    "                        if dx == dy == dz == 0:\n",
    "                            continue\n",
    "\n",
    "                        neighbour_x = x + dx\n",
    "                        neighbour_y = y + dy\n",
    "                        neighbour_z = z + dz\n",
    "                        if visited[neighbour_x, neighbour_y, neighbour_z]:\n",
    "                            continue\n",
    "                            \n",
    "                        potential_node = voxel_to_node.get((neighbour_x, neighbour_y, neighbour_z))\n",
    "                        if potential_node is not None:\n",
    "                            touching_nodes.add(potential_node)\n",
    "\n",
    "                        if edges_mask[neighbour_x, neighbour_y, neighbour_z] == 1:\n",
    "                            queue.append((neighbour_x, neighbour_y, neighbour_z))\n",
    "                            visited[neighbour_x, neighbour_y, neighbour_z] = True\n",
    "        return list(touching_nodes)\n",
    "       \n",
    "        \n",
    "    edges_props = measure.regionprops(edges_labels)\n",
    "    \n",
    "    edges = []\n",
    "    bad_edges = []\n",
    "    for props in edges_props:\n",
    "        edge_voxel = props.coords[0]\n",
    "        touching_nodes = find_touching_nodes(edge_voxel)\n",
    "        if len(touching_nodes) != 2:\n",
    "            print(f'bad edge found! touching nodes count: {len(touching_nodes)}')\n",
    "            bad_edges.append(props.coords)\n",
    "            continue\n",
    "            \n",
    "        edge = Edge(touching_nodes[0], touching_nodes[1])\n",
    "        edge['voxels'] = props.coords\n",
    "        edges.append(edge)\n",
    "    return edges, bad_edges"
   ]
  },
  {
   "cell_type": "code",
   "execution_count": 7,
   "metadata": {},
   "outputs": [],
   "source": [
    "bifurcations_mask = mark_bifurcation_regions(skeleton)\n",
    "leaves_mask = mark_leaves(skeleton)\n",
    "nodes_mask = ((bifurcations_mask + leaves_mask) > 0).astype(np.uint8)"
   ]
  },
  {
   "cell_type": "code",
   "execution_count": 8,
   "metadata": {},
   "outputs": [
    {
     "name": "stdout",
     "output_type": "stream",
     "text": [
      "nodes found (regions on nodes mask): 2300\n",
      "edges found: 2338\n",
      "bad edge found! touching nodes count: 1\n",
      "bad edge found! touching nodes count: 1\n",
      "bad edge found! touching nodes count: 1\n",
      "bad edge found! touching nodes count: 1\n",
      "bad edge found! touching nodes count: 1\n",
      "bad edge found! touching nodes count: 1\n",
      "bad edge found! touching nodes count: 1\n",
      "Number of bad edged found: 7\n",
      "CPU times: user 6.01 s, sys: 2.05 s, total: 8.06 s\n",
      "Wall time: 8.13 s\n"
     ]
    }
   ],
   "source": [
    "%%time\n",
    "edges, bad_edges = construct_graph(skeleton, nodes_mask, thiccness_map)\n",
    "print(\"Number of bad edged found:\", len(bad_edges))"
   ]
  },
  {
   "cell_type": "markdown",
   "metadata": {},
   "source": [
    "## DAG cleaning"
   ]
  },
  {
   "cell_type": "code",
   "execution_count": 9,
   "metadata": {},
   "outputs": [],
   "source": [
    "def convert_to_nodes_list(edges):\n",
    "    nodes = {}\n",
    "    for e in edges:\n",
    "        nodes[e.node_a] = e.node_a.copy_without_edges()\n",
    "        nodes[e.node_b] = e.node_b.copy_without_edges()\n",
    "        \n",
    "    for e in edges:\n",
    "        new_edge = Edge(nodes[e.node_a], nodes[e.node_b])\n",
    "        new_edge.data = e.data\n",
    "        nodes[e.node_a].add_edge(new_edge)\n",
    "        nodes[e.node_b].add_edge(new_edge)\n",
    "        \n",
    "    return list(nodes.values())\n",
    "\n",
    "\n",
    "def merge_edges(a, b):\n",
    "        new_edge = Edge(a.node_a, b.node_b)\n",
    "        new_edge.data = a.data\n",
    "        new_edge['voxels'] = np.concatenate([a['voxels'], b.node_a['voxels'], b['voxels']])\n",
    "        return new_edge\n",
    "\n",
    "\n",
    "def find_tree_root_candidates(nodes, root_degree):\n",
    "    proper_degree_nodes = [node for node in nodes if len(node.edges) == root_degree]\n",
    "    root_thickness = max(map(lambda node: node['thiccness'], proper_degree_nodes))\n",
    "    root_candidates = [node for node in proper_degree_nodes if node['thiccness'] == root_thickness]\n",
    "    return root_candidates\n",
    "\n",
    "\n",
    "def remove_dag_cycles(root):\n",
    "    counter = 0\n",
    "    \n",
    "    new_root = root.copy_without_edges()\n",
    "    coords_to_old_parents = {}\n",
    "    coords_to_new_node = { new_root.coords: new_root }\n",
    "    \n",
    "    queue = PriorityQueue()\n",
    "    for node in root.get_neighbours():\n",
    "        coords_to_old_parents[node.coords] = [root]\n",
    "        queue.put(((-node['thiccness'], counter), node))\n",
    "        counter += 1\n",
    "        \n",
    "    while not queue.empty():\n",
    "        _, node = queue.get()\n",
    "        \n",
    "        if coords_to_new_node.get(node.coords) is not None:\n",
    "            continue\n",
    "        \n",
    "        parent_candidates = coords_to_old_parents[node.coords]\n",
    "        proper_parent_thiccness = min([p['thiccness'] for p in parent_candidates])\n",
    "        proper_parent = [p for p in parent_candidates if p['thiccness'] == proper_parent_thiccness][0]\n",
    "        edge_from_parent = [e for e in proper_parent.edges if e.node_a == node or e.node_b == node][0]\n",
    "        \n",
    "        new_node = node.copy_without_edges()\n",
    "        new_parent = coords_to_new_node[proper_parent.coords]\n",
    "        new_edge = Edge(new_parent, new_node)\n",
    "        new_edge.data = edge_from_parent.data\n",
    "        new_parent.add_edge(new_edge)\n",
    "        \n",
    "        coords_to_new_node[new_node.coords] = new_node\n",
    "        \n",
    "        for neighbour in node.get_neighbours():\n",
    "            parents = coords_to_old_parents.get(neighbour.coords, [])\n",
    "            coords_to_old_parents[neighbour.coords] = parents + [node]\n",
    "            queue.put(((-neighbour['thiccness'], counter), neighbour))\n",
    "            counter += 1\n",
    "            \n",
    "    return new_root\n",
    "\n",
    "\n",
    "def remove_dag_redundant_nodes(root):\n",
    "    \n",
    "    new_root = root.copy_without_edges()\n",
    "    for edge in root.edges:\n",
    "        new_neighbour = remove_dag_redundant_nodes(edge.node_b)\n",
    "        \n",
    "        if len(new_neighbour.edges) == 1:\n",
    "            merged_edge = merge_edges(edge, new_neighbour.edges[0])\n",
    "            new_root.add_edge(merged_edge)\n",
    "            \n",
    "        else:\n",
    "            new_edge = Edge(new_root, new_neighbour)\n",
    "            new_edge.data = edge.data\n",
    "            new_root.add_edge(new_edge)\n",
    "            \n",
    "    return new_root\n",
    "\n",
    "\n",
    "def get_nodes_with_dfs(root):\n",
    "    \n",
    "    nodes = [root]\n",
    "    for e in root.edges:\n",
    "        nodes += get_nodes_with_dfs(e.node_b)\n",
    "        \n",
    "    return nodes\n",
    "\n",
    "\n",
    "def get_edges_with_dfs(root):\n",
    "    \n",
    "    edges = []\n",
    "    for e in root.edges:\n",
    "        edges += [e]\n",
    "        edges += get_edges_with_dfs(e.node_b)\n",
    "        \n",
    "    return edges"
   ]
  },
  {
   "cell_type": "code",
   "execution_count": 10,
   "metadata": {},
   "outputs": [
    {
     "name": "stdout",
     "output_type": "stream",
     "text": [
      "found 1 root candidate(s)\n",
      "nodes: 2223, edges: 2222\n",
      "CPU times: user 141 ms, sys: 4.16 ms, total: 145 ms\n",
      "Wall time: 144 ms\n"
     ]
    }
   ],
   "source": [
    "%%time\n",
    "\n",
    "nodes = convert_to_nodes_list(edges)\n",
    "root_candidates = find_tree_root_candidates(nodes, 1)\n",
    "print(f'found {len(root_candidates)} root candidate(s)')\n",
    "\n",
    "root = root_candidates[0]\n",
    "clean_root = remove_dag_cycles(root)\n",
    "clean_root = remove_dag_redundant_nodes(clean_root)\n",
    "clean_nodes = get_nodes_with_dfs(clean_root)\n",
    "clean_edges = get_edges_with_dfs(clean_root)\n",
    "\n",
    "print(f'nodes: {len(clean_nodes)}, edges: {len(clean_edges)}')"
   ]
  },
  {
   "cell_type": "markdown",
   "metadata": {},
   "source": [
    "## populating with metadata"
   ]
  },
  {
   "cell_type": "code",
   "execution_count": 11,
   "metadata": {},
   "outputs": [],
   "source": [
    "def reorder_edges_voxels(edge):\n",
    "    node_voxels = [tuple(voxel) for voxel in edge.node_a['voxels']]\n",
    "    edge_voxels = [tuple(voxel) for voxel in edge['voxels']]\n",
    "    all_voxels = node_voxels + edge_voxels\n",
    "    \n",
    "    queue = [node_voxels[0]]\n",
    "    sorted_voxels = [node_voxels[0]]\n",
    "    \n",
    "    while len(queue) != 0:\n",
    "        x, y, z = queue.pop(0)\n",
    "        \n",
    "        for dx in [-1, 0, 1]:\n",
    "            for dy in [-1, 0, 1]:\n",
    "                for dz in [-1, 0, 1]:\n",
    "                    if dx == dy == dz == 0:\n",
    "                        continue\n",
    "                    \n",
    "                    neighbour = (x + dx, y + dy, z + dz)\n",
    "                    \n",
    "                    if (neighbour in sorted_voxels) or (neighbour not in all_voxels):\n",
    "                        continue\n",
    "                    \n",
    "                    sorted_voxels.append(neighbour)\n",
    "                    queue.append(neighbour)\n",
    "                    \n",
    "    sorted_edge_voxels = [voxel for voxel in sorted_voxels if voxel not in node_voxels]\n",
    "    edge['voxels'] = sorted_edge_voxels\n",
    "    \n",
    "def fix_edges_voxels(root):\n",
    "    edges = get_edges_with_dfs(root)\n",
    "    for edge in edges:\n",
    "        reorder_edges_voxels(edge)"
   ]
  },
  {
   "cell_type": "code",
   "execution_count": 12,
   "metadata": {},
   "outputs": [],
   "source": [
    "def fix_nodes_thiccness(root, thiccness_map):\n",
    "    nodes = get_nodes_with_dfs(root)\n",
    "    for node in nodes:\n",
    "        thiccness_list = [thiccness_map[tuple(coords)] for coords in node['voxels']]\n",
    "        node['thiccness'] = np.mean(thiccness_list)\n",
    "    \n",
    "\n",
    "def add_edges_thiccness(root, thiccness_map):\n",
    "    edges = get_edges_with_dfs(root)\n",
    "    for edge in edges:\n",
    "        thiccness_list = [thiccness_map[tuple(coords)] for coords in edge['voxels']]\n",
    "        edge['thiccness_list'] = np.array(thiccness_list)\n",
    "        edge['mean_thiccness'] = np.mean(thiccness_list)"
   ]
  },
  {
   "cell_type": "code",
   "execution_count": 13,
   "metadata": {},
   "outputs": [],
   "source": [
    "def set_nodes_centroids(root):\n",
    "    nodes = get_nodes_with_dfs(root)\n",
    "    for node in nodes:\n",
    "        node['centroid'] = np.mean(node['voxels'], axis=0)\n",
    "\n",
    "        \n",
    "def calculate_edge_length(edge, chunk_length=1):\n",
    "    voxels = np.array(edge['voxels'])\n",
    "    needed_nans = (chunk_length - (len(voxels) % chunk_length)) % chunk_length\n",
    "    voxels = np.concatenate([voxels, np.full((needed_nans, 3), np.nan)])\n",
    "    \n",
    "    chunked_voxels = voxels.reshape(-1, chunk_length, 3)\n",
    "    \n",
    "    edge_centroids = np.nanmean(chunked_voxels, axis=1)\n",
    "    starting_centroid = edge.node_a['centroid']\n",
    "    ending_centroid = edge.node_b['centroid']\n",
    "    \n",
    "    centroids = np.concatenate([\n",
    "        starting_centroid[np.newaxis, ...],\n",
    "        edge_centroids,\n",
    "        ending_centroid[np.newaxis, ...]\n",
    "    ])\n",
    "    \n",
    "    squared_diffs = np.diff(centroids, axis=0) ** 2\n",
    "    squared_lengths = np.sum(squared_diffs, axis=1)\n",
    "    lengths = np.sqrt(squared_lengths)\n",
    "    total_length = np.sum(lengths)\n",
    "    \n",
    "    return total_length\n",
    "    \n",
    "\n",
    "def set_edges_length(root, chunk_length=1):\n",
    "    edges = get_edges_with_dfs(root)\n",
    "    for edge in edges:\n",
    "        edge['length'] = calculate_edge_length(edge, chunk_length)"
   ]
  },
  {
   "cell_type": "code",
   "execution_count": 14,
   "metadata": {},
   "outputs": [
    {
     "name": "stdout",
     "output_type": "stream",
     "text": [
      "[[395  79 279]]\n",
      "[(394, 79, 280), (393, 80, 281), (392, 81, 281), (392, 82, 280), (391, 83, 280), (390, 84, 280), (389, 85, 280), (388, 86, 280), (387, 87, 280), (387, 88, 280), (386, 89, 280), (385, 89, 280), (384, 90, 280)]\n",
      "CPU times: user 2.03 s, sys: 44.3 ms, total: 2.08 s\n",
      "Wall time: 2.09 s\n"
     ]
    }
   ],
   "source": [
    "%%time\n",
    "fix_edges_voxels(clean_root)\n",
    "print(clean_root['voxels'])\n",
    "print(clean_root.edges[0]['voxels'])"
   ]
  },
  {
   "cell_type": "code",
   "execution_count": 15,
   "metadata": {},
   "outputs": [
    {
     "name": "stdout",
     "output_type": "stream",
     "text": [
      "CPU times: user 147 ms, sys: 3.77 ms, total: 151 ms\n",
      "Wall time: 150 ms\n"
     ]
    },
    {
     "data": {
      "text/plain": [
       "array([12., 12., 12., 12., 12., 12., 11., 11., 11., 11., 11., 11., 11.])"
      ]
     },
     "execution_count": 15,
     "metadata": {},
     "output_type": "execute_result"
    }
   ],
   "source": [
    "%%time\n",
    "fix_nodes_thiccness(clean_root, thiccness_map)\n",
    "add_edges_thiccness(clean_root, thiccness_map)\n",
    "clean_root.edges[0]['thiccness_list']"
   ]
  },
  {
   "cell_type": "code",
   "execution_count": 16,
   "metadata": {},
   "outputs": [
    {
     "name": "stdout",
     "output_type": "stream",
     "text": [
      "18.641729234073843\n",
      "CPU times: user 363 ms, sys: 7.63 ms, total: 370 ms\n",
      "Wall time: 375 ms\n"
     ]
    }
   ],
   "source": [
    "%%time\n",
    "set_nodes_centroids(clean_root)\n",
    "set_edges_length(clean_root, 2)\n",
    "print(clean_root.edges[0]['length'])"
   ]
  },
  {
   "cell_type": "markdown",
   "metadata": {},
   "source": [
    "## DAG visualization"
   ]
  },
  {
   "cell_type": "code",
   "execution_count": 17,
   "metadata": {},
   "outputs": [],
   "source": [
    "def spherical_kernel(outer_radius, thickness=1, filled=True):    \n",
    "    outer_sphere = morphology.ball(radius=outer_radius)\n",
    "    if filled:\n",
    "        return outer_sphere\n",
    "    \n",
    "    thickness = min(thickness, outer_radius)\n",
    "    \n",
    "    inner_radius = outer_radius - thickness\n",
    "    inner_sphere = morphology.ball(radius=inner_radius)\n",
    "    \n",
    "    begin = outer_radius - inner_radius\n",
    "    end = begin + inner_sphere.shape[0]\n",
    "    outer_sphere[begin:end, begin:end, begin:end] -= inner_sphere\n",
    "    return outer_sphere\n",
    "\n",
    "\n",
    "def print_kernels(image, nodes, value):\n",
    "    image = image.copy()\n",
    "    max_kernel_radius = int(max([node['thiccness'] for node in nodes]))\n",
    "    kernels = [spherical_kernel(radius) for radius in range(max_kernel_radius + 1)]\n",
    "    \n",
    "    padded_image = np.pad(image, max_kernel_radius)\n",
    "    kernels_image = np.zeros(padded_image.shape)\n",
    "    \n",
    "    for node in nodes:\n",
    "        x, y, z = (coord + max_kernel_radius for coord in node.coords)\n",
    "        kernel_radius = int(node['thiccness'])\n",
    "        kernel = kernels[kernel_radius]\n",
    "        \n",
    "        mask_slice = kernels_image[\n",
    "            x-kernel_radius:x+kernel_radius + 1,\n",
    "            y-kernel_radius:y+kernel_radius + 1,\n",
    "            z-kernel_radius:z+kernel_radius + 1\n",
    "        ]\n",
    "        \n",
    "        mask_slice[:] = np.logical_or(mask_slice, kernel)\n",
    "            \n",
    "    kernels_image = kernels_image[\n",
    "        max_kernel_radius:-max_kernel_radius,\n",
    "        max_kernel_radius:-max_kernel_radius,\n",
    "        max_kernel_radius:-max_kernel_radius\n",
    "    ]\n",
    "    \n",
    "    image[kernels_image == 1] = value\n",
    "    return image\n",
    "\n",
    "\n",
    "def draw_nodes(image, nodes, value=2):\n",
    "    nodes_image = print_kernels(image, nodes, value)\n",
    "    return nodes_image\n",
    "\n",
    "    \n",
    "def draw_edges(image, edges, value='thiccness', interpolate=True):\n",
    "    image = image.copy()\n",
    "\n",
    "    for i, edge in enumerate(edges):\n",
    "        if value == 'thiccness':\n",
    "            fill_value = edge['mean_thiccness']\n",
    "        elif value == 'length':\n",
    "            fill_value = edge['length']\n",
    "        else:\n",
    "            fill_value = value\n",
    "        \n",
    "        if interpolate:\n",
    "            image[line_nd(edge.node_a.coords, edge.node_b.coords)] = fill_value\n",
    "        else:\n",
    "            for v in edge['voxels']:\n",
    "                image[tuple(v)] = fill_value\n",
    "        \n",
    "    return image"
   ]
  },
  {
   "cell_type": "code",
   "execution_count": 18,
   "metadata": {},
   "outputs": [],
   "source": [
    "visualization = np.zeros(skeleton.shape)\n",
    "visualization = draw_nodes(visualization, clean_nodes, 15)\n",
    "visualization = draw_edges(visualization, clean_edges, value='thiccness')\n",
    "visualize_gradient(visualization)"
   ]
  },
  {
   "cell_type": "code",
   "execution_count": 19,
   "metadata": {},
   "outputs": [],
   "source": [
    "visualization = np.zeros(skeleton.shape)\n",
    "visualization = draw_edges(visualization, clean_edges, value='length')\n",
    "visualize_gradient(visualization)"
   ]
  },
  {
   "cell_type": "markdown",
   "metadata": {},
   "source": [
    "## saving DAG to file"
   ]
  },
  {
   "cell_type": "code",
   "execution_count": 20,
   "metadata": {},
   "outputs": [],
   "source": [
    "class DAG:\n",
    "    def __init__(self, root):\n",
    "        self.root = root\n",
    "        self.nodes = get_nodes_with_dfs(root)\n",
    "        self.edges = get_edges_with_dfs(root)\n",
    "        \n",
    "\n",
    "def save_dag(dag, filename):\n",
    "    with open(filename, 'wb') as output:\n",
    "        pickle.dump(dag, output)\n",
    "        \n",
    "\n",
    "def load_dag(filename):\n",
    "    with open(filename, 'rb') as input_:\n",
    "        dag = pickle.load(input_)\n",
    "        return dag"
   ]
  },
  {
   "cell_type": "code",
   "execution_count": 21,
   "metadata": {},
   "outputs": [],
   "source": [
    "clean_dag = DAG(clean_root)\n",
    "save_dag(clean_dag, f'{source_dir}/dag.pkl')"
   ]
  },
  {
   "cell_type": "markdown",
   "metadata": {},
   "source": [
    "## sample stats"
   ]
  },
  {
   "cell_type": "code",
   "execution_count": 22,
   "metadata": {},
   "outputs": [],
   "source": [
    "def get_thiccness_by_generation(root):\n",
    "    def populate_thiccness_dict(node, thiccness_dict, generation):\n",
    "        thiccness_list = thiccness_dict.get(generation, [])\n",
    "        thiccness_dict[generation] = thiccness_list + [node['thiccness']]\n",
    "        \n",
    "        for e in node.edges:\n",
    "            populate_thiccness_dict(e.node_b, thiccness_dict, generation + 1)\n",
    "            \n",
    "    thiccness_dict = {}\n",
    "    populate_thiccness_dict(root, thiccness_dict, 1)\n",
    "    \n",
    "    return thiccness_dict"
   ]
  },
  {
   "cell_type": "code",
   "execution_count": 23,
   "metadata": {},
   "outputs": [],
   "source": [
    "thiccness_dict = get_thiccness_by_generation(clean_root)"
   ]
  },
  {
   "cell_type": "code",
   "execution_count": 24,
   "metadata": {},
   "outputs": [
    {
     "data": {
      "text/plain": [
       "Text(0, 0.5, 'count')"
      ]
     },
     "execution_count": 24,
     "metadata": {},
     "output_type": "execute_result"
    },
    {
     "data": {
      "image/png": "[encoded data removed]",
      "text/plain": [
       "<Figure size 432x288 with 1 Axes>"
      ]
     },
     "metadata": {
      "needs_background": "light"
     },
     "output_type": "display_data"
    }
   ],
   "source": [
    "nodes_count = [len(v) for v in thiccness_dict.values()]\n",
    "generation_indices = list(thiccness_dict.keys())\n",
    "\n",
    "plt.bar(generation_indices, height=nodes_count)\n",
    "plt.title('bifurcations count')\n",
    "\n",
    "plt.xlabel('generation')\n",
    "plt.ylabel('count')"
   ]
  },
  {
   "cell_type": "code",
   "execution_count": 25,
   "metadata": {},
   "outputs": [
    {
     "data": {
      "text/plain": [
       "Text(0, 0.5, 'thickness')"
      ]
     },
     "execution_count": 25,
     "metadata": {},
     "output_type": "execute_result"
    },
    {
     "data": {
      "image/png": "[encoded data removed]",
      "text/plain": [
       "<Figure size 432x288 with 1 Axes>"
      ]
     },
     "metadata": {
      "needs_background": "light"
     },
     "output_type": "display_data"
    }
   ],
   "source": [
    "mean_thiccness = [np.mean(v) for v in thiccness_dict.values()]\n",
    "generation_indices = list(thiccness_dict.keys())\n",
    "\n",
    "plt.bar(generation_indices, height=mean_thiccness)\n",
    "plt.title('mean bifurcation thickness')\n",
    "\n",
    "plt.xlabel('generation')\n",
    "plt.ylabel('thickness')"
   ]
  },
  {
   "cell_type": "code",
   "execution_count": 26,
   "metadata": {},
   "outputs": [
    {
     "data": {
      "text/plain": [
       "(array([0, 1, 2, 3, 4]), array([1181,    1,  918,  107,   16]))"
      ]
     },
     "execution_count": 26,
     "metadata": {},
     "output_type": "execute_result"
    }
   ],
   "source": [
    "np.unique([len(n.edges) for n in clean_nodes], return_counts=True)"
   ]
  },
  {
   "cell_type": "markdown",
   "metadata": {},
   "source": [
    "## trash"
   ]
  },
  {
   "cell_type": "code",
   "execution_count": 27,
   "metadata": {},
   "outputs": [],
   "source": [
    "def get_main_regions(binary_mask, min_size=10_000, connectivity=3):\n",
    "    labeled = measure.label(binary_mask, connectivity=connectivity)\n",
    "    region_props = measure.regionprops(labeled)\n",
    "    \n",
    "    main_regions_masks = []\n",
    "    regions_labels = []\n",
    "    bounding_boxes = []\n",
    "    \n",
    "    for props in region_props:\n",
    "        if props.area >= min_size:\n",
    "            main_regions_masks.append(props.filled_image)\n",
    "            regions_labels.append(props.label)\n",
    "            bounding_boxes.append(props.bbox)\n",
    "            \n",
    "    return main_regions_masks, regions_labels, bounding_boxes\n",
    "\n",
    "volume = np.pad(load_volume('./data/P12/P12_60um_1333x443x864.raw', scale=0.5), 1)\n",
    "volume = volume > 70\n",
    "main_regions = get_main_regions(volume)\n",
    "mask_main = np.pad(main_regions[0][0].astype(np.uint8), 1)"
   ]
  },
  {
   "cell_type": "code",
   "execution_count": 28,
   "metadata": {},
   "outputs": [],
   "source": [
    "visualize_addition(visualization > 0, mask_main)"
   ]
  }
 ],
 "metadata": {
  "kernelspec": {
   "display_name": "Python 3",
   "language": "python",
   "name": "python3"
  },
  "language_info": {
   "codemirror_mode": {
    "name": "ipython",
    "version": 3
   },
   "file_extension": ".py",
   "mimetype": "text/x-python",
   "name": "python",
   "nbconvert_exporter": "python",
   "pygments_lexer": "ipython3",
   "version": "3.6.9"
  }
 },
 "nbformat": 4,
 "nbformat_minor": 4
}
