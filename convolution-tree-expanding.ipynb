{
 "cells": [
  {
   "cell_type": "code",
   "execution_count": 1,
   "metadata": {},
   "outputs": [],
   "source": [
    "import numpy as np\n",
    "import glob\n",
    "import matplotlib.pyplot as plt\n",
    "import cv2\n",
    "from skimage import measure, segmentation\n",
    "from vis_utils import load_volume, VolumeVisualizer\n",
    "from scipy.ndimage import zoom\n",
    "from skimage.morphology import skeletonize, skeletonize_3d\n",
    "from skimage import filters, morphology\n",
    "\n",
    "from scipy.ndimage.filters import convolve, correlate\n",
    "from scipy import signal"
   ]
  },
  {
   "cell_type": "code",
   "execution_count": 2,
   "metadata": {},
   "outputs": [
    {
     "data": {
      "text/plain": [
       "[(0, './data/P01/P01_60um_1612x623x1108.raw'),\n",
       " (1, './data/P02/P02_60um_1387x778x1149.raw'),\n",
       " (2, './data/P03/P03_60um_1473x1163x1148.raw'),\n",
       " (3, './data/P04/P04_60um_1273x466x1045.raw'),\n",
       " (4, './data/P05/P05_60um_1454x817x1102.raw'),\n",
       " (5, './data/P06/P06_60um_1425x564x1028.raw'),\n",
       " (6, './data/P07/P7_60um_1216x692x926.raw'),\n",
       " (7, './data/P08/P08_60um_1728x927x1149.raw'),\n",
       " (8, './data/P09/P09_60um_1359x456x1040.raw'),\n",
       " (9, './data/P10/P10_60um_1339x537x1035.raw'),\n",
       " (10, './data/P11/P11_60um_1735x595x1150.raw'),\n",
       " (11, './data/P12/P12_60um_1333x443x864.raw'),\n",
       " (12, './data/P13/P13_60um_1132x488x877.raw'),\n",
       " (13, './data/P14/P14_60um_1927x746x1124.raw'),\n",
       " (14, './data/P15/P15_60um_1318x640x1059.raw'),\n",
       " (15, './data/P16/P16_60um_1558x687x1084.raw'),\n",
       " (16, './data/P17/P17_60um_1573x555x968.raw'),\n",
       " (17, './data/P320/320_60um_1739x553x960.raw'),\n",
       " (18, './data/P333/333_60um_1762x989x1095.raw'),\n",
       " (19, './data/P73/73_60um_1729x854x1143.raw')]"
      ]
     },
     "execution_count": 2,
     "metadata": {},
     "output_type": "execute_result"
    }
   ],
   "source": [
    "source_dir = './data/'\n",
    "files = list(sorted(glob.glob(source_dir + '/*/*.raw')))\n",
    "list(enumerate(files))"
   ]
  },
  {
   "cell_type": "code",
   "execution_count": 3,
   "metadata": {},
   "outputs": [
    {
     "name": "stdout",
     "output_type": "stream",
     "text": [
      "CPU times: user 4.62 s, sys: 833 ms, total: 5.45 s\n",
      "Wall time: 21.4 s\n"
     ]
    }
   ],
   "source": [
    "%%time\n",
    "volume = load_volume(files[11], scale=0.5)\n",
    "visualizer = VolumeVisualizer(volume, binary=False).visualize()"
   ]
  },
  {
   "cell_type": "markdown",
   "metadata": {},
   "source": [
    "## simple threshold segmentation"
   ]
  },
  {
   "cell_type": "code",
   "execution_count": 4,
   "metadata": {},
   "outputs": [],
   "source": [
    "threshold = 70\n",
    "mask_raw = volume > threshold\n",
    "\n",
    "VolumeVisualizer(mask_raw).visualize()"
   ]
  },
  {
   "cell_type": "code",
   "execution_count": 7,
   "metadata": {},
   "outputs": [],
   "source": [
    "def get_main_regions(binary_mask, min_size=10_000, connectivity=3):\n",
    "    labeled = measure.label(binary_mask, connectivity=connectivity)\n",
    "    region_props = measure.regionprops(labeled)\n",
    "    \n",
    "    main_regions_masks = []\n",
    "    \n",
    "    for props in region_props:\n",
    "        if props.area >= min_size:\n",
    "            main_regions_masks.append((props.filled_image, props.bbox))\n",
    "            \n",
    "    return main_regions_masks\n",
    "\n",
    "def merge_masks(masks, img_shape):\n",
    "    result_mask = np.zeros(img_shape, dtype=np.uint8)\n",
    "    for mask, bbox in masks:\n",
    "        min1, min2, min3, max1, max2, max3 = bbox\n",
    "        result_mask[min1:max1, min2:max2, min3:max3] += mask.astype(np.uint8)\n",
    "        \n",
    "    return result_mask"
   ]
  },
  {
   "cell_type": "code",
   "execution_count": 9,
   "metadata": {},
   "outputs": [
    {
     "name": "stdout",
     "output_type": "stream",
     "text": [
      "CPU times: user 7.78 s, sys: 1.36 s, total: 9.14 s\n",
      "Wall time: 9.99 s\n"
     ]
    }
   ],
   "source": [
    "%%time\n",
    "main_regions_masks = get_main_regions(mask_raw, min_size=5_000, connectivity=1)"
   ]
  },
  {
   "cell_type": "code",
   "execution_count": 11,
   "metadata": {},
   "outputs": [],
   "source": [
    "mask = main_regions_masks[0][0]\n",
    "VolumeVisualizer(mask).visualize()"
   ]
  },
  {
   "cell_type": "markdown",
   "metadata": {},
   "source": [
    "## utility functions"
   ]
  },
  {
   "cell_type": "code",
   "execution_count": 59,
   "metadata": {},
   "outputs": [],
   "source": [
    "def spherical_kernel(outer_radius, thickness=1, filled=True):\n",
    "   \n",
    "    inner_radius = outer_radius - thickness\n",
    "    \n",
    "    outer_sphere = morphology.ball(radius=outer_radius)\n",
    "    if filled:\n",
    "        return outer_sphere\n",
    "    \n",
    "    inner_sphere = morphology.ball(radius=inner_radius)\n",
    "    \n",
    "    begin = outer_radius - inner_radius\n",
    "    end = begin + inner_sphere.shape[0]\n",
    "    \n",
    "    outer_sphere[begin:end, begin:end, begin:end] -= inner_sphere\n",
    "    return outer_sphere\n",
    "\n",
    "def convolve_with_ball(mask, ball_radius, dtype=np.uint16):\n",
    "    kernel = spherical_kernel(ball_radius, filled=True)\n",
    "    return signal.convolve(mask.astype(dtype), kernel.astype(dtype), mode='same')\n",
    "\n",
    "def get_arterial_regions(conv_img, lower_hist_fraction, upper_hist_fraction):\n",
    "    upper_hist_value = upper_hist_fraction * conv_img.max()\n",
    "    lower_hist_value = lower_hist_fraction * conv_img.max()\n",
    "    return filters.apply_hysteresis_threshold(conv_img, lower_hist_value, upper_hist_value)\n",
    "\n",
    "def reconstruct_from_skeleton(skeleton, ball_radius):\n",
    "    \n",
    "    print(skeleton.shape)\n",
    "    \n",
    "    mask = np.zeros(skeleton.shape, dtype=np.uint8)\n",
    "    mask = np.pad(mask, ball_radius)\n",
    "    \n",
    "    kernel = spherical_kernel(ball_radius, filled=True)\n",
    "    central_points = np.argwhere(skeleton == 1)\n",
    "    \n",
    "    for central_point in central_points:\n",
    "        start_corner = tuple(central_point)\n",
    "        end_corner = tuple(central_point + 2*ball_radius + 1)\n",
    "        \n",
    "        start1, start2, start3 = start_corner\n",
    "        end1, end2, end3 = end_corner\n",
    "        \n",
    "        mask_slice = mask[start1:end1, start2:end2, start3:end3]\n",
    "        mask_slice[:] = np.logical_or(mask_slice, kernel)\n",
    "        \n",
    "    print(mask.shape)\n",
    "        \n",
    "    return mask[ball_radius:-ball_radius, ball_radius:-ball_radius, ball_radius:-ball_radius]\n",
    "\n",
    "# high level functions\n",
    "\n",
    "def get_tree_core(tree_mask, kernel_radius, max_fraction):\n",
    "    convolved_mask = convolve_with_ball(tree_mask, kernel_radius)\n",
    "    core_voxels = convolved_mask > max_fraction * convolved_mask.max()\n",
    "    core_skeleton = skeletonize_3d(core_voxels.astype(np.uint8))\n",
    "    core_reconstruction = reconstruct_from_skeleton(core_skeleton, kernel_radius)\n",
    "    \n",
    "    return core_reconstruction\n",
    "\n",
    "def expand_tree_reconstruction(tree_mask, reconstruction, kernel_radius, max_fraction):\n",
    "    convolved_mask = convolve_with_ball(tree_mask, kernel_radius)\n",
    "    \n",
    "    convolved_max = convolved_mask.max()\n",
    "    threshold_value = int(max_fraction * convolved_max)\n",
    "    \n",
    "    # set current reconstruction to infinity\n",
    "    convolved_mask += reconstruction * (convolved_max + 2)\n",
    "    \n",
    "#     return convolved_mask\n",
    "    \n",
    "    return filters.apply_hysteresis_threshold(convolved_mask, threshold_value, convolved_max + 1)"
   ]
  },
  {
   "cell_type": "code",
   "execution_count": 40,
   "metadata": {},
   "outputs": [
    {
     "name": "stdout",
     "output_type": "stream",
     "text": [
      "(411, 196, 645)\n",
      "(451, 236, 685)\n",
      "CPU times: user 8.48 s, sys: 3.18 s, total: 11.7 s\n",
      "Wall time: 12.4 s\n"
     ]
    }
   ],
   "source": [
    "%%time\n",
    "core_rec = get_tree_core(mask, 20, 0.95)"
   ]
  },
  {
   "cell_type": "code",
   "execution_count": 41,
   "metadata": {},
   "outputs": [],
   "source": [
    "VolumeVisualizer(np.logical_or(core_rec, mask)).visualize()"
   ]
  },
  {
   "cell_type": "code",
   "execution_count": 64,
   "metadata": {},
   "outputs": [
    {
     "name": "stdout",
     "output_type": "stream",
     "text": [
      "CPU times: user 7.08 s, sys: 3.98 s, total: 11.1 s\n",
      "Wall time: 12.4 s\n"
     ]
    }
   ],
   "source": [
    "%%time\n",
    "rec = expand_tree_reconstruction(mask, core_rec, kernel_radius=10, max_fraction=0.2)"
   ]
  },
  {
   "cell_type": "code",
   "execution_count": 65,
   "metadata": {},
   "outputs": [],
   "source": [
    "VolumeVisualizer(rec).visualize()"
   ]
  }
 ],
 "metadata": {
  "kernelspec": {
   "display_name": "env-med",
   "language": "python",
   "name": "env-med"
  },
  "language_info": {
   "codemirror_mode": {
    "name": "ipython",
    "version": 3
   },
   "file_extension": ".py",
   "mimetype": "text/x-python",
   "name": "python",
   "nbconvert_exporter": "python",
   "pygments_lexer": "ipython3",
   "version": "3.6.9"
  }
 },
 "nbformat": 4,
 "nbformat_minor": 4
}
