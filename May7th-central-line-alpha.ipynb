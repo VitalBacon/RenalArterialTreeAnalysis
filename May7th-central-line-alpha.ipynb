{
 "cells": [
  {
   "cell_type": "code",
   "execution_count": 1,
   "metadata": {},
   "outputs": [],
   "source": [
    "import numpy as np\n",
    "import glob\n",
    "import matplotlib.pyplot as plt\n",
    "import cv2\n",
    "from skimage import measure, segmentation\n",
    "from vis_utils import load_volume, VolumeVisualizer, ColorMapVisualizer\n",
    "from scipy.ndimage import zoom\n",
    "from skimage.morphology import skeletonize, skeletonize_3d\n",
    "\n",
    "from skimage import filters, morphology\n",
    "\n",
    "from scipy.ndimage.filters import convolve, correlate\n",
    "from scipy import signal\n",
    "\n",
    "from skimage.filters import frangi, sato\n",
    "\n",
    "from PIL import Image\n",
    "import pickle"
   ]
  },
  {
   "cell_type": "code",
   "execution_count": 2,
   "metadata": {
    "scrolled": true
   },
   "outputs": [
    {
     "data": {
      "text/plain": [
       "[(0, './data/P01_60um_1612x623x1108.raw'),\n",
       " (1, './data/P12_60um_1333x443x864.raw')]"
      ]
     },
     "execution_count": 2,
     "metadata": {},
     "output_type": "execute_result"
    }
   ],
   "source": [
    "source_dir = './data/'\n",
    "files = list(sorted(glob.glob(source_dir + '/*.raw')))\n",
    "list(enumerate(files))"
   ]
  },
  {
   "cell_type": "code",
   "execution_count": 3,
   "metadata": {},
   "outputs": [
    {
     "name": "stdout",
     "output_type": "stream",
     "text": [
      "CPU times: user 2.86 s, sys: 1.39 s, total: 4.25 s\n",
      "Wall time: 4.93 s\n"
     ]
    },
    {
     "data": {
      "text/plain": [
       "(554, 312, 806)"
      ]
     },
     "execution_count": 3,
     "metadata": {},
     "output_type": "execute_result"
    }
   ],
   "source": [
    "%%time\n",
    "mask = load_volume(files[0], scale=0.5)\n",
    "mask.shape"
   ]
  },
  {
   "cell_type": "code",
   "execution_count": 4,
   "metadata": {},
   "outputs": [],
   "source": [
    "threshold = 20\n",
    "mask = mask > threshold\n",
    "# VolumeVisualizer(mask, binary=True).visualize()"
   ]
  },
  {
   "cell_type": "markdown",
   "metadata": {},
   "source": [
    "## Utility functions"
   ]
  },
  {
   "cell_type": "markdown",
   "metadata": {},
   "source": [
    "### Visualisation functions"
   ]
  },
  {
   "cell_type": "code",
   "execution_count": 2,
   "metadata": {},
   "outputs": [],
   "source": [
    "def visualize_addition(base, base_with_addition):\n",
    "    base = (base.copy() > 0).astype(np.uint8)\n",
    "    addition = (base_with_addition > 0).astype(np.uint8)\n",
    "    addition[base == 1] = 0\n",
    "    ColorMapVisualizer(base + addition * 2).visualize()\n",
    "    \n",
    "def visualize_lsd(lsd_mask):\n",
    "    ColorMapVisualizer(lsd_mask.astype(np.uint8)).visualize()\n",
    "    \n",
    "def visualize_mask_bin(mask):\n",
    "    VolumeVisualizer((mask > 0).astype(np.uint8), binary=True).visualize()\n",
    "    \n",
    "def visualize_mask_non_bin(mask):\n",
    "    VolumeVisualizer((mask > 0).astype(np.uint8) * 255, binary=False).visualize()\n",
    "    \n",
    "def visualize_skeleton(mask, visualize_mask=True, visualize_both_versions=False):\n",
    "    skeleton = skeletonize_3d((mask > 0).astype(np.uint8))\n",
    "    if not visualize_mask or visualize_both_versions:\n",
    "        VolumeVisualizer(skeleton, binary=True).visualize()\n",
    "    if visualize_mask or visualize_both_versions:\n",
    "        skeleton = skeleton.astype(np.uint8) * 4\n",
    "        mask = (mask > 0).astype(np.uint8) * 3\n",
    "        mask[skeleton != 0] = 0\n",
    "        ColorMapVisualizer(skeleton + mask).visualize()\n",
    "\n",
    "def visualize_ultimate(lsd, base_mask):\n",
    "    visualize_lsd(lsd)\n",
    "    visualize_mask_non_bin(lsd)\n",
    "    visualize_addition(base_mask, lsd)\n",
    "    visualize_skeleton(lsd, visualize_mask=True)"
   ]
  },
  {
   "cell_type": "code",
   "execution_count": 3,
   "metadata": {},
   "outputs": [],
   "source": [
    "def spherical_kernel(outer_radius, thickness=1, filled=True):    \n",
    "    outer_sphere = morphology.ball(radius=outer_radius)\n",
    "    if filled:\n",
    "        return outer_sphere\n",
    "    \n",
    "    inner_radius = outer_radius - thickness\n",
    "    inner_sphere = morphology.ball(radius=inner_radius)\n",
    "    \n",
    "    begin = outer_radius - inner_radius\n",
    "    end = begin + inner_sphere.shape[0]\n",
    "    outer_sphere[begin:end, begin:end, begin:end] -= inner_sphere\n",
    "    return outer_sphere\n",
    "\n",
    "def convolve_with_ball(img, ball_radius, dtype=np.uint16, normalize=True):\n",
    "    kernel = spherical_kernel(ball_radius, filled=True)\n",
    "    convolved = signal.convolve(img.astype(dtype), kernel.astype(dtype), mode='same')\n",
    "    \n",
    "    if not normalize:\n",
    "        return convolved\n",
    "    \n",
    "    return (convolved / kernel.sum()).astype(np.float16)\n",
    "\n",
    "\n",
    "def get_main_regions(binary_mask, min_size=10_000, connectivity=3):\n",
    "    labeled = measure.label(binary_mask, connectivity=connectivity)\n",
    "    region_props = measure.regionprops(labeled)\n",
    "    \n",
    "    main_regions_masks = []\n",
    "    \n",
    "    for props in region_props:\n",
    "        if props.area >= min_size:\n",
    "            main_regions_masks.append((props.filled_image, props.bbox))\n",
    "            \n",
    "    return main_regions_masks"
   ]
  },
  {
   "cell_type": "code",
   "execution_count": 4,
   "metadata": {},
   "outputs": [],
   "source": [
    "def annihilate_jemiolas(mask, kernel_sizes=[10, 9, 8], fill_threshold=0.5, iters=1, conv_dtype=np.uint16):\n",
    "\n",
    "    kernel_sizes_maps = []\n",
    "    mask = mask.astype(np.uint8)\n",
    "    \n",
    "    for i in range(iters):\n",
    "        kernel_size_map = np.zeros(mask.shape, dtype=np.uint8)\n",
    "        best_fill_percentage = np.zeros(mask.shape, dtype=np.float16)\n",
    "\n",
    "        for kernel_size in kernel_sizes:\n",
    "            fill_percentage = convolve_with_ball(mask, kernel_size, dtype=conv_dtype, normalize=True)\n",
    "            better_fill_indices = fill_percentage > best_fill_percentage\n",
    "            kernel_size_map[better_fill_indices] = kernel_size\n",
    "            best_fill_percentage[better_fill_indices] = fill_percentage[better_fill_indices]\n",
    "            print(f'Iteration {i + 1} kernel {kernel_size} done')\n",
    "\n",
    "        kernel_size_map *= best_fill_percentage > fill_threshold\n",
    "        kernel_sizes_maps.append(kernel_size_map)\n",
    "        mask = np.minimum(kernel_size_map + mask, 1).astype(np.uint8)        \n",
    "        print(f'Iteration {i + 1} ended successfully')\n",
    "\n",
    "    return kernel_sizes_maps"
   ]
  },
  {
   "cell_type": "code",
   "execution_count": 5,
   "metadata": {},
   "outputs": [],
   "source": [
    "def annihilate_jemiolas_faster(mask, kernel_sizes=[10, 9, 8], fill_threshold=0.5, iters=1, conv_dtype=np.uint16):\n",
    "\n",
    "    kernel_sizes_maps = []\n",
    "    mask = mask.astype(np.uint8)\n",
    "    \n",
    "    for i in range(iters):\n",
    "        kernel_size_map = np.zeros(mask.shape, dtype=np.uint8)\n",
    "\n",
    "        for kernel_size in kernel_sizes:\n",
    "            fill_percentage = convolve_with_ball(mask, kernel_size, dtype=conv_dtype, normalize=True)\n",
    "            \n",
    "            above_threshold_fill_indices = fill_percentage > fill_threshold\n",
    "            kernel_size_map[above_threshold_fill_indices] = kernel_size\n",
    "\n",
    "            mask[above_threshold_fill_indices] = 1\n",
    "            \n",
    "            print(f'Iteration {i + 1} kernel {kernel_size} done')\n",
    "\n",
    "        kernel_sizes_maps.append(kernel_size_map)\n",
    "        print(f'Iteration {i + 1} ended successfully')\n",
    "\n",
    "    return kernel_sizes_maps"
   ]
  },
  {
   "cell_type": "markdown",
   "metadata": {},
   "source": [
    "## Main region extraction"
   ]
  },
  {
   "cell_type": "code",
   "execution_count": 9,
   "metadata": {},
   "outputs": [],
   "source": [
    "mask_main = get_main_regions(mask)[0][0].astype(np.uint8)\n",
    "# VolumeVisualizer(mask_main, binary=True).visualize()\n",
    "# VolumeVisualizer(skeletonize_3d(mask_main.astype(np.uint8)), binary=True).visualize()"
   ]
  },
  {
   "cell_type": "markdown",
   "metadata": {},
   "source": [
    "# Fun"
   ]
  },
  {
   "cell_type": "code",
   "execution_count": 17,
   "metadata": {},
   "outputs": [],
   "source": [
    "def central_annihilation(mask, kernel_sizes=[10, 9, 8], fill_threshold=0.8, conv_dtype=np.uint16):\n",
    "\n",
    "#     kernel_sizes_maps = []\n",
    "    mask = mask.astype(np.uint8)\n",
    "    \n",
    "#     for i in range(iters):\n",
    "    kernel_size_map = np.zeros(mask.shape, dtype=np.uint8)\n",
    "    best_fill_percentage = np.zeros(mask.shape, dtype=np.float16)\n",
    "\n",
    "    for kernel_size in sorted(kernel_sizes):\n",
    "        fill_percentage = convolve_with_ball(mask, kernel_size, dtype=conv_dtype, normalize=True)\n",
    "        \n",
    "        above_threshold_fill_indices = fill_percentage >= fill_threshold\n",
    "        \n",
    "        kernel_size_map[above_threshold_fill_indices] = kernel_size if kernel_size != 0 else 30\n",
    "        \n",
    "        best_fill_percentage[above_threshold_fill_indices] = fill_percentage[above_threshold_fill_indices]\n",
    "        \n",
    "        print(f'Kernel {kernel_size} done')\n",
    "\n",
    "#     kernel_size_map *= best_fill_percentage > fill_threshold\n",
    "\n",
    "    return kernel_size_map, best_fill_percentage"
   ]
  },
  {
   "cell_type": "code",
   "execution_count": 7,
   "metadata": {},
   "outputs": [],
   "source": [
    "with open('./filled_trees/P01/lsd_1st_to_6tf_faster.trees', 'rb') as f:\n",
    "    lsd_trees = pickle.load(f)\n",
    "\n",
    "best_filled_tree = (lsd_trees[-1] > 0).astype(np.uint8)"
   ]
  },
  {
   "cell_type": "code",
   "execution_count": 8,
   "metadata": {},
   "outputs": [],
   "source": [
    "lsd_trees = []"
   ]
  },
  {
   "cell_type": "code",
   "execution_count": 18,
   "metadata": {},
   "outputs": [
    {
     "name": "stdout",
     "output_type": "stream",
     "text": [
      "Kernel 0 done\n",
      "Kernel 1 done\n",
      "Kernel 2 done\n"
     ]
    }
   ],
   "source": [
    "kernel_size_map, best_fill_percentage = central_annihilation(best_filled_tree, kernel_sizes=range(0, 3), fill_threshold=1)"
   ]
  },
  {
   "cell_type": "code",
   "execution_count": 19,
   "metadata": {},
   "outputs": [],
   "source": [
    "visualize_lsd(kernel_size_map)"
   ]
  },
  {
   "cell_type": "code",
   "execution_count": 13,
   "metadata": {},
   "outputs": [],
   "source": [
    "visualize_addition(kernel_size_map, best_filled_tree)"
   ]
  },
  {
   "cell_type": "code",
   "execution_count": 14,
   "metadata": {},
   "outputs": [
    {
     "data": {
      "text/plain": [
       "array([[[1]]], dtype=uint8)"
      ]
     },
     "execution_count": 14,
     "metadata": {},
     "output_type": "execute_result"
    }
   ],
   "source": [
    "spherical_kernel(0, filled=True)"
   ]
  },
  {
   "cell_type": "code",
   "execution_count": null,
   "metadata": {},
   "outputs": [],
   "source": []
  },
  {
   "cell_type": "code",
   "execution_count": null,
   "metadata": {},
   "outputs": [],
   "source": []
  },
  {
   "cell_type": "code",
   "execution_count": 12,
   "metadata": {},
   "outputs": [],
   "source": [
    "with open('./filled_trees/P01/lsd_1st_to_6tf_faster.trees', 'rb') as f:\n",
    "    lsd_trees = pickle.load(f)"
   ]
  },
  {
   "cell_type": "code",
   "execution_count": 16,
   "metadata": {},
   "outputs": [],
   "source": [
    "visualize_mask_non_bin(mask_main)"
   ]
  },
  {
   "cell_type": "code",
   "execution_count": 13,
   "metadata": {},
   "outputs": [],
   "source": [
    "best_filled_tree = lsd_trees[-1]"
   ]
  },
  {
   "cell_type": "code",
   "execution_count": 18,
   "metadata": {},
   "outputs": [],
   "source": [
    "visualize_mask_non_bin(best_filled_tree)"
   ]
  },
  {
   "cell_type": "code",
   "execution_count": 19,
   "metadata": {},
   "outputs": [],
   "source": [
    "visualize_addition(mask_main, best_filled_tree)"
   ]
  },
  {
   "cell_type": "code",
   "execution_count": 14,
   "metadata": {},
   "outputs": [],
   "source": [
    "visualize_skeleton(best_filled_tree)"
   ]
  },
  {
   "cell_type": "code",
   "execution_count": null,
   "metadata": {},
   "outputs": [],
   "source": []
  },
  {
   "cell_type": "code",
   "execution_count": 10,
   "metadata": {
    "scrolled": true
   },
   "outputs": [
    {
     "name": "stdout",
     "output_type": "stream",
     "text": [
      "Iteration 1 kernel 1 done\n",
      "Iteration 1 kernel 2 done\n",
      "Iteration 1 kernel 3 done\n",
      "Iteration 1 kernel 4 done\n",
      "Iteration 1 kernel 5 done\n",
      "Iteration 1 kernel 6 done\n",
      "Iteration 1 kernel 7 done\n",
      "Iteration 1 kernel 8 done\n",
      "Iteration 1 kernel 9 done\n",
      "Iteration 1 kernel 10 done\n",
      "Iteration 1 kernel 11 done\n",
      "Iteration 1 kernel 12 done\n",
      "Iteration 1 ended successfully\n",
      "Iteration 2 kernel 1 done\n",
      "Iteration 2 kernel 2 done\n",
      "Iteration 2 kernel 3 done\n",
      "Iteration 2 kernel 4 done\n",
      "Iteration 2 kernel 5 done\n",
      "Iteration 2 kernel 6 done\n",
      "Iteration 2 kernel 7 done\n",
      "Iteration 2 kernel 8 done\n",
      "Iteration 2 kernel 9 done\n",
      "Iteration 2 kernel 10 done\n",
      "Iteration 2 kernel 11 done\n",
      "Iteration 2 kernel 12 done\n",
      "Iteration 2 ended successfully\n",
      "Iteration 3 kernel 1 done\n",
      "Iteration 3 kernel 2 done\n",
      "Iteration 3 kernel 3 done\n",
      "Iteration 3 kernel 4 done\n",
      "Iteration 3 kernel 5 done\n",
      "Iteration 3 kernel 6 done\n",
      "Iteration 3 kernel 7 done\n",
      "Iteration 3 kernel 8 done\n",
      "Iteration 3 kernel 9 done\n",
      "Iteration 3 kernel 10 done\n",
      "Iteration 3 kernel 11 done\n",
      "Iteration 3 kernel 12 done\n",
      "Iteration 3 ended successfully\n",
      "Iteration 4 kernel 1 done\n",
      "Iteration 4 kernel 2 done\n",
      "Iteration 4 kernel 3 done\n",
      "Iteration 4 kernel 4 done\n",
      "Iteration 4 kernel 5 done\n",
      "Iteration 4 kernel 6 done\n",
      "Iteration 4 kernel 7 done\n",
      "Iteration 4 kernel 8 done\n",
      "Iteration 4 kernel 9 done\n",
      "Iteration 4 kernel 10 done\n",
      "Iteration 4 kernel 11 done\n",
      "Iteration 4 kernel 12 done\n",
      "Iteration 4 ended successfully\n",
      "Iteration 5 kernel 1 done\n",
      "Iteration 5 kernel 2 done\n",
      "Iteration 5 kernel 3 done\n",
      "Iteration 5 kernel 4 done\n",
      "Iteration 5 kernel 5 done\n",
      "Iteration 5 kernel 6 done\n",
      "Iteration 5 kernel 7 done\n",
      "Iteration 5 kernel 8 done\n",
      "Iteration 5 kernel 9 done\n",
      "Iteration 5 kernel 10 done\n",
      "Iteration 5 kernel 11 done\n",
      "Iteration 5 kernel 12 done\n",
      "Iteration 5 ended successfully\n",
      "Iteration 6 kernel 1 done\n",
      "Iteration 6 kernel 2 done\n",
      "Iteration 6 kernel 3 done\n",
      "Iteration 6 kernel 4 done\n",
      "Iteration 6 kernel 5 done\n",
      "Iteration 6 kernel 6 done\n",
      "Iteration 6 kernel 7 done\n",
      "Iteration 6 kernel 8 done\n",
      "Iteration 6 kernel 9 done\n",
      "Iteration 6 kernel 10 done\n",
      "Iteration 6 kernel 11 done\n",
      "Iteration 6 kernel 12 done\n",
      "Iteration 6 ended successfully\n"
     ]
    }
   ],
   "source": [
    "lsd_trees = annihilate_jemiolas_faster(mask_main, list(range(1, 13)), iters=6)"
   ]
  },
  {
   "cell_type": "code",
   "execution_count": null,
   "metadata": {},
   "outputs": [],
   "source": []
  },
  {
   "cell_type": "code",
   "execution_count": 9,
   "metadata": {},
   "outputs": [
    {
     "name": "stdout",
     "output_type": "stream",
     "text": [
      "Iteration 1 kernel 1 done\n",
      "Iteration 1 kernel 2 done\n",
      "Iteration 1 kernel 3 done\n",
      "Iteration 1 kernel 4 done\n",
      "Iteration 1 kernel 5 done\n",
      "Iteration 1 kernel 6 done\n",
      "Iteration 1 kernel 7 done\n",
      "Iteration 1 kernel 8 done\n",
      "Iteration 1 kernel 9 done\n",
      "Iteration 1 kernel 10 done\n",
      "Iteration 1 kernel 11 done\n",
      "Iteration 1 kernel 12 done\n",
      "Iteration 1 ended successfully\n",
      "Iteration 2 kernel 1 done\n",
      "Iteration 2 kernel 2 done\n",
      "Iteration 2 kernel 3 done\n",
      "Iteration 2 kernel 4 done\n",
      "Iteration 2 kernel 5 done\n",
      "Iteration 2 kernel 6 done\n",
      "Iteration 2 kernel 7 done\n",
      "Iteration 2 kernel 8 done\n",
      "Iteration 2 kernel 9 done\n",
      "Iteration 2 kernel 10 done\n",
      "Iteration 2 kernel 11 done\n",
      "Iteration 2 kernel 12 done\n",
      "Iteration 2 ended successfully\n",
      "Iteration 3 kernel 1 done\n",
      "Iteration 3 kernel 2 done\n",
      "Iteration 3 kernel 3 done\n",
      "Iteration 3 kernel 4 done\n",
      "Iteration 3 kernel 5 done\n",
      "Iteration 3 kernel 6 done\n",
      "Iteration 3 kernel 7 done\n",
      "Iteration 3 kernel 8 done\n",
      "Iteration 3 kernel 9 done\n",
      "Iteration 3 kernel 10 done\n",
      "Iteration 3 kernel 11 done\n",
      "Iteration 3 kernel 12 done\n",
      "Iteration 3 ended successfully\n",
      "Iteration 4 kernel 1 done\n",
      "Iteration 4 kernel 2 done\n",
      "Iteration 4 kernel 3 done\n",
      "Iteration 4 kernel 4 done\n",
      "Iteration 4 kernel 5 done\n",
      "Iteration 4 kernel 6 done\n",
      "Iteration 4 kernel 7 done\n",
      "Iteration 4 kernel 8 done\n",
      "Iteration 4 kernel 9 done\n",
      "Iteration 4 kernel 10 done\n",
      "Iteration 4 kernel 11 done\n",
      "Iteration 4 kernel 12 done\n",
      "Iteration 4 ended successfully\n",
      "Iteration 5 kernel 1 done\n",
      "Iteration 5 kernel 2 done\n",
      "Iteration 5 kernel 3 done\n",
      "Iteration 5 kernel 4 done\n",
      "Iteration 5 kernel 5 done\n",
      "Iteration 5 kernel 6 done\n",
      "Iteration 5 kernel 7 done\n",
      "Iteration 5 kernel 8 done\n",
      "Iteration 5 kernel 9 done\n",
      "Iteration 5 kernel 10 done\n",
      "Iteration 5 kernel 11 done\n",
      "Iteration 5 kernel 12 done\n",
      "Iteration 5 ended successfully\n",
      "Iteration 6 kernel 1 done\n",
      "Iteration 6 kernel 2 done\n",
      "Iteration 6 kernel 3 done\n",
      "Iteration 6 kernel 4 done\n",
      "Iteration 6 kernel 5 done\n",
      "Iteration 6 kernel 6 done\n",
      "Iteration 6 kernel 7 done\n",
      "Iteration 6 kernel 8 done\n",
      "Iteration 6 kernel 9 done\n",
      "Iteration 6 kernel 10 done\n",
      "Iteration 6 kernel 11 done\n",
      "Iteration 6 kernel 12 done\n",
      "Iteration 6 ended successfully\n",
      "Iteration 7 kernel 1 done\n",
      "Iteration 7 kernel 2 done\n",
      "Iteration 7 kernel 3 done\n",
      "Iteration 7 kernel 4 done\n",
      "Iteration 7 kernel 5 done\n",
      "Iteration 7 kernel 6 done\n",
      "Iteration 7 kernel 7 done\n",
      "Iteration 7 kernel 8 done\n",
      "Iteration 7 kernel 9 done\n",
      "Iteration 7 kernel 10 done\n",
      "Iteration 7 kernel 11 done\n",
      "Iteration 7 kernel 12 done\n",
      "Iteration 7 ended successfully\n",
      "Iteration 8 kernel 1 done\n",
      "Iteration 8 kernel 2 done\n",
      "Iteration 8 kernel 3 done\n",
      "Iteration 8 kernel 4 done\n",
      "Iteration 8 kernel 5 done\n",
      "Iteration 8 kernel 6 done\n",
      "Iteration 8 kernel 7 done\n",
      "Iteration 8 kernel 8 done\n",
      "Iteration 8 kernel 9 done\n",
      "Iteration 8 kernel 10 done\n",
      "Iteration 8 kernel 11 done\n",
      "Iteration 8 kernel 12 done\n",
      "Iteration 8 ended successfully\n",
      "Iteration 9 kernel 1 done\n",
      "Iteration 9 kernel 2 done\n",
      "Iteration 9 kernel 3 done\n",
      "Iteration 9 kernel 4 done\n",
      "Iteration 9 kernel 5 done\n",
      "Iteration 9 kernel 6 done\n",
      "Iteration 9 kernel 7 done\n",
      "Iteration 9 kernel 8 done\n",
      "Iteration 9 kernel 9 done\n",
      "Iteration 9 kernel 10 done\n",
      "Iteration 9 kernel 11 done\n",
      "Iteration 9 kernel 12 done\n",
      "Iteration 9 ended successfully\n",
      "Iteration 10 kernel 1 done\n",
      "Iteration 10 kernel 2 done\n",
      "Iteration 10 kernel 3 done\n",
      "Iteration 10 kernel 4 done\n",
      "Iteration 10 kernel 5 done\n",
      "Iteration 10 kernel 6 done\n",
      "Iteration 10 kernel 7 done\n",
      "Iteration 10 kernel 8 done\n",
      "Iteration 10 kernel 9 done\n",
      "Iteration 10 kernel 10 done\n",
      "Iteration 10 kernel 11 done\n",
      "Iteration 10 kernel 12 done\n",
      "Iteration 10 ended successfully\n"
     ]
    }
   ],
   "source": [
    "lsd_trees = annihilate_jemiolas(mask_main, list(range(1, 13)), iters=10)"
   ]
  },
  {
   "cell_type": "code",
   "execution_count": 10,
   "metadata": {},
   "outputs": [
    {
     "data": {
      "text/plain": [
       "10"
      ]
     },
     "execution_count": 10,
     "metadata": {},
     "output_type": "execute_result"
    }
   ],
   "source": [
    "len(lsd_trees)"
   ]
  },
  {
   "cell_type": "code",
   "execution_count": 12,
   "metadata": {},
   "outputs": [],
   "source": [
    "pickle.dump(lsd_trees, open( \"lsd_1st_to_6tf_faster.trees\", \"wb\" ) )"
   ]
  },
  {
   "cell_type": "code",
   "execution_count": 11,
   "metadata": {},
   "outputs": [],
   "source": [
    "visualize_ultimate(lsd_trees[-1], mask_main)"
   ]
  },
  {
   "cell_type": "code",
   "execution_count": null,
   "metadata": {},
   "outputs": [],
   "source": []
  },
  {
   "cell_type": "code",
   "execution_count": 16,
   "metadata": {},
   "outputs": [],
   "source": [
    "with open('lsd_1st_to_6tf_faster', 'rb') as f:\n",
    "    lsd_trees = pickle.load(f)"
   ]
  },
  {
   "cell_type": "code",
   "execution_count": 10,
   "metadata": {},
   "outputs": [],
   "source": [
    "latest_lsd_tree = lsd_trees[-1]"
   ]
  },
  {
   "cell_type": "code",
   "execution_count": 11,
   "metadata": {},
   "outputs": [],
   "source": [
    "lsd_trees = []"
   ]
  },
  {
   "cell_type": "code",
   "execution_count": 12,
   "metadata": {
    "scrolled": true
   },
   "outputs": [
    {
     "name": "stdout",
     "output_type": "stream",
     "text": [
      "Iteration 1 kernel 1 done\n",
      "Iteration 1 kernel 2 done\n",
      "Iteration 1 kernel 3 done\n",
      "Iteration 1 kernel 4 done\n",
      "Iteration 1 kernel 5 done\n",
      "Iteration 1 kernel 6 done\n",
      "Iteration 1 kernel 7 done\n",
      "Iteration 1 kernel 8 done\n",
      "Iteration 1 kernel 9 done\n",
      "Iteration 1 kernel 10 done\n",
      "Iteration 1 kernel 11 done\n",
      "Iteration 1 kernel 12 done\n",
      "Iteration 1 ended successfully\n",
      "Iteration 2 kernel 1 done\n",
      "Iteration 2 kernel 2 done\n",
      "Iteration 2 kernel 3 done\n",
      "Iteration 2 kernel 4 done\n",
      "Iteration 2 kernel 5 done\n",
      "Iteration 2 kernel 6 done\n",
      "Iteration 2 kernel 7 done\n",
      "Iteration 2 kernel 8 done\n",
      "Iteration 2 kernel 9 done\n",
      "Iteration 2 kernel 10 done\n",
      "Iteration 2 kernel 11 done\n",
      "Iteration 2 kernel 12 done\n",
      "Iteration 2 ended successfully\n",
      "Iteration 3 kernel 1 done\n",
      "Iteration 3 kernel 2 done\n",
      "Iteration 3 kernel 3 done\n",
      "Iteration 3 kernel 4 done\n",
      "Iteration 3 kernel 5 done\n",
      "Iteration 3 kernel 6 done\n",
      "Iteration 3 kernel 7 done\n",
      "Iteration 3 kernel 8 done\n",
      "Iteration 3 kernel 9 done\n",
      "Iteration 3 kernel 10 done\n",
      "Iteration 3 kernel 11 done\n",
      "Iteration 3 kernel 12 done\n",
      "Iteration 3 ended successfully\n",
      "Iteration 4 kernel 1 done\n",
      "Iteration 4 kernel 2 done\n",
      "Iteration 4 kernel 3 done\n",
      "Iteration 4 kernel 4 done\n",
      "Iteration 4 kernel 5 done\n",
      "Iteration 4 kernel 6 done\n",
      "Iteration 4 kernel 7 done\n",
      "Iteration 4 kernel 8 done\n",
      "Iteration 4 kernel 9 done\n",
      "Iteration 4 kernel 10 done\n",
      "Iteration 4 kernel 11 done\n",
      "Iteration 4 kernel 12 done\n",
      "Iteration 4 ended successfully\n",
      "Iteration 5 kernel 1 done\n",
      "Iteration 5 kernel 2 done\n",
      "Iteration 5 kernel 3 done\n",
      "Iteration 5 kernel 4 done\n",
      "Iteration 5 kernel 5 done\n",
      "Iteration 5 kernel 6 done\n",
      "Iteration 5 kernel 7 done\n",
      "Iteration 5 kernel 8 done\n",
      "Iteration 5 kernel 9 done\n",
      "Iteration 5 kernel 10 done\n",
      "Iteration 5 kernel 11 done\n",
      "Iteration 5 kernel 12 done\n",
      "Iteration 5 ended successfully\n",
      "Iteration 6 kernel 1 done\n",
      "Iteration 6 kernel 2 done\n",
      "Iteration 6 kernel 3 done\n",
      "Iteration 6 kernel 4 done\n",
      "Iteration 6 kernel 5 done\n",
      "Iteration 6 kernel 6 done\n",
      "Iteration 6 kernel 7 done\n",
      "Iteration 6 kernel 8 done\n",
      "Iteration 6 kernel 9 done\n",
      "Iteration 6 kernel 10 done\n",
      "Iteration 6 kernel 11 done\n",
      "Iteration 6 kernel 12 done\n",
      "Iteration 6 ended successfully\n",
      "Iteration 7 kernel 1 done\n",
      "Iteration 7 kernel 2 done\n",
      "Iteration 7 kernel 3 done\n",
      "Iteration 7 kernel 4 done\n",
      "Iteration 7 kernel 5 done\n",
      "Iteration 7 kernel 6 done\n",
      "Iteration 7 kernel 7 done\n",
      "Iteration 7 kernel 8 done\n",
      "Iteration 7 kernel 9 done\n",
      "Iteration 7 kernel 10 done\n",
      "Iteration 7 kernel 11 done\n",
      "Iteration 7 kernel 12 done\n",
      "Iteration 7 ended successfully\n",
      "Iteration 8 kernel 1 done\n",
      "Iteration 8 kernel 2 done\n",
      "Iteration 8 kernel 3 done\n",
      "Iteration 8 kernel 4 done\n",
      "Iteration 8 kernel 5 done\n",
      "Iteration 8 kernel 6 done\n",
      "Iteration 8 kernel 7 done\n",
      "Iteration 8 kernel 8 done\n",
      "Iteration 8 kernel 9 done\n",
      "Iteration 8 kernel 10 done\n",
      "Iteration 8 kernel 11 done\n",
      "Iteration 8 kernel 12 done\n",
      "Iteration 8 ended successfully\n"
     ]
    }
   ],
   "source": [
    "new_lsd_trees = annihilate_jemiolas(latest_lsd_tree, list(range(1, 13)), iters=8)"
   ]
  },
  {
   "cell_type": "code",
   "execution_count": 13,
   "metadata": {},
   "outputs": [],
   "source": [
    "visualize_ultimate(new_lsd_trees[-1], mask_main)"
   ]
  },
  {
   "cell_type": "code",
   "execution_count": 15,
   "metadata": {},
   "outputs": [],
   "source": [
    "# pickle.dump(new_lsd_trees, open( \"lsd_11th_to_18th.trees\", \"wb\" ) )"
   ]
  },
  {
   "cell_type": "code",
   "execution_count": null,
   "metadata": {},
   "outputs": [],
   "source": []
  },
  {
   "cell_type": "code",
   "execution_count": 13,
   "metadata": {},
   "outputs": [
    {
     "ename": "NameError",
     "evalue": "name 'new_lsd_trees' is not defined",
     "output_type": "error",
     "traceback": [
      "\u001b[0;31m---------------------------------------------------------------------------\u001b[0m",
      "\u001b[0;31mNameError\u001b[0m                                 Traceback (most recent call last)",
      "\u001b[0;32m<ipython-input-13-2c1cdfd4b39d>\u001b[0m in \u001b[0;36m<module>\u001b[0;34m\u001b[0m\n\u001b[0;32m----> 1\u001b[0;31m \u001b[0mprint\u001b[0m\u001b[0;34m(\u001b[0m\u001b[0mlen\u001b[0m\u001b[0;34m(\u001b[0m\u001b[0mlsd_trees\u001b[0m\u001b[0;34m)\u001b[0m\u001b[0;34m,\u001b[0m \u001b[0mlen\u001b[0m\u001b[0;34m(\u001b[0m\u001b[0mnew_lsd_trees\u001b[0m\u001b[0;34m)\u001b[0m\u001b[0;34m)\u001b[0m\u001b[0;34m\u001b[0m\u001b[0;34m\u001b[0m\u001b[0m\n\u001b[0m",
      "\u001b[0;31mNameError\u001b[0m: name 'new_lsd_trees' is not defined"
     ]
    }
   ],
   "source": [
    "print(len(lsd_trees), len(new_lsd_trees))"
   ]
  },
  {
   "cell_type": "code",
   "execution_count": null,
   "metadata": {},
   "outputs": [],
   "source": []
  },
  {
   "cell_type": "code",
   "execution_count": null,
   "metadata": {},
   "outputs": [],
   "source": []
  },
  {
   "cell_type": "code",
   "execution_count": null,
   "metadata": {},
   "outputs": [],
   "source": []
  }
 ],
 "metadata": {
  "kernelspec": {
   "display_name": "Python 3",
   "language": "python",
   "name": "python3"
  },
  "language_info": {
   "codemirror_mode": {
    "name": "ipython",
    "version": 3
   },
   "file_extension": ".py",
   "mimetype": "text/x-python",
   "name": "python",
   "nbconvert_exporter": "python",
   "pygments_lexer": "ipython3",
   "version": "3.7.6"
  }
 },
 "nbformat": 4,
 "nbformat_minor": 4
}
