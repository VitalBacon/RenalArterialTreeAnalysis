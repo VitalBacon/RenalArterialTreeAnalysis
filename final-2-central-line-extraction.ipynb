{
 "cells": [
  {
   "cell_type": "code",
   "execution_count": 1,
   "metadata": {},
   "outputs": [],
   "source": [
    "import numpy as np\n",
    "import glob\n",
    "import matplotlib.pyplot as plt\n",
    "import cv2\n",
    "import pickle\n",
    "from skimage import measure, segmentation, feature\n",
    "from vis_utils import load_volume, VolumeVisualizer, ColorMapVisualizer\n",
    "from scipy.ndimage import zoom\n",
    "from skimage.morphology import skeletonize, skeletonize_3d, binary_dilation\n",
    "from skimage import filters, morphology\n",
    "from scipy.ndimage.filters import convolve, correlate\n",
    "from scipy import signal\n",
    "from skimage.filters import frangi, sato\n",
    "from PIL import Image"
   ]
  },
  {
   "cell_type": "code",
   "execution_count": 2,
   "metadata": {},
   "outputs": [],
   "source": [
    "TREE_NAME = 'P12'"
   ]
  },
  {
   "cell_type": "markdown",
   "metadata": {},
   "source": [
    "## Utility visualisation functions"
   ]
  },
  {
   "cell_type": "code",
   "execution_count": 3,
   "metadata": {},
   "outputs": [],
   "source": [
    "def visualize_addition(base, base_with_addition):\n",
    "    base = (base.copy() > 0).astype(np.uint8)\n",
    "    addition = (base_with_addition > 0).astype(np.uint8)\n",
    "    addition[base == 1] = 0\n",
    "    ColorMapVisualizer(base + addition * 4).visualize()\n",
    "    \n",
    "def visualize_lsd(lsd_mask):\n",
    "    ColorMapVisualizer(lsd_mask.astype(np.uint8)).visualize()\n",
    "    \n",
    "def visualize_gradient(lsd_mask):\n",
    "    ColorMapVisualizer(lsd_mask.astype(np.uint8)).visualize(gradient=True)\n",
    "    \n",
    "def visualize_mask_bin(mask):\n",
    "    VolumeVisualizer((mask > 0).astype(np.uint8), binary=True).visualize()\n",
    "    \n",
    "def visualize_mask_non_bin(mask):\n",
    "    VolumeVisualizer((mask > 0).astype(np.uint8) * 255, binary=False).visualize()\n",
    "    \n",
    "def visualize_skeleton(mask, visualize_mask=True, visualize_both_versions=False):\n",
    "    skeleton = skeletonize((mask > 0).astype(np.uint8))\n",
    "    if not visualize_mask or visualize_both_versions:\n",
    "        VolumeVisualizer(skeleton, binary=True).visualize()\n",
    "    if visualize_mask or visualize_both_versions:\n",
    "        skeleton = skeleton.astype(np.uint8) * 4\n",
    "        mask = (mask > 0).astype(np.uint8) * 3\n",
    "        mask[skeleton != 0] = 0\n",
    "        ColorMapVisualizer(skeleton + mask).visualize()\n",
    "\n",
    "def visualize_ultimate(lsd, base_mask):\n",
    "    visualize_lsd(lsd)\n",
    "    visualize_mask_non_bin(lsd)\n",
    "    visualize_addition(base_mask, lsd)\n",
    "    visualize_skeleton(lsd, visualize_mask=True)"
   ]
  },
  {
   "cell_type": "markdown",
   "metadata": {},
   "source": [
    "## Loading specimen reconstruction"
   ]
  },
  {
   "cell_type": "code",
   "execution_count": 4,
   "metadata": {
    "scrolled": true
   },
   "outputs": [],
   "source": [
    "source_dir = './data/'\n",
    "reconstruction = np.load(source_dir + TREE_NAME + '/reconstruction.npy')\n",
    "visualize_skeleton(reconstruction)"
   ]
  },
  {
   "cell_type": "markdown",
   "metadata": {},
   "source": [
    "## Obtaining and trimming skeleton"
   ]
  },
  {
   "cell_type": "code",
   "execution_count": 5,
   "metadata": {},
   "outputs": [
    {
     "name": "stdout",
     "output_type": "stream",
     "text": [
      "CPU times: user 3.31 s, sys: 28.4 ms, total: 3.34 s\n",
      "Wall time: 3.35 s\n"
     ]
    }
   ],
   "source": [
    "%%time\n",
    "skeleton = skeletonize_3d(reconstruction)"
   ]
  },
  {
   "cell_type": "code",
   "execution_count": 6,
   "metadata": {},
   "outputs": [],
   "source": [
    "def iters_wrapper(func): \n",
    "    def inner(data, *args, iters=1, **kwargs): \n",
    "        result = func(data, *args, **kwargs)\n",
    "        print('iteration 1 done')\n",
    "        for i in range(iters - 1):\n",
    "            result = func(result, *args, **kwargs)  \n",
    "            print(f'iteration {i + 2} done')\n",
    "        return result\n",
    "    return inner \n",
    "\n",
    "@iters_wrapper\n",
    "def trim_skeleton(skeleton):   \n",
    "    new_skeleton = np.zeros(skeleton.shape)\n",
    "    skeleton_voxels = np.argwhere(skeleton)\n",
    "    \n",
    "    for voxel in skeleton_voxels:\n",
    "        x, y, z = tuple(voxel)\n",
    "        neighbours_count = 0\n",
    "        \n",
    "        for dx in [-1, 0, 1]:\n",
    "            for dy in [-1, 0, 1]:\n",
    "                for dz in [-1, 0, 1]:\n",
    "                    if dx == dy == dz == 0:\n",
    "                        continue\n",
    "                    \n",
    "                    neighbour_x = x + dx\n",
    "                    neighbour_y = y + dy\n",
    "                    neighbour_z = z + dz\n",
    "                    if skeleton[neighbour_x, neighbour_y, neighbour_z] > 0:\n",
    "                        neighbours_count += 1\n",
    "                        \n",
    "        if neighbours_count > 1:\n",
    "            new_skeleton[x, y, z] = 1\n",
    "                        \n",
    "    return new_skeleton.astype(np.uint8)"
   ]
  },
  {
   "cell_type": "code",
   "execution_count": 7,
   "metadata": {},
   "outputs": [
    {
     "name": "stdout",
     "output_type": "stream",
     "text": [
      "iteration 1 done\n",
      "iteration 2 done\n",
      "iteration 3 done\n",
      "iteration 4 done\n",
      "iteration 5 done\n",
      "iteration 6 done\n",
      "iteration 7 done\n",
      "iteration 8 done\n",
      "CPU times: user 29.1 s, sys: 2.19 s, total: 31.3 s\n",
      "Wall time: 1min\n"
     ]
    }
   ],
   "source": [
    "%%time\n",
    "iterations = {\n",
    "    'P01': 5,\n",
    "    'P05': 25,\n",
    "    'P12': 8,\n",
    "}\n",
    "\n",
    "trimmed_skeleton = trim_skeleton(skeleton, iters=iterations.get(TREE_NAME, 8))\n",
    "visualize_addition(trimmed_skeleton, reconstruction)\n",
    "visualize_addition(trimmed_skeleton, skeleton)"
   ]
  },
  {
   "cell_type": "markdown",
   "metadata": {},
   "source": [
    "## Propagating thiccness"
   ]
  },
  {
   "cell_type": "code",
   "execution_count": 8,
   "metadata": {},
   "outputs": [],
   "source": [
    "def spherical_kernel(outer_radius, thickness=1, filled=True):    \n",
    "    outer_sphere = morphology.ball(radius=outer_radius)\n",
    "    if filled:\n",
    "        return outer_sphere\n",
    "    \n",
    "    thickness = min(thickness, outer_radius)\n",
    "    \n",
    "    inner_radius = outer_radius - thickness\n",
    "    inner_sphere = morphology.ball(radius=inner_radius)\n",
    "    \n",
    "    begin = outer_radius - inner_radius\n",
    "    end = begin + inner_sphere.shape[0]\n",
    "    outer_sphere[begin:end, begin:end, begin:end] -= inner_sphere\n",
    "    return outer_sphere\n",
    "\n",
    "def convolve_with_ball(img, ball_radius, dtype=np.uint16, normalize=True):\n",
    "    kernel = spherical_kernel(ball_radius, filled=True)\n",
    "    convolved = signal.convolve(img.astype(dtype), kernel.astype(dtype), mode='same')\n",
    "    \n",
    "    if not normalize:\n",
    "        return convolved\n",
    "    \n",
    "    return (convolved / kernel.sum()).astype(np.float16)\n",
    "\n",
    "def onionize(mask, kernel_sizes=[10, 9, 8], fill_threshold=0.8, conv_dtype=np.uint16):\n",
    "    mask = mask.astype(np.uint8)\n",
    "    kernel_size_map = np.zeros(mask.shape, dtype=np.uint8)\n",
    "\n",
    "    for kernel_size in sorted(kernel_sizes):\n",
    "        fill_percentage = convolve_with_ball(mask, kernel_size, dtype=conv_dtype, normalize=True)\n",
    "        above_threshold_fill_indices = fill_percentage >= fill_threshold\n",
    "        kernel_size_map[above_threshold_fill_indices] = kernel_size + 1\n",
    "        print(f'Kernel {kernel_size} done')\n",
    "\n",
    "    return kernel_size_map"
   ]
  },
  {
   "cell_type": "code",
   "execution_count": 9,
   "metadata": {},
   "outputs": [
    {
     "name": "stdout",
     "output_type": "stream",
     "text": [
      "Kernel 0 done\n",
      "Kernel 1 done\n",
      "Kernel 2 done\n",
      "Kernel 3 done\n",
      "Kernel 4 done\n",
      "Kernel 5 done\n",
      "Kernel 6 done\n",
      "Kernel 7 done\n",
      "Kernel 8 done\n",
      "Kernel 9 done\n",
      "Kernel 10 done\n",
      "Kernel 11 done\n",
      "CPU times: user 1min, sys: 13 s, total: 1min 13s\n",
      "Wall time: 1min 19s\n"
     ]
    }
   ],
   "source": [
    "%%time\n",
    "kernel_sizes = {\n",
    "    'P01': range(19),\n",
    "    'P05': range(21),\n",
    "    'P12': range(12),\n",
    "}\n",
    "\n",
    "fill_thresholds = {\n",
    "    'P01': 0.8,\n",
    "    'P05': 0.8,\n",
    "    'P12': 0.8,\n",
    "}\n",
    "\n",
    "onion = onionize(reconstruction, \n",
    "                 kernel_sizes=kernel_sizes.get(TREE_NAME, range(12)), \n",
    "                 fill_threshold=fill_thresholds.get(TREE_NAME, 0.8))\n",
    "visualize_lsd(onion)"
   ]
  },
  {
   "cell_type": "code",
   "execution_count": 10,
   "metadata": {},
   "outputs": [],
   "source": [
    "def propagate_thiccness(skeleton, kernel_size_map):   \n",
    "    thiccness_map = np.zeros(kernel_size_map.shape)\n",
    "    thiccness_map[skeleton > 0] = kernel_size_map[skeleton > 0]\n",
    "    \n",
    "    queue = list([tuple(coords) for coords in np.argwhere(skeleton)])\n",
    "    while(len(queue) > 0):\n",
    "        x, y, z = queue.pop(0)\n",
    "        thiccness = thiccness_map[x, y, z]\n",
    "        \n",
    "        for dx in [-1, 0, 1]:\n",
    "            for dy in [-1, 0, 1]:\n",
    "                for dz in [-1, 0, 1]:\n",
    "                    neighbour_x = x + dx\n",
    "                    neighbour_y = y + dy\n",
    "                    neighbour_z = z + dz\n",
    "                    if thiccness_map[neighbour_x, neighbour_y, neighbour_z] > 0:\n",
    "                        continue\n",
    "                        \n",
    "                    if kernel_size_map[neighbour_x, neighbour_y, neighbour_z] == 0:\n",
    "                        continue\n",
    "                        \n",
    "                    thiccness_map[neighbour_x, neighbour_y, neighbour_z] = thiccness\n",
    "                    queue.append((neighbour_x, neighbour_y, neighbour_z))\n",
    "                        \n",
    "    return thiccness_map"
   ]
  },
  {
   "cell_type": "code",
   "execution_count": 11,
   "metadata": {},
   "outputs": [
    {
     "name": "stdout",
     "output_type": "stream",
     "text": [
      "CPU times: user 41.2 s, sys: 565 ms, total: 41.8 s\n",
      "Wall time: 45.2 s\n"
     ]
    }
   ],
   "source": [
    "%%time\n",
    "thiccness_map = propagate_thiccness(trimmed_skeleton, onion)\n",
    "visualize_gradient(thiccness_map)"
   ]
  },
  {
   "cell_type": "markdown",
   "metadata": {},
   "source": [
    "## Adding leaves to the skeleton"
   ]
  },
  {
   "cell_type": "code",
   "execution_count": 12,
   "metadata": {},
   "outputs": [],
   "source": [
    "def get_largest_region(binary_mask, connectivity=3):\n",
    "    labeled = measure.label(binary_mask, connectivity=connectivity)\n",
    "    region_props = measure.regionprops(labeled)\n",
    "    \n",
    "    max_region = 0\n",
    "    max_region_label = 0\n",
    "    \n",
    "    for props in region_props:\n",
    "        if props.area > max_region:\n",
    "            max_region = props.area\n",
    "            max_region_label = props.label\n",
    "\n",
    "    return (labeled == max_region_label).astype(np.uint8)\n",
    "\n",
    "def make_ends_meet(skeleton, trimmed_skeleton, thiccness_map, ends_max_thiccness):\n",
    "    ends = (skeleton - trimmed_skeleton) * (thiccness_map <= ends_max_thiccness)\n",
    "    ends = ends.astype(np.uint8)\n",
    "    \n",
    "    trimmed_with_ends = (trimmed_skeleton > 0).astype(np.uint8) + ends\n",
    "    return get_largest_region(trimmed_with_ends, connectivity=3)"
   ]
  },
  {
   "cell_type": "code",
   "execution_count": 13,
   "metadata": {},
   "outputs": [],
   "source": [
    "ends_max_thiccnesses = {\n",
    "    'P01': 9,\n",
    "    'P05': 12,\n",
    "    'P12': 4,\n",
    "}\n",
    "\n",
    "full_skeleton = make_ends_meet(skeleton, trimmed_skeleton, thiccness_map, \n",
    "                               ends_max_thiccness=ends_max_thiccnesses.get(TREE_NAME, 4))\n",
    "visualize_addition(full_skeleton, skeleton) # full_skeleton is green (1)"
   ]
  },
  {
   "cell_type": "markdown",
   "metadata": {},
   "source": [
    "## Saving skeleton and thiccness map"
   ]
  },
  {
   "cell_type": "code",
   "execution_count": 14,
   "metadata": {},
   "outputs": [],
   "source": [
    "np.save(source_dir + TREE_NAME + '/skeleton', full_skeleton)\n",
    "np.save(source_dir + TREE_NAME + '/thiccness-map', thiccness_map)"
   ]
  },
  {
   "cell_type": "code",
   "execution_count": null,
   "metadata": {},
   "outputs": [],
   "source": []
  }
 ],
 "metadata": {
  "kernelspec": {
   "display_name": "Python 3",
   "language": "python",
   "name": "python3"
  },
  "language_info": {
   "codemirror_mode": {
    "name": "ipython",
    "version": 3
   },
   "file_extension": ".py",
   "mimetype": "text/x-python",
   "name": "python",
   "nbconvert_exporter": "python",
   "pygments_lexer": "ipython3",
   "version": "3.7.6"
  }
 },
 "nbformat": 4,
 "nbformat_minor": 4
}
