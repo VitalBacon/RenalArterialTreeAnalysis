{
 "cells": [
  {
   "cell_type": "code",
   "execution_count": 1,
   "metadata": {},
   "outputs": [],
   "source": [
    "import numpy as np\n",
    "import glob\n",
    "import matplotlib.pyplot as plt\n",
    "import cv2\n",
    "from skimage import measure, segmentation\n",
    "from vis_utils import load_volume, VolumeVisualizer, ColorMapVisualizer\n",
    "from scipy.ndimage import zoom\n",
    "from skimage.morphology import skeletonize, skeletonize_3d\n",
    "from skimage import filters, morphology\n",
    "\n",
    "from scipy.ndimage.filters import convolve, correlate\n",
    "from scipy import signal"
   ]
  },
  {
   "cell_type": "code",
   "execution_count": 2,
   "metadata": {},
   "outputs": [
    {
     "data": {
      "text/plain": [
       "[(0, './data/P12/P12_60um_1333x443x864.raw')]"
      ]
     },
     "execution_count": 2,
     "metadata": {},
     "output_type": "execute_result"
    }
   ],
   "source": [
    "source_dir = './data/'\n",
    "files = list(sorted(glob.glob(source_dir + '/*/*.raw')))\n",
    "list(enumerate(files))"
   ]
  },
  {
   "cell_type": "code",
   "execution_count": 13,
   "metadata": {},
   "outputs": [
    {
     "name": "stdout",
     "output_type": "stream",
     "text": [
      "CPU times: user 7.93 s, sys: 3.88 s, total: 11.8 s\n",
      "Wall time: 24.7 s\n"
     ]
    }
   ],
   "source": [
    "%%time\n",
    "volume = load_volume(files[0], scale=0.5)\n",
    "visualizer = VolumeVisualizer(volume, binary=False).visualize()"
   ]
  },
  {
   "cell_type": "code",
   "execution_count": 23,
   "metadata": {},
   "outputs": [
    {
     "data": {
      "text/plain": [
       "array([  0,   1,   2,   3,   4,   5,   6,   7,   8,   9,  10,  11,  12,\n",
       "        13,  14,  15,  16,  17,  18,  19,  20,  21,  22,  23,  24,  25,\n",
       "        26,  27,  28,  29,  30,  31,  32,  33,  34,  35,  36,  37,  38,\n",
       "        39,  40,  41,  42,  43,  44,  45,  46,  47,  48,  49,  50,  51,\n",
       "        52,  53,  54,  55,  56,  57,  58,  59,  60,  61,  62,  63,  64,\n",
       "        65,  66,  67,  68,  69,  70,  71,  72,  73,  74,  75,  76,  77,\n",
       "        78,  79,  80,  81,  82,  83,  84,  85,  86,  87,  88,  89,  90,\n",
       "        91,  92,  93,  94,  95,  96,  97,  98,  99, 100, 101, 102, 103,\n",
       "       104, 105, 106, 107, 108, 109, 110, 111, 112, 113, 114, 115, 116,\n",
       "       117, 118, 119, 120, 121, 122, 123, 124, 125, 126, 127, 128, 129,\n",
       "       130, 131, 132, 133, 134, 135, 136, 137, 138, 139, 140, 141, 142,\n",
       "       143, 144, 145, 146, 147, 148, 149, 150, 151, 152, 153, 154, 155,\n",
       "       156, 157, 158, 159, 160, 161, 162, 163, 164, 165, 166, 167, 168,\n",
       "       169, 170, 171, 172, 173, 174, 175, 176, 177, 178, 179, 180, 181,\n",
       "       182, 183, 184, 185, 186, 187, 188, 189, 190, 191, 192, 193, 194,\n",
       "       195, 196, 197, 198, 199, 200, 201, 202, 203, 204, 205, 206, 207,\n",
       "       208, 209, 210, 211, 212, 213, 214, 215, 216, 217, 218, 219, 220,\n",
       "       221, 222, 223, 224, 225, 226, 227, 228, 229, 230, 231, 232, 233,\n",
       "       234, 235, 236, 237, 238, 239, 240, 241, 242, 243, 244, 245, 246,\n",
       "       247, 248, 249, 250, 251, 252, 253, 254, 255], dtype=uint8)"
      ]
     },
     "execution_count": 23,
     "metadata": {},
     "output_type": "execute_result"
    }
   ],
   "source": [
    "np.unique(volume)"
   ]
  },
  {
   "cell_type": "markdown",
   "metadata": {},
   "source": [
    "## simple threshold segmentation"
   ]
  },
  {
   "cell_type": "code",
   "execution_count": 4,
   "metadata": {},
   "outputs": [],
   "source": [
    "threshold = 70\n",
    "mask_raw = volume > threshold\n",
    "\n",
    "# VolumeVisualizer(mask_raw).visualize()"
   ]
  },
  {
   "cell_type": "code",
   "execution_count": 5,
   "metadata": {},
   "outputs": [],
   "source": [
    "def get_main_regions(binary_mask, min_size=10_000, connectivity=3):\n",
    "    labeled = measure.label(binary_mask, connectivity=connectivity)\n",
    "    region_props = measure.regionprops(labeled)\n",
    "    \n",
    "    main_regions_masks = []\n",
    "    \n",
    "    for props in region_props:\n",
    "        if props.area >= min_size:\n",
    "            main_regions_masks.append((props.filled_image, props.bbox))\n",
    "            \n",
    "    return main_regions_masks\n",
    "\n",
    "def merge_masks(masks, img_shape):\n",
    "    result_mask = np.zeros(img_shape, dtype=np.uint8)\n",
    "    for mask, bbox in masks:\n",
    "        min1, min2, min3, max1, max2, max3 = bbox\n",
    "        result_mask[min1:max1, min2:max2, min3:max3] += mask.astype(np.uint8)\n",
    "        \n",
    "    return result_mask"
   ]
  },
  {
   "cell_type": "code",
   "execution_count": 6,
   "metadata": {},
   "outputs": [
    {
     "name": "stdout",
     "output_type": "stream",
     "text": [
      "CPU times: user 8.79 s, sys: 304 ms, total: 9.1 s\n",
      "Wall time: 9.1 s\n"
     ]
    }
   ],
   "source": [
    "%%time\n",
    "main_regions_masks = get_main_regions(mask_raw, min_size=5_000, connectivity=1)"
   ]
  },
  {
   "cell_type": "code",
   "execution_count": 7,
   "metadata": {},
   "outputs": [],
   "source": [
    "mask = main_regions_masks[0][0]\n",
    "# VolumeVisualizer(mask).visualize()"
   ]
  },
  {
   "cell_type": "markdown",
   "metadata": {},
   "source": [
    "## utility functions"
   ]
  },
  {
   "cell_type": "code",
   "execution_count": 24,
   "metadata": {},
   "outputs": [],
   "source": [
    "def spherical_kernel(outer_radius, thickness=1, filled=True):    \n",
    "    outer_sphere = morphology.ball(radius=outer_radius)\n",
    "    if filled:\n",
    "        return outer_sphere\n",
    "    \n",
    "    inner_radius = outer_radius - thickness\n",
    "    inner_sphere = morphology.ball(radius=inner_radius)\n",
    "    \n",
    "    begin = outer_radius - inner_radius\n",
    "    end = begin + inner_sphere.shape[0]\n",
    "    outer_sphere[begin:end, begin:end, begin:end] -= inner_sphere\n",
    "    return outer_sphere\n",
    "\n",
    "def convolve_with_ball(mask, ball_radius, dtype=np.uint16):\n",
    "    kernel = spherical_kernel(ball_radius, filled=True)\n",
    "    return signal.convolve(mask.astype(dtype), kernel.astype(dtype), mode='same')\n",
    "\n",
    "def get_arterial_regions(conv_img, lower_hyst_fraction, upper_hyst_fraction):\n",
    "    lower_hyst_value = lower_hyst_fraction * conv_img.max()\n",
    "    upper_hyst_value = upper_hyst_fraction * conv_img.max()\n",
    "    return filters.apply_hysteresis_threshold(conv_img, lower_hyst_value, upper_hyst_value)\n",
    "\n",
    "def reconstruct_from_skeleton(skeleton, ball_radius):    \n",
    "    mask = np.zeros(skeleton.shape, dtype=np.uint8)\n",
    "    mask = np.pad(mask, ball_radius)\n",
    "    \n",
    "    kernel = spherical_kernel(ball_radius, filled=True)\n",
    "    central_points = np.argwhere(skeleton == 1)\n",
    "    \n",
    "    for central_point in central_points:\n",
    "        start_corner = tuple(central_point)\n",
    "        end_corner = tuple(central_point + 2*ball_radius + 1)\n",
    "        \n",
    "        start1, start2, start3 = start_corner\n",
    "        end1, end2, end3 = end_corner\n",
    "        \n",
    "        mask_slice = mask[start1:end1, start2:end2, start3:end3]\n",
    "        mask_slice[:] = np.logical_or(mask_slice, kernel)\n",
    "                \n",
    "    return mask[ball_radius:-ball_radius, ball_radius:-ball_radius, ball_radius:-ball_radius]\n",
    "\n",
    "# high level functions\n",
    "\n",
    "def get_tree_core(tree_mask, kernel_radius, max_fraction):\n",
    "    convolved_mask = convolve_with_ball(tree_mask, kernel_radius)\n",
    "    core_voxels = convolved_mask > max_fraction * convolved_mask.max()\n",
    "    core_skeleton = skeletonize_3d(core_voxels.astype(np.uint8))\n",
    "    core_reconstruction = reconstruct_from_skeleton(core_skeleton, kernel_radius)\n",
    "    \n",
    "    return core_reconstruction\n",
    "\n",
    "def expand_tree_reconstruction(tree_mask, reconstruction, kernel_radius, max_fraction):\n",
    "    convolved_mask = convolve_with_ball(tree_mask, kernel_radius)\n",
    "    \n",
    "    kernel_vol = spherical_kernel(kernel_radius).sum()\n",
    "    threshold_value = int(max_fraction * kernel_vol)\n",
    "    \n",
    "    # set current reconstruction to infinity\n",
    "    convolved_mask_with_huge_core = convolved_mask + reconstruction * (kernel_vol + 2)\n",
    "        \n",
    "        \n",
    "    expanded_rec = filters.apply_hysteresis_threshold(convolved_mask_with_huge_core, threshold_value, kernel_vol + 5)\n",
    "    expansion = expanded_rec - reconstruction\n",
    "    \n",
    "    convolved_mask_with_huge_expansion = convolved_mask + expansion * (kernel_vol + 2)\n",
    "    expanded_expansion = filters.apply_hysteresis_threshold(convolved_mask_with_huge_expansion, threshold_value, kernel_vol + 5)\n",
    "    \n",
    "    ee_skeleton = skeletonize_3d(expanded_expansion.astype(np.uint8))\n",
    "    ee_reconstruction = reconstruct_from_skeleton(ee_skeleton, kernel_radius)\n",
    "    \n",
    "    return ee_reconstruction, ee_skeleton"
   ]
  },
  {
   "cell_type": "code",
   "execution_count": 9,
   "metadata": {},
   "outputs": [
    {
     "name": "stdout",
     "output_type": "stream",
     "text": [
      "CPU times: user 8.91 s, sys: 2.17 s, total: 11.1 s\n",
      "Wall time: 12.7 s\n"
     ]
    }
   ],
   "source": [
    "%%time\n",
    "core_rec = get_tree_core(mask, 15, 0.95)\n",
    "# VolumeVisualizer(np.logical_or(core_rec, mask)).visualize()\n",
    "VolumeVisualizer(core_rec).visualize()"
   ]
  },
  {
   "cell_type": "code",
   "execution_count": 10,
   "metadata": {},
   "outputs": [
    {
     "name": "stdout",
     "output_type": "stream",
     "text": [
      "CPU times: user 11.6 s, sys: 2.22 s, total: 13.8 s\n",
      "Wall time: 15.9 s\n"
     ]
    }
   ],
   "source": [
    "%%time\n",
    "ee = expand_tree_reconstruction(mask, core_rec, kernel_radius=10, max_fraction=0.8)\n",
    "VolumeVisualizer(ee).visualize()"
   ]
  },
  {
   "cell_type": "code",
   "execution_count": 25,
   "metadata": {},
   "outputs": [
    {
     "name": "stdout",
     "output_type": "stream",
     "text": [
      "core is nice\n",
      "iter for 10 ended successfully XD\n",
      "iter for 8 ended successfully XD\n",
      "iter for 7 ended successfully XD\n",
      "iter for 6 ended successfully XD\n",
      "iter for 5 ended successfully XD\n",
      "iter for 4 ended successfully XD\n",
      "iter for 3 ended successfully XD\n",
      "iter for 2 ended successfully XD\n",
      "iter for 1 ended successfully XD\n",
      "CPU times: user 1min 51s, sys: 19.7 s, total: 2min 10s\n",
      "Wall time: 2min 11s\n"
     ]
    }
   ],
   "source": [
    "%%time\n",
    "\n",
    "total_skel = np.zeros(mask.shape)\n",
    "rec = get_tree_core(mask, 15, 0.95)\n",
    "total_rec = rec.copy().astype(np.uint8)\n",
    "new_rec = rec.copy()\n",
    "print('core is nice')\n",
    "\n",
    "for i, kernel_radius in enumerate([10, 8, 7, 6, 5, 4, 3, 2, 1]):\n",
    "    new_rec, new_ee_skel = expand_tree_reconstruction(mask, new_rec, kernel_radius=kernel_radius, max_fraction=0.5)\n",
    "    rec = np.logical_or(rec, new_rec).astype(np.uint8)\n",
    "    \n",
    "    total_skel = np.logical_or(total_skel, new_ee_skel).astype(np.uint8)\n",
    "    \n",
    "    just_expansion = new_rec.copy()\n",
    "    just_expansion[total_rec > 0] = 0\n",
    "    total_rec += just_expansion * (i + 2)\n",
    "    \n",
    "    print('iter for', kernel_radius, 'ended successfully XD')\n",
    "    "
   ]
  },
  {
   "cell_type": "code",
   "execution_count": 14,
   "metadata": {},
   "outputs": [],
   "source": [
    "VolumeVisualizer(rec).visualize()"
   ]
  },
  {
   "cell_type": "code",
   "execution_count": 15,
   "metadata": {},
   "outputs": [],
   "source": [
    "ColorMapVisualizer(total_rec).visualize(interactive=False)"
   ]
  },
  {
   "cell_type": "code",
   "execution_count": 18,
   "metadata": {},
   "outputs": [],
   "source": [
    "ColorMapVisualizer(mask + total_rec).visualize(interactive=True)"
   ]
  },
  {
   "cell_type": "code",
   "execution_count": 30,
   "metadata": {},
   "outputs": [],
   "source": [
    "VolumeVisualizer(total_skel).visualize()"
   ]
  },
  {
   "cell_type": "code",
   "execution_count": 17,
   "metadata": {},
   "outputs": [],
   "source": [
    "reconstruction_skeleton = skeletonize_3d(rec)\n",
    "VolumeVisualizer(reconstruction_skeleton).visualize()"
   ]
  },
  {
   "cell_type": "code",
   "execution_count": null,
   "metadata": {},
   "outputs": [],
   "source": [
    "mask_with_no_skeleton = mask.copy()\n",
    "mask_with_no_skeleton[reconstruction_skeleton == 1] = 0\n",
    "\n",
    "VolumeVisualizer(reconstruction_skeleton.astype(np.uint8) * 2 + mask_with_no_skeleton, binary=False).visualize(primary_color=(1,1,1))"
   ]
  },
  {
   "cell_type": "code",
   "execution_count": 17,
   "metadata": {},
   "outputs": [],
   "source": [
    "VolumeVisualizer(reconstruction_skeleton).visualize()"
   ]
  },
  {
   "cell_type": "code",
   "execution_count": 18,
   "metadata": {},
   "outputs": [],
   "source": [
    "mask_skel = skeletonize_3d(mask.astype(np.uint8))\n",
    "\n",
    "mask_with_no_skeleton = mask.copy()\n",
    "mask_with_no_skeleton[mask_skel == 1] = 0\n",
    "\n",
    "VolumeVisualizer(mask_skel.astype(np.uint8) * 2 + mask_with_no_skeleton, binary=False).visualize(primary_color=(1,1,1))"
   ]
  },
  {
   "cell_type": "code",
   "execution_count": null,
   "metadata": {},
   "outputs": [],
   "source": []
  },
  {
   "cell_type": "code",
   "execution_count": null,
   "metadata": {},
   "outputs": [],
   "source": []
  },
  {
   "cell_type": "code",
   "execution_count": null,
   "metadata": {},
   "outputs": [],
   "source": []
  },
  {
   "cell_type": "code",
   "execution_count": null,
   "metadata": {},
   "outputs": [],
   "source": []
  }
 ],
 "metadata": {
  "kernelspec": {
   "display_name": "Python 3",
   "language": "python",
   "name": "python3"
  },
  "language_info": {
   "codemirror_mode": {
    "name": "ipython",
    "version": 3
   },
   "file_extension": ".py",
   "mimetype": "text/x-python",
   "name": "python",
   "nbconvert_exporter": "python",
   "pygments_lexer": "ipython3",
   "version": "3.7.6"
  }
 },
 "nbformat": 4,
 "nbformat_minor": 4
}
