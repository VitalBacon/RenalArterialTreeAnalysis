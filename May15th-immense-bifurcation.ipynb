{
 "cells": [
  {
   "cell_type": "code",
   "execution_count": 1,
   "metadata": {},
   "outputs": [],
   "source": [
    "import numpy as np\n",
    "import glob\n",
    "import matplotlib.pyplot as plt\n",
    "import cv2\n",
    "from skimage import measure, segmentation, feature\n",
    "from vis_utils import load_volume, VolumeVisualizer, ColorMapVisualizer\n",
    "from scipy.ndimage import zoom\n",
    "from skimage.morphology import skeletonize, skeletonize_3d, binary_dilation\n",
    "\n",
    "from skimage import filters, morphology\n",
    "\n",
    "from scipy.ndimage.filters import convolve, correlate\n",
    "from scipy import signal\n",
    "\n",
    "from skimage.filters import frangi, sato\n",
    "\n",
    "from PIL import Image\n",
    "import pickle"
   ]
  },
  {
   "cell_type": "code",
   "execution_count": 2,
   "metadata": {
    "scrolled": true
   },
   "outputs": [
    {
     "data": {
      "text/plain": [
       "[(0, './data/P01/P01_60um_1612x623x1108.raw'),\n",
       " (1, './data/P02/P02_60um_1387x778x1149.raw'),\n",
       " (2, './data/P03/P03_60um_1473x1163x1148.raw'),\n",
       " (3, './data/P04/P04_60um_1273x466x1045.raw'),\n",
       " (4, './data/P05/P05_60um_1454x817x1102.raw'),\n",
       " (5, './data/P06/P06_60um_1425x564x1028.raw'),\n",
       " (6, './data/P07/P7_60um_1216x692x926.raw'),\n",
       " (7, './data/P08/P08_60um_1728x927x1149.raw'),\n",
       " (8, './data/P09/P09_60um_1359x456x1040.raw'),\n",
       " (9, './data/P10/P10_60um_1339x537x1035.raw'),\n",
       " (10, './data/P11/P11_60um_1735x595x1150.raw'),\n",
       " (11, './data/P12/P12_60um_1333x443x864.raw'),\n",
       " (12, './data/P13/P13_60um_1132x488x877.raw')]"
      ]
     },
     "execution_count": 2,
     "metadata": {},
     "output_type": "execute_result"
    }
   ],
   "source": [
    "source_dir = './data/*/'\n",
    "files = list(sorted(glob.glob(source_dir + '*.raw')))\n",
    "list(enumerate(files))"
   ]
  },
  {
   "cell_type": "code",
   "execution_count": 7,
   "metadata": {},
   "outputs": [
    {
     "name": "stdout",
     "output_type": "stream",
     "text": [
      "CPU times: user 1.33 s, sys: 399 ms, total: 1.73 s\n",
      "Wall time: 2.52 s\n"
     ]
    },
    {
     "data": {
      "text/plain": [
       "(432, 222, 666)"
      ]
     },
     "execution_count": 7,
     "metadata": {},
     "output_type": "execute_result"
    }
   ],
   "source": [
    "%%time\n",
    "mask = load_volume(files[1], scale=0.5)\n",
    "mask.shape"
   ]
  },
  {
   "cell_type": "code",
   "execution_count": 9,
   "metadata": {},
   "outputs": [],
   "source": [
    "threshold = 70\n",
    "mask = mask > threshold\n",
    "VolumeVisualizer(mask, binary=True).visualize()"
   ]
  },
  {
   "cell_type": "markdown",
   "metadata": {},
   "source": [
    "## Utility functions"
   ]
  },
  {
   "cell_type": "markdown",
   "metadata": {},
   "source": [
    "### Visualisation functions"
   ]
  },
  {
   "cell_type": "code",
   "execution_count": 3,
   "metadata": {},
   "outputs": [],
   "source": [
    "def visualize_addition(base, base_with_addition):\n",
    "    base = (base.copy() > 0).astype(np.uint8)\n",
    "    addition = (base_with_addition > 0).astype(np.uint8)\n",
    "    addition[base == 1] = 0\n",
    "    ColorMapVisualizer(base + addition * 4).visualize()\n",
    "    \n",
    "def visualize_lsd(lsd_mask):\n",
    "    ColorMapVisualizer(lsd_mask.astype(np.uint8)).visualize()\n",
    "    \n",
    "def visualize_gradient(lsd_mask):\n",
    "    ColorMapVisualizer(lsd_mask.astype(np.uint8)).visualize(gradient=True)\n",
    "    \n",
    "def visualize_mask_bin(mask):\n",
    "    VolumeVisualizer((mask > 0).astype(np.uint8), binary=True).visualize()\n",
    "    \n",
    "def visualize_mask_non_bin(mask):\n",
    "    VolumeVisualizer((mask > 0).astype(np.uint8) * 255, binary=False).visualize()\n",
    "    \n",
    "def visualize_skeleton(mask, visualize_mask=True, visualize_both_versions=False):\n",
    "    skeleton = skeletonize((mask > 0).astype(np.uint8))\n",
    "    if not visualize_mask or visualize_both_versions:\n",
    "        VolumeVisualizer(skeleton, binary=True).visualize()\n",
    "    if visualize_mask or visualize_both_versions:\n",
    "        skeleton = skeleton.astype(np.uint8) * 4\n",
    "        mask = (mask > 0).astype(np.uint8) * 3\n",
    "        mask[skeleton != 0] = 0\n",
    "        ColorMapVisualizer(skeleton + mask).visualize()\n",
    "\n",
    "def visualize_ultimate(lsd, base_mask):\n",
    "    visualize_lsd(lsd)\n",
    "    visualize_mask_non_bin(lsd)\n",
    "    visualize_addition(base_mask, lsd)\n",
    "    visualize_skeleton(lsd, visualize_mask=True)"
   ]
  },
  {
   "cell_type": "code",
   "execution_count": 4,
   "metadata": {},
   "outputs": [],
   "source": [
    "def load_lsd_trees(filename):\n",
    "    with open(filename, 'rb') as f:\n",
    "        lsd_trees = pickle.load(f)\n",
    "    return lsd_trees\n",
    "\n",
    "def save_lsd_trees(lsd_trees, filename):\n",
    "    with open(filename, 'wb') as f:\n",
    "        pickle.dump(lsd_trees, f)"
   ]
  },
  {
   "cell_type": "code",
   "execution_count": 20,
   "metadata": {},
   "outputs": [],
   "source": [
    "def spherical_kernel(outer_radius, thickness=1, filled=True):    \n",
    "    outer_sphere = morphology.ball(radius=outer_radius)\n",
    "    if filled:\n",
    "        return outer_sphere\n",
    "    \n",
    "    thickness = min(thickness, outer_radius)\n",
    "    \n",
    "    inner_radius = outer_radius - thickness\n",
    "    inner_sphere = morphology.ball(radius=inner_radius)\n",
    "    \n",
    "    begin = outer_radius - inner_radius\n",
    "    end = begin + inner_sphere.shape[0]\n",
    "    outer_sphere[begin:end, begin:end, begin:end] -= inner_sphere\n",
    "    return outer_sphere\n",
    "\n",
    "def convolve_with_ball(img, ball_radius, dtype=np.uint16, normalize=True):\n",
    "    kernel = spherical_kernel(ball_radius, filled=True)\n",
    "    convolved = signal.convolve(img.astype(dtype), kernel.astype(dtype), mode='same')\n",
    "    \n",
    "    if not normalize:\n",
    "        return convolved\n",
    "    \n",
    "    return (convolved / kernel.sum()).astype(np.float16)\n",
    "\n",
    "\n",
    "def get_main_regions(binary_mask, min_size=10_000, connectivity=3):\n",
    "    labeled = measure.label(binary_mask, connectivity=connectivity)\n",
    "    region_props = measure.regionprops(labeled)\n",
    "    \n",
    "    main_regions_masks = []\n",
    "    regions_labels = []\n",
    "    bounding_boxes = []\n",
    "    \n",
    "    for props in region_props:\n",
    "        if props.area >= min_size:\n",
    "            main_regions_masks.append(props.filled_image)\n",
    "            regions_labels.append(props.label)\n",
    "            bounding_boxes.append(props.bbox)\n",
    "            \n",
    "    return main_regions_masks, regions_labels, bounding_boxes\n",
    "\n",
    "def get_largest_region(binary_mask, connectivity=3):\n",
    "    labeled = measure.label(binary_mask, connectivity=connectivity)\n",
    "    region_props = measure.regionprops(labeled)\n",
    "    \n",
    "    max_region = 0\n",
    "    max_region_label = 0\n",
    "    \n",
    "    for props in region_props:\n",
    "        if props.area > max_region:\n",
    "            max_region = props.area\n",
    "            max_region_label = props.label\n",
    "\n",
    "    return (labeled == max_region_label).astype(np.uint8)"
   ]
  },
  {
   "cell_type": "code",
   "execution_count": 6,
   "metadata": {},
   "outputs": [],
   "source": [
    "def annihilate_jemiolas_faster(mask, kernel_sizes=[10, 9, 8], fill_threshold=0.5, iters=1, conv_dtype=np.uint16):\n",
    "\n",
    "    kernel_sizes_maps = []\n",
    "    mask = mask.astype(np.uint8)\n",
    "    \n",
    "    for i in range(iters):\n",
    "        kernel_size_map = np.zeros(mask.shape, dtype=np.uint8)\n",
    "\n",
    "        for kernel_size in kernel_sizes:\n",
    "            fill_percentage = convolve_with_ball(mask, kernel_size, dtype=conv_dtype, normalize=True)\n",
    "            \n",
    "            above_threshold_fill_indices = fill_percentage > fill_threshold\n",
    "            kernel_size_map[above_threshold_fill_indices] = kernel_size + 1\n",
    "\n",
    "            mask[above_threshold_fill_indices] = 1\n",
    "            \n",
    "            print(f'Iteration {i + 1} kernel {kernel_size} done')\n",
    "\n",
    "        kernel_sizes_maps.append(kernel_size_map)\n",
    "        print(f'Iteration {i + 1} ended successfully')\n",
    "\n",
    "    return kernel_sizes_maps\n",
    "\n",
    "def onionize(mask, kernel_sizes=[10, 9, 8], fill_threshold=0.8, conv_dtype=np.uint16):\n",
    "\n",
    "    mask = mask.astype(np.uint8)\n",
    "    \n",
    "    kernel_size_map = np.zeros(mask.shape, dtype=np.uint8)\n",
    "\n",
    "    for kernel_size in sorted(kernel_sizes):\n",
    "        fill_percentage = convolve_with_ball(mask, kernel_size, dtype=conv_dtype, normalize=True)\n",
    "        above_threshold_fill_indices = fill_percentage >= fill_threshold\n",
    "        kernel_size_map[above_threshold_fill_indices] = kernel_size + 1\n",
    "        print(f'Kernel {kernel_size} done')\n",
    "\n",
    "    return kernel_size_map"
   ]
  },
  {
   "cell_type": "markdown",
   "metadata": {},
   "source": [
    "## Main region extraction"
   ]
  },
  {
   "cell_type": "code",
   "execution_count": 15,
   "metadata": {},
   "outputs": [],
   "source": [
    "mask_main = get_main_regions(mask)[0][0].astype(np.uint8)\n",
    "# VolumeVisualizer(mask_main, binary=True).visualize()\n",
    "# VolumeVisualizer(skeletonize_3d(mask_main.astype(np.uint8)), binary=True).visualize()"
   ]
  },
  {
   "cell_type": "code",
   "execution_count": 7,
   "metadata": {
    "scrolled": false
   },
   "outputs": [],
   "source": [
    "# lsd_trees = annihilate_jemiolas_faster(mask_main, kernel_sizes=range(0, 13), iters=3)\n",
    "lsd_trees = load_lsd_trees('./data/P12/reconstructions')"
   ]
  },
  {
   "cell_type": "code",
   "execution_count": 16,
   "metadata": {},
   "outputs": [],
   "source": [
    "visualize_skeleton(lsd_trees[-1])"
   ]
  },
  {
   "cell_type": "code",
   "execution_count": 15,
   "metadata": {},
   "outputs": [],
   "source": [
    "reconstruction = (lsd_trees[-1] > 0).astype(np.uint8)\n",
    "# visualize_mask_bin(reconstruction)"
   ]
  },
  {
   "cell_type": "code",
   "execution_count": 16,
   "metadata": {},
   "outputs": [],
   "source": [
    "skeleton = skeletonize_3d(reconstruction)"
   ]
  },
  {
   "cell_type": "code",
   "execution_count": 8,
   "metadata": {},
   "outputs": [
    {
     "name": "stdout",
     "output_type": "stream",
     "text": [
      "CPU times: user 0 ns, sys: 220 ms, total: 220 ms\n",
      "Wall time: 454 ms\n"
     ]
    }
   ],
   "source": [
    "%%time\n",
    "#onion = onionize(reconstruction, kernel_sizes=range(12), fill_threshold=1)\n",
    "onion = np.load('./data/P12/onion.npy')"
   ]
  },
  {
   "cell_type": "code",
   "execution_count": 9,
   "metadata": {},
   "outputs": [],
   "source": [
    "visualize_lsd(onion)"
   ]
  },
  {
   "cell_type": "code",
   "execution_count": 10,
   "metadata": {},
   "outputs": [],
   "source": [
    "# np.save('./data/P12/onion-fully-filled', onion)"
   ]
  },
  {
   "cell_type": "markdown",
   "metadata": {},
   "source": [
    "## Skeleton fixing"
   ]
  },
  {
   "cell_type": "code",
   "execution_count": 11,
   "metadata": {},
   "outputs": [],
   "source": [
    "def iters_wrapper(func): \n",
    "    def inner(data, *args, iters=1, **kwargs): \n",
    "        result = func(data, *args, **kwargs)\n",
    "        \n",
    "        for i in range(iters - 1):\n",
    "            result = func(result, *args, **kwargs)\n",
    "            \n",
    "        return result\n",
    "    return inner "
   ]
  },
  {
   "cell_type": "markdown",
   "metadata": {},
   "source": [
    "### eating leaves"
   ]
  },
  {
   "cell_type": "code",
   "execution_count": 12,
   "metadata": {},
   "outputs": [],
   "source": [
    "@iters_wrapper\n",
    "def trim_skeleton(skeleton):   \n",
    "    padded_skeleton = np.pad(skeleton, 1)\n",
    "    new_skeleton = np.zeros(padded_skeleton.shape)\n",
    "    queue = [tuple(np.argwhere(padded_skeleton)[0])]\n",
    "    new_skeleton[queue[0]] == -1;\n",
    "    \n",
    "    while(len(queue) > 0):\n",
    "        x, y, z = queue.pop(0)\n",
    "        \n",
    "        for dx in [-1, 0, 1]:\n",
    "            for dy in [-1, 0, 1]:\n",
    "                for dz in [-1, 0, 1]:\n",
    "                    if dx == dy == dz == 0:\n",
    "                        continue\n",
    "                    \n",
    "                    neighbour_x = x + dx\n",
    "                    neighbour_y = y + dy\n",
    "                    neighbour_z = z + dz\n",
    "                    if padded_skeleton[neighbour_x, neighbour_y, neighbour_z] == 0:\n",
    "                        continue\n",
    "                        \n",
    "                    if new_skeleton[neighbour_x, neighbour_y, neighbour_z] == 0:\n",
    "                        queue.append((neighbour_x, neighbour_y, neighbour_z))\n",
    "                        new_skeleton[neighbour_x, neighbour_y, neighbour_z] = 2;\n",
    "                        new_skeleton[x, y, z] = 1\n",
    "                        \n",
    "    return (new_skeleton[1:-1, 1:-1, 1:-1] == 1).astype(np.uint8)"
   ]
  },
  {
   "cell_type": "markdown",
   "metadata": {},
   "source": [
    "## thiccness map"
   ]
  },
  {
   "cell_type": "code",
   "execution_count": 17,
   "metadata": {},
   "outputs": [],
   "source": [
    "def propagate_thiccness(skeleton, kernel_size_map):\n",
    "    padded_skeleton = np.pad(skeleton, 1)\n",
    "    padded_kernels_map = np.pad(kernel_size_map, 1)\n",
    "    \n",
    "    thiccness_map = np.zeros(padded_kernels_map.shape)\n",
    "    thiccness_map[padded_skeleton > 0] = padded_kernels_map[padded_skeleton > 0]\n",
    "    \n",
    "    queue = list([tuple(coords) for coords in np.argwhere(padded_skeleton)])\n",
    "    while(len(queue) > 0):\n",
    "        x, y, z = queue.pop(0)\n",
    "        thiccness = thiccness_map[x, y, z]\n",
    "        \n",
    "        for dx in [-1, 0, 1]:\n",
    "            for dy in [-1, 0, 1]:\n",
    "                for dz in [-1, 0, 1]:\n",
    "                    neighbour_x = x + dx\n",
    "                    neighbour_y = y + dy\n",
    "                    neighbour_z = z + dz\n",
    "                    if thiccness_map[neighbour_x, neighbour_y, neighbour_z] > 0:\n",
    "                        continue\n",
    "                        \n",
    "                    if padded_kernels_map[neighbour_x, neighbour_y, neighbour_z] == 0:\n",
    "                        continue\n",
    "                        \n",
    "                    thiccness_map[neighbour_x, neighbour_y, neighbour_z] = thiccness\n",
    "                    queue.append((neighbour_x, neighbour_y, neighbour_z))\n",
    "                        \n",
    "    return thiccness_map[1:-1, 1:-1, 1:-1]"
   ]
  },
  {
   "cell_type": "code",
   "execution_count": 18,
   "metadata": {},
   "outputs": [
    {
     "name": "stdout",
     "output_type": "stream",
     "text": [
      "CPU times: user 27.6 s, sys: 2.22 s, total: 29.8 s\n",
      "Wall time: 30.4 s\n"
     ]
    }
   ],
   "source": [
    "%%time\n",
    "trimmed_skeleton = trim_skeleton(skeleton, iters=8)"
   ]
  },
  {
   "cell_type": "markdown",
   "metadata": {},
   "source": [
    "thiccness is calculated based on trimmed skeleton"
   ]
  },
  {
   "cell_type": "code",
   "execution_count": 23,
   "metadata": {},
   "outputs": [
    {
     "name": "stdout",
     "output_type": "stream",
     "text": [
      "CPU times: user 57.5 s, sys: 1.1 s, total: 58.6 s\n",
      "Wall time: 1min 11s\n"
     ]
    }
   ],
   "source": [
    "%%time\n",
    "thicc_map = propagate_thiccness(trimmed_skeleton, onion)\n",
    "visualize_gradient(thicc_map)"
   ]
  },
  {
   "cell_type": "code",
   "execution_count": 33,
   "metadata": {},
   "outputs": [],
   "source": [
    "def make_ends_meet(skeleton, trimmed_skeleton, thiccness_map, ends_max_thiccness):\n",
    "    ends = (skeleton - trimmed_skeleton) * (thiccness_map <= ends_max_thiccness)\n",
    "    ends = ends.astype(np.uint8)\n",
    "    \n",
    "    trimmed_with_ends = (trimmed_skeleton > 0).astype(np.uint8) + ends\n",
    "    return get_largest_region(trimmed_with_ends, connectivity=3)"
   ]
  },
  {
   "cell_type": "code",
   "execution_count": 34,
   "metadata": {},
   "outputs": [],
   "source": [
    "full_skeleton = make_ends_meet(skeleton, trimmed_skeleton, thicc_map, ends_max_thiccness=4)"
   ]
  },
  {
   "cell_type": "code",
   "execution_count": 35,
   "metadata": {},
   "outputs": [],
   "source": [
    "visualize_addition(full_skeleton, skeleton)"
   ]
  },
  {
   "cell_type": "code",
   "execution_count": 32,
   "metadata": {},
   "outputs": [],
   "source": [
    "visualize_lsd(thicc_map)"
   ]
  },
  {
   "cell_type": "markdown",
   "metadata": {},
   "source": [
    "## Bifurcation detection"
   ]
  },
  {
   "cell_type": "code",
   "execution_count": 48,
   "metadata": {},
   "outputs": [],
   "source": [
    "def mark_bifurcation_regions(skeleton):\n",
    "    \n",
    "    padded_skeleton = np.pad(skeleton, 1)\n",
    "    bifurcations_map = np.zeros(padded_skeleton.shape)\n",
    "    \n",
    "    for skeleton_voxel in np.argwhere(padded_skeleton > 0):\n",
    "        x, y, z = tuple(skeleton_voxel)\n",
    "        kernel_radius = 1\n",
    "        kernel = np.ones((3, 3, 3))\n",
    "        kernel[1, 1, 1] = 0\n",
    "        \n",
    "        skeleton_slice = padded_skeleton[\n",
    "            x-kernel_radius:x+kernel_radius + 1,\n",
    "            y-kernel_radius:y+kernel_radius + 1,\n",
    "            z-kernel_radius:z+kernel_radius + 1\n",
    "        ]\n",
    "        \n",
    "        intersections = (skeleton_slice > 0) * kernel\n",
    "        bifurcations_map[x, y, z] = np.sum(intersections)\n",
    "        \n",
    "    return (bifurcations_map[1:-1, 1:-1, 1:-1] > 2).astype(np.uint8)\n",
    "\n",
    "def mark_leaves(skeleton):\n",
    "    trimmed = trim_skeleton(skeleton, iters=1)\n",
    "    leaves = skeleton - trimmed\n",
    "    return leaves\n",
    "\n",
    "def print_kernels(mask, thiccness_map):\n",
    "    \n",
    "    max_kernel_radius = int(thiccness_map.max())\n",
    "    kernels = [spherical_kernel(radius) for radius in range(max_kernel_radius)]\n",
    "    \n",
    "    padded_mask = np.pad(mask, max_kernel_radius)\n",
    "    padded_thiccness_map = np.pad(thiccness_map, max_kernel_radius)\n",
    "    kernels_image = np.zeros(padded_mask.shape)\n",
    "    \n",
    "    for voxel in np.argwhere(padded_mask > 0):\n",
    "        x, y, z = tuple(voxel)\n",
    "        kernel_radius = int(padded_thiccness_map[x, y, z] - 1)\n",
    "        kernel = kernels[kernel_radius]\n",
    "        \n",
    "        mask_slice = kernels_image[\n",
    "            x-kernel_radius:x+kernel_radius + 1,\n",
    "            y-kernel_radius:y+kernel_radius + 1,\n",
    "            z-kernel_radius:z+kernel_radius + 1\n",
    "        ]\n",
    "        \n",
    "        mask_slice[:] = np.logical_or(mask_slice, kernel)\n",
    "            \n",
    "    return kernels_image[\n",
    "        max_kernel_radius:-max_kernel_radius,\n",
    "        max_kernel_radius:-max_kernel_radius,\n",
    "        max_kernel_radius:-max_kernel_radius\n",
    "    ]"
   ]
  },
  {
   "cell_type": "code",
   "execution_count": 49,
   "metadata": {},
   "outputs": [
    {
     "name": "stdout",
     "output_type": "stream",
     "text": [
      "CPU times: user 4.08 s, sys: 716 ms, total: 4.8 s\n",
      "Wall time: 4.92 s\n"
     ]
    }
   ],
   "source": [
    "%%time\n",
    "bifurcation_map = mark_bifurcation_regions(full_skeleton)\n",
    "leaves_map = mark_leaves(full_skeleton)\n",
    "\n",
    "nodes_map = bifurcation_map + leaves_map"
   ]
  },
  {
   "cell_type": "code",
   "execution_count": 50,
   "metadata": {},
   "outputs": [],
   "source": [
    "nodes_image = print_kernels(nodes_map, thicc_map)\n",
    "# visualize_mask_bin(nodes_image)"
   ]
  },
  {
   "cell_type": "code",
   "execution_count": 52,
   "metadata": {},
   "outputs": [],
   "source": [
    "visualize_addition(nodes_image, reconstruction)"
   ]
  },
  {
   "cell_type": "code",
   "execution_count": 54,
   "metadata": {},
   "outputs": [],
   "source": [
    "np.save('./data/P12/thiccness-map', thicc_map)\n",
    "np.save('./data/P12/skeleton', full_skeleton)"
   ]
  }
 ],
 "metadata": {
  "kernelspec": {
   "display_name": "env-med",
   "language": "python",
   "name": "env-med"
  },
  "language_info": {
   "codemirror_mode": {
    "name": "ipython",
    "version": 3
   },
   "file_extension": ".py",
   "mimetype": "text/x-python",
   "name": "python",
   "nbconvert_exporter": "python",
   "pygments_lexer": "ipython3",
   "version": "3.6.9"
  }
 },
 "nbformat": 4,
 "nbformat_minor": 4
}
