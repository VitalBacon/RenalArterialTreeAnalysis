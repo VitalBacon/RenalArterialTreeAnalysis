{
 "cells": [
  {
   "cell_type": "code",
   "execution_count": 2,
   "metadata": {},
   "outputs": [],
   "source": [
    "import numpy as np\n",
    "import glob\n",
    "import matplotlib.pyplot as plt\n",
    "import cv2\n",
    "from skimage import measure, segmentation\n",
    "from vis_utils import load_volume, VolumeVisualizer\n",
    "from scipy.ndimage import zoom\n",
    "from skimage.morphology import skeletonize, skeletonize_3d\n",
    "from skimage import filters, morphology\n",
    "\n",
    "from scipy.ndimage.filters import convolve, correlate\n",
    "from scipy import signal"
   ]
  },
  {
   "cell_type": "code",
   "execution_count": 3,
   "metadata": {},
   "outputs": [
    {
     "data": {
      "text/plain": [
       "[(0, './data/P01/P01_60um_1612x623x1108.raw'),\n",
       " (1, './data/P02/P02_60um_1387x778x1149.raw'),\n",
       " (2, './data/P03/P03_60um_1473x1163x1148.raw'),\n",
       " (3, './data/P04/P04_60um_1273x466x1045.raw'),\n",
       " (4, './data/P05/P05_60um_1454x817x1102.raw'),\n",
       " (5, './data/P06/P06_60um_1425x564x1028.raw'),\n",
       " (6, './data/P07/P7_60um_1216x692x926.raw'),\n",
       " (7, './data/P08/P08_60um_1728x927x1149.raw'),\n",
       " (8, './data/P09/P09_60um_1359x456x1040.raw'),\n",
       " (9, './data/P10/P10_60um_1339x537x1035.raw'),\n",
       " (10, './data/P11/P11_60um_1735x595x1150.raw'),\n",
       " (11, './data/P12/P12_60um_1333x443x864.raw'),\n",
       " (12, './data/P13/P13_60um_1132x488x877.raw'),\n",
       " (13, './data/P14/P14_60um_1927x746x1124.raw'),\n",
       " (14, './data/P15/P15_60um_1318x640x1059.raw'),\n",
       " (15, './data/P16/P16_60um_1558x687x1084.raw'),\n",
       " (16, './data/P17/P17_60um_1573x555x968.raw'),\n",
       " (17, './data/P320/320_60um_1739x553x960.raw'),\n",
       " (18, './data/P333/333_60um_1762x989x1095.raw'),\n",
       " (19, './data/P73/73_60um_1729x854x1143.raw')]"
      ]
     },
     "execution_count": 3,
     "metadata": {},
     "output_type": "execute_result"
    }
   ],
   "source": [
    "source_dir = './data/'\n",
    "files = list(sorted(glob.glob(source_dir + '/*/*.raw')))\n",
    "list(enumerate(files))"
   ]
  },
  {
   "cell_type": "code",
   "execution_count": 4,
   "metadata": {},
   "outputs": [
    {
     "name": "stdout",
     "output_type": "stream",
     "text": [
      "(432, 222, 666) 63872064\n",
      "CPU times: user 1.08 s, sys: 799 ms, total: 1.88 s\n",
      "Wall time: 2.19 s\n"
     ]
    }
   ],
   "source": [
    "%%time\n",
    "volume = load_volume(files[11], scale=0.5)\n",
    "print(volume.shape, volume.size)"
   ]
  },
  {
   "cell_type": "code",
   "execution_count": 4,
   "metadata": {},
   "outputs": [],
   "source": [
    "visualizer = VolumeVisualizer(volume, binary=False).visualize()"
   ]
  },
  {
   "cell_type": "markdown",
   "metadata": {},
   "source": [
    "## simple threshold segmentation"
   ]
  },
  {
   "cell_type": "code",
   "execution_count": 5,
   "metadata": {},
   "outputs": [],
   "source": [
    "threshold = 70\n",
    "mask = volume > threshold\n",
    "\n",
    "VolumeVisualizer(mask).visualize()"
   ]
  },
  {
   "cell_type": "code",
   "execution_count": 6,
   "metadata": {},
   "outputs": [],
   "source": [
    "def get_main_regions(binary_mask, min_size=10_000, connectivity=3):\n",
    "    labeled = measure.label(binary_mask, connectivity=connectivity)\n",
    "    region_props = measure.regionprops(labeled)\n",
    "    \n",
    "    main_regions_masks = []\n",
    "    \n",
    "    for props in region_props:\n",
    "        if props.area >= min_size:\n",
    "            main_regions_masks.append((props.filled_image, props.bbox))\n",
    "            \n",
    "    return main_regions_masks\n",
    "\n",
    "def merge_masks(masks, img_shape):\n",
    "    result_mask = np.zeros(img_shape, dtype=np.uint8)\n",
    "    for mask, bbox in masks:\n",
    "        min1, min2, min3, max1, max2, max3 = bbox\n",
    "        result_mask[min1:max1, min2:max2, min3:max3] += mask.astype(np.uint8)\n",
    "        \n",
    "    return result_mask"
   ]
  },
  {
   "cell_type": "code",
   "execution_count": 7,
   "metadata": {},
   "outputs": [
    {
     "name": "stdout",
     "output_type": "stream",
     "text": [
      "CPU times: user 10.5 s, sys: 339 ms, total: 10.9 s\n",
      "Wall time: 10.9 s\n"
     ]
    },
    {
     "data": {
      "text/plain": [
       "1"
      ]
     },
     "execution_count": 7,
     "metadata": {},
     "output_type": "execute_result"
    }
   ],
   "source": [
    "%%time\n",
    "main_regions_masks = get_main_regions(mask, min_size=5_000, connectivity=1)\n",
    "len(main_regions_masks)"
   ]
  },
  {
   "cell_type": "code",
   "execution_count": 8,
   "metadata": {},
   "outputs": [],
   "source": [
    "VolumeVisualizer(\n",
    "    main_regions_masks[0][0], binary=False\n",
    ").visualize(scale=1, primary_color=(255,255,255))"
   ]
  },
  {
   "cell_type": "code",
   "execution_count": 9,
   "metadata": {},
   "outputs": [],
   "source": [
    "merged_mask = merge_masks(main_regions_masks, mask.shape)\n",
    "merged_mask[50:180, 50:160, 70:200] = 0.5\n",
    "\n",
    "visualizer = VolumeVisualizer(\n",
    "    merged_mask * 100\n",
    ").visualize(scale=1, primary_color=(255,255,255))"
   ]
  },
  {
   "cell_type": "code",
   "execution_count": 10,
   "metadata": {},
   "outputs": [
    {
     "data": {
      "text/plain": [
       "True"
      ]
     },
     "execution_count": 10,
     "metadata": {},
     "output_type": "execute_result"
    }
   ],
   "source": [
    "main_regions_masks[0][0].max()"
   ]
  },
  {
   "cell_type": "code",
   "execution_count": 11,
   "metadata": {},
   "outputs": [],
   "source": [
    "main_mask = main_regions_masks[0][0]"
   ]
  },
  {
   "cell_type": "markdown",
   "metadata": {},
   "source": [
    "## generating spherical kernel"
   ]
  },
  {
   "cell_type": "code",
   "execution_count": 12,
   "metadata": {},
   "outputs": [],
   "source": [
    "def spherical_kernel(outer_radius, thickness=1, filled=False):\n",
    "   \n",
    "    inner_radius = outer_radius - thickness\n",
    "    \n",
    "    outer_sphere = morphology.ball(radius=outer_radius)\n",
    "    if filled:\n",
    "        return outer_sphere\n",
    "    \n",
    "    inner_sphere = morphology.ball(radius=inner_radius)\n",
    "    \n",
    "    begin = outer_radius - inner_radius\n",
    "    end = begin + inner_sphere.shape[0]\n",
    "    \n",
    "    outer_sphere[begin:end, begin:end, begin:end] -= inner_sphere\n",
    "    return outer_sphere"
   ]
  },
  {
   "cell_type": "markdown",
   "metadata": {},
   "source": [
    "## convolving with 3d kernel"
   ]
  },
  {
   "cell_type": "code",
   "execution_count": 13,
   "metadata": {},
   "outputs": [],
   "source": [
    "def convolve_with_ball(mask, ball_radius, dtype=np.uint16):\n",
    "    kernel = spherical_kernel(ball_radius, filled=True)\n",
    "    return signal.convolve(mask.astype(dtype), kernel.astype(dtype), mode='valid')"
   ]
  },
  {
   "cell_type": "code",
   "execution_count": 52,
   "metadata": {},
   "outputs": [
    {
     "name": "stdout",
     "output_type": "stream",
     "text": [
      "(416, 206, 650) 1868\n",
      "CPU times: user 8.15 s, sys: 4.71 s, total: 12.9 s\n",
      "Wall time: 14.7 s\n"
     ]
    }
   ],
   "source": [
    "%%time\n",
    "\n",
    "convolved = convolve_with_ball(mask, ball_radius=8)\n",
    "print(convolved.shape, convolved.max())"
   ]
  },
  {
   "cell_type": "code",
   "execution_count": 53,
   "metadata": {},
   "outputs": [],
   "source": [
    "VolumeVisualizer((convolved / convolved.max() * 255).astype(np.uint8), binary=False\n",
    "                ).visualize(primary_color=(255,255,255))"
   ]
  },
  {
   "cell_type": "markdown",
   "metadata": {},
   "source": [
    "## extracting main arterial regions from convolved image"
   ]
  },
  {
   "cell_type": "code",
   "execution_count": 37,
   "metadata": {},
   "outputs": [],
   "source": [
    "def get_arterial_regions(conv_img, lower_hist_fraction, upper_hist_fraction):\n",
    "    upper_hist_value = upper_hist_fraction * conv_img.max()\n",
    "    lower_hist_value = lower_hist_fraction * conv_img.max()\n",
    "    return filters.apply_hysteresis_threshold(conv_img, lower_hist_value, upper_hist_value)"
   ]
  },
  {
   "cell_type": "code",
   "execution_count": 49,
   "metadata": {},
   "outputs": [
    {
     "name": "stdout",
     "output_type": "stream",
     "text": [
      "1\n",
      "CPU times: user 2.84 s, sys: 1.83 s, total: 4.67 s\n",
      "Wall time: 5.67 s\n"
     ]
    }
   ],
   "source": [
    "%%time\n",
    "arterial_regions = get_arterial_regions(convolved, 0.2, 0.9)\n",
    "print(measure.label(arterial_regions).max())"
   ]
  },
  {
   "cell_type": "code",
   "execution_count": 50,
   "metadata": {},
   "outputs": [],
   "source": [
    "VolumeVisualizer(arterial_regions, binary=True).visualize()"
   ]
  },
  {
   "cell_type": "markdown",
   "metadata": {},
   "source": [
    "## skeletonization of arterial regions"
   ]
  },
  {
   "cell_type": "code",
   "execution_count": 51,
   "metadata": {},
   "outputs": [],
   "source": [
    "skeletonized = skeletonize_3d(arterial_regions.astype(np.uint8))\n",
    "VolumeVisualizer(skeletonized, binary=True).visualize()"
   ]
  },
  {
   "cell_type": "markdown",
   "metadata": {},
   "source": [
    "## reconstructing arterial structure from skeletonized image"
   ]
  },
  {
   "cell_type": "code",
   "execution_count": 47,
   "metadata": {},
   "outputs": [],
   "source": [
    "def reconstruct_from_skeleton(skeleton, ball_radius):\n",
    "    \n",
    "    mask = np.zeros(skeleton.shape, dtype=np.uint8)\n",
    "    mask = np.pad(mask, ball_radius)\n",
    "    \n",
    "    kernel = spherical_kernel(ball_radius, filled=True)\n",
    "    central_points = np.argwhere(skeleton == 1)\n",
    "    \n",
    "    for central_point in central_points:\n",
    "        start_corner = tuple(central_point)\n",
    "        end_corner = tuple(central_point + 2*ball_radius + 1)\n",
    "        \n",
    "        start1, start2, start3 = start_corner\n",
    "        end1, end2, end3 = end_corner\n",
    "        \n",
    "        mask_slice = mask[start1:end1, start2:end2, start3:end3]\n",
    "        mask_slice[:] = np.logical_or(mask_slice, kernel)\n",
    "        \n",
    "    return mask[ball_radius:-ball_radius, ball_radius:-ball_radius, ball_radius:-ball_radius]"
   ]
  },
  {
   "cell_type": "code",
   "execution_count": 48,
   "metadata": {},
   "outputs": [],
   "source": [
    "reconstructed = reconstruct_from_skeleton(skeletonized, 10)\n",
    "VolumeVisualizer(reconstructed, binary=True).visualize()"
   ]
  },
  {
   "cell_type": "code",
   "execution_count": 43,
   "metadata": {},
   "outputs": [],
   "source": [
    "skxd = skeletonize_3d(reconstructed.astype(np.uint8))\n",
    "VolumeVisualizer(skxd, binary=True).visualize()"
   ]
  }
 ],
 "metadata": {
  "kernelspec": {
   "display_name": "env-med",
   "language": "python",
   "name": "env-med"
  },
  "language_info": {
   "codemirror_mode": {
    "name": "ipython",
    "version": 3
   },
   "file_extension": ".py",
   "mimetype": "text/x-python",
   "name": "python",
   "nbconvert_exporter": "python",
   "pygments_lexer": "ipython3",
   "version": "3.6.9"
  }
 },
 "nbformat": 4,
 "nbformat_minor": 4
}
