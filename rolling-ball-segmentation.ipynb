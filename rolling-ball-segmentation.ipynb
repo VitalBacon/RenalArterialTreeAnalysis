{
 "cells": [
  {
   "cell_type": "code",
   "execution_count": 40,
   "metadata": {},
   "outputs": [],
   "source": [
    "import numpy as np\n",
    "import glob\n",
    "import matplotlib.pyplot as plt\n",
    "import cv2\n",
    "from skimage import measure, segmentation\n",
    "from vis_utils import load_volume, VolumeVisualizer\n",
    "from scipy.ndimage import zoom\n",
    "from skimage.morphology import skeletonize, skeletonize_3d\n",
    "from skimage import filters, morphology\n",
    "\n",
    "from scipy.ndimage.filters import convolve, correlate\n",
    "from scipy import signal"
   ]
  },
  {
   "cell_type": "code",
   "execution_count": 2,
   "metadata": {},
   "outputs": [
    {
     "data": {
      "text/plain": [
       "[(0, './data/P01/P01_60um_1612x623x1108.raw'),\n",
       " (1, './data/P02/P02_60um_1387x778x1149.raw'),\n",
       " (2, './data/P03/P03_60um_1473x1163x1148.raw'),\n",
       " (3, './data/P04/P04_60um_1273x466x1045.raw'),\n",
       " (4, './data/P05/P05_60um_1454x817x1102.raw'),\n",
       " (5, './data/P06/P06_60um_1425x564x1028.raw'),\n",
       " (6, './data/P07/P7_60um_1216x692x926.raw'),\n",
       " (7, './data/P08/P08_60um_1728x927x1149.raw'),\n",
       " (8, './data/P09/P09_60um_1359x456x1040.raw'),\n",
       " (9, './data/P10/P10_60um_1339x537x1035.raw'),\n",
       " (10, './data/P11/P11_60um_1735x595x1150.raw'),\n",
       " (11, './data/P12/P12_60um_1333x443x864.raw'),\n",
       " (12, './data/P13/P13_60um_1132x488x877.raw'),\n",
       " (13, './data/P14/P14_60um_1927x746x1124.raw'),\n",
       " (14, './data/P15/P15_60um_1318x640x1059.raw'),\n",
       " (15, './data/P16/P16_60um_1558x687x1084.raw'),\n",
       " (16, './data/P17/P17_60um_1573x555x968.raw'),\n",
       " (17, './data/P320/320_60um_1739x553x960.raw'),\n",
       " (18, './data/P333/333_60um_1762x989x1095.raw'),\n",
       " (19, './data/P73/73_60um_1729x854x1143.raw')]"
      ]
     },
     "execution_count": 2,
     "metadata": {},
     "output_type": "execute_result"
    }
   ],
   "source": [
    "source_dir = './data/'\n",
    "files = list(sorted(glob.glob(source_dir + '/*/*.raw')))\n",
    "list(enumerate(files))"
   ]
  },
  {
   "cell_type": "code",
   "execution_count": 3,
   "metadata": {},
   "outputs": [
    {
     "name": "stdout",
     "output_type": "stream",
     "text": [
      "(432, 222, 666) 63872064\n",
      "CPU times: user 1.26 s, sys: 508 ms, total: 1.77 s\n",
      "Wall time: 1.8 s\n"
     ]
    }
   ],
   "source": [
    "%%time\n",
    "volume = load_volume(files[11], scale=0.5)\n",
    "print(volume.shape, volume.size)"
   ]
  },
  {
   "cell_type": "code",
   "execution_count": 4,
   "metadata": {},
   "outputs": [],
   "source": [
    "visualizer = VolumeVisualizer(volume, binary=False).visualize()"
   ]
  },
  {
   "cell_type": "markdown",
   "metadata": {},
   "source": [
    "## simple threshold segmentation"
   ]
  },
  {
   "cell_type": "code",
   "execution_count": 5,
   "metadata": {},
   "outputs": [],
   "source": [
    "threshold = 70\n",
    "mask = volume > threshold\n",
    "\n",
    "VolumeVisualizer(mask).visualize()"
   ]
  },
  {
   "cell_type": "markdown",
   "metadata": {},
   "source": [
    "## histeresis threshold"
   ]
  },
  {
   "cell_type": "code",
   "execution_count": 26,
   "metadata": {},
   "outputs": [],
   "source": [
    "high_th = 60\n",
    "low_th = 50\n",
    "\n",
    "mask = apply_hysteresis_threshold(volume, low=low_th, high=high_th)\n",
    "\n",
    "VolumeVisualizer(mask).visualize()"
   ]
  },
  {
   "cell_type": "code",
   "execution_count": 6,
   "metadata": {},
   "outputs": [],
   "source": [
    "def get_main_regions(binary_mask, min_size=10_000, connectivity=3):\n",
    "    labeled = measure.label(binary_mask, connectivity=connectivity)\n",
    "    region_props = measure.regionprops(labeled)\n",
    "    \n",
    "    main_regions_masks = []\n",
    "    \n",
    "    for props in region_props:\n",
    "        if props.area >= min_size:\n",
    "            main_regions_masks.append((props.filled_image, props.bbox))\n",
    "            \n",
    "    return main_regions_masks\n",
    "\n",
    "def merge_masks(masks, img_shape):\n",
    "    result_mask = np.zeros(img_shape, dtype=np.uint8)\n",
    "    for mask, bbox in masks:\n",
    "        min1, min2, min3, max1, max2, max3 = bbox\n",
    "        result_mask[min1:max1, min2:max2, min3:max3] += mask.astype(np.uint8)\n",
    "        \n",
    "    return result_mask"
   ]
  },
  {
   "cell_type": "code",
   "execution_count": 7,
   "metadata": {},
   "outputs": [
    {
     "name": "stdout",
     "output_type": "stream",
     "text": [
      "CPU times: user 11.6 s, sys: 585 ms, total: 12.2 s\n",
      "Wall time: 12.2 s\n"
     ]
    },
    {
     "data": {
      "text/plain": [
       "1"
      ]
     },
     "execution_count": 7,
     "metadata": {},
     "output_type": "execute_result"
    }
   ],
   "source": [
    "%%time\n",
    "main_regions_masks = get_main_regions(mask, min_size=5_000, connectivity=1)\n",
    "len(main_regions_masks)"
   ]
  },
  {
   "cell_type": "code",
   "execution_count": 34,
   "metadata": {},
   "outputs": [],
   "source": [
    "VolumeVisualizer(\n",
    "    main_regions_masks[0][0], binary=False\n",
    ").visualize(scale=1, primary_color=(255,255,255))"
   ]
  },
  {
   "cell_type": "code",
   "execution_count": 5,
   "metadata": {},
   "outputs": [
    {
     "ename": "NameError",
     "evalue": "name 'merge_masks' is not defined",
     "output_type": "error",
     "traceback": [
      "\u001b[0;31m---------------------------------------------------------------------------\u001b[0m",
      "\u001b[0;31mNameError\u001b[0m                                 Traceback (most recent call last)",
      "\u001b[0;32m<ipython-input-5-f863742305f3>\u001b[0m in \u001b[0;36m<module>\u001b[0;34m\u001b[0m\n\u001b[0;32m----> 1\u001b[0;31m \u001b[0mmerged_mask\u001b[0m \u001b[0;34m=\u001b[0m \u001b[0mmerge_masks\u001b[0m\u001b[0;34m(\u001b[0m\u001b[0mmain_regions_masks\u001b[0m\u001b[0;34m,\u001b[0m \u001b[0mbinary_mask\u001b[0m\u001b[0;34m.\u001b[0m\u001b[0mshape\u001b[0m\u001b[0;34m)\u001b[0m\u001b[0;34m\u001b[0m\u001b[0;34m\u001b[0m\u001b[0m\n\u001b[0m\u001b[1;32m      2\u001b[0m \u001b[0mmerged_mask\u001b[0m\u001b[0;34m[\u001b[0m\u001b[0;36m50\u001b[0m\u001b[0;34m:\u001b[0m\u001b[0;36m180\u001b[0m\u001b[0;34m,\u001b[0m \u001b[0;36m50\u001b[0m\u001b[0;34m:\u001b[0m\u001b[0;36m160\u001b[0m\u001b[0;34m,\u001b[0m \u001b[0;36m70\u001b[0m\u001b[0;34m:\u001b[0m\u001b[0;36m200\u001b[0m\u001b[0;34m]\u001b[0m \u001b[0;34m=\u001b[0m \u001b[0;36m0.5\u001b[0m\u001b[0;34m\u001b[0m\u001b[0;34m\u001b[0m\u001b[0m\n\u001b[1;32m      3\u001b[0m \u001b[0;34m\u001b[0m\u001b[0m\n\u001b[1;32m      4\u001b[0m visualizer = VolumeVisualizer(\n\u001b[1;32m      5\u001b[0m     \u001b[0mmerged_mask\u001b[0m \u001b[0;34m*\u001b[0m \u001b[0;36m100\u001b[0m\u001b[0;34m\u001b[0m\u001b[0;34m\u001b[0m\u001b[0m\n",
      "\u001b[0;31mNameError\u001b[0m: name 'merge_masks' is not defined"
     ]
    }
   ],
   "source": [
    "merged_mask = merge_masks(main_regions_masks, binary_mask.shape)\n",
    "merged_mask[50:180, 50:160, 70:200] = 0.5\n",
    "\n",
    "visualizer = VolumeVisualizer(\n",
    "    merged_mask * 100\n",
    ").visualize(scale=1, primary_color=(255,255,255))"
   ]
  },
  {
   "cell_type": "code",
   "execution_count": 8,
   "metadata": {},
   "outputs": [
    {
     "data": {
      "text/plain": [
       "True"
      ]
     },
     "execution_count": 8,
     "metadata": {},
     "output_type": "execute_result"
    }
   ],
   "source": [
    "main_regions_masks[0][0].max()"
   ]
  },
  {
   "cell_type": "code",
   "execution_count": 9,
   "metadata": {},
   "outputs": [],
   "source": [
    "main_mask = main_regions_masks[0][0]"
   ]
  },
  {
   "cell_type": "markdown",
   "metadata": {},
   "source": [
    "## generating spherical kernel"
   ]
  },
  {
   "cell_type": "code",
   "execution_count": 61,
   "metadata": {},
   "outputs": [],
   "source": [
    "def spherical_kernel(outer_radius, thickness=1):\n",
    "   \n",
    "    inner_radius = outer_radius - thickness\n",
    "    \n",
    "    outer_sphere = morphology.ball(radius=outer_radius)\n",
    "    inner_sphere = morphology.ball(radius=inner_radius)\n",
    "    \n",
    "    begin = outer_radius - inner_radius\n",
    "    end = begin + inner_sphere.shape[0]\n",
    "    \n",
    "    outer_sphere[begin:end, begin:end, begin:end] -= inner_sphere\n",
    "    return outer_sphere"
   ]
  },
  {
   "cell_type": "code",
   "execution_count": 26,
   "metadata": {},
   "outputs": [],
   "source": [
    "kernel = spherical_kernel(outer_radius=20)\n",
    "VolumeVisualizer(kernel[:20], binary=False).visualize(primary_color=(255,255,255))"
   ]
  },
  {
   "cell_type": "code",
   "execution_count": 30,
   "metadata": {},
   "outputs": [],
   "source": [
    "conv = convolution.convolve(kernel, kernel, normalize_kernel=False)"
   ]
  },
  {
   "cell_type": "code",
   "execution_count": 32,
   "metadata": {},
   "outputs": [
    {
     "data": {
      "text/plain": [
       "(4730.0, 4730)"
      ]
     },
     "execution_count": 32,
     "metadata": {},
     "output_type": "execute_result"
    }
   ],
   "source": [
    "conv.max()"
   ]
  },
  {
   "cell_type": "markdown",
   "metadata": {},
   "source": [
    "## convolving with 3d kernel"
   ]
  },
  {
   "cell_type": "code",
   "execution_count": 62,
   "metadata": {},
   "outputs": [
    {
     "name": "stdout",
     "output_type": "stream",
     "text": [
      "8572 (31, 31, 31)\n"
     ]
    }
   ],
   "source": [
    "# (432, 222, 666)\n",
    "kernel_radius = 15\n",
    "kernel = spherical_kernel(kernel_radius, 4)\n",
    "kernel_size = kernel.shape[0]\n",
    "\n",
    "print(kernel.sum(), kernel.shape)\n",
    "\n",
    "mask_slice = main_mask.copy()\n",
    "# mask_slice[:kernel_size, :kernel_size, :kernel_size] = kernel\n",
    "# VolumeVisualizer(mask_slice).visualize()"
   ]
  },
  {
   "cell_type": "code",
   "execution_count": 63,
   "metadata": {},
   "outputs": [
    {
     "name": "stdout",
     "output_type": "stream",
     "text": [
      "(381, 166, 615) 4016\n",
      "CPU times: user 7.05 s, sys: 4.58 s, total: 11.6 s\n",
      "Wall time: 12.1 s\n"
     ]
    }
   ],
   "source": [
    "%%time\n",
    "\n",
    "convolved = signal.convolve(mask_slice.astype(np.uint16), kernel.astype(np.uint16), mode='valid')\n",
    "print(convolved.shape, convolved.max())"
   ]
  },
  {
   "cell_type": "code",
   "execution_count": 64,
   "metadata": {},
   "outputs": [],
   "source": [
    "VolumeVisualizer((convolved / convolved.max() * 255).astype(np.uint8), binary=False\n",
    "                ).visualize(primary_color=(255,255,255))"
   ]
  },
  {
   "cell_type": "code",
   "execution_count": 161,
   "metadata": {},
   "outputs": [
    {
     "data": {
      "text/plain": [
       "(array([0, 1, 2, 6], dtype=uint8), array([106,   6,  12,   1]))"
      ]
     },
     "execution_count": 161,
     "metadata": {},
     "output_type": "execute_result"
    }
   ],
   "source": [
    "np.unique(kernel_conv, return_counts=True)"
   ]
  },
  {
   "cell_type": "code",
   "execution_count": 14,
   "metadata": {},
   "outputs": [],
   "source": [
    "def disk_kernel(outer_radius, inner_radius='auto'):\n",
    "    \n",
    "    if inner_radius == 'auto':\n",
    "        inner_radius = outer_radius - 1\n",
    "    \n",
    "    outer_sphere = morphology.disk(radius=outer_radius)\n",
    "    inner_sphere = morphology.disk(radius=inner_radius)\n",
    "    \n",
    "    begin = outer_radius - inner_radius\n",
    "    end = begin + inner_sphere.shape[0]\n",
    "    \n",
    "    outer_sphere[begin:end, begin:end] -= inner_sphere\n",
    "    return outer_sphere"
   ]
  },
  {
   "cell_type": "code",
   "execution_count": 16,
   "metadata": {},
   "outputs": [
    {
     "name": "stdout",
     "output_type": "stream",
     "text": [
      "253 1.0\n"
     ]
    },
    {
     "data": {
      "text/plain": [
       "<matplotlib.image.AxesImage at 0x7f3779d02438>"
      ]
     },
     "execution_count": 16,
     "metadata": {},
     "output_type": "execute_result"
    },
    {
     "data": {
      "image/png": "[encoded data removed]",
      "text/plain": [
       "<Figure size 432x288 with 1 Axes>"
      ]
     },
     "metadata": {
      "needs_background": "light"
     },
     "output_type": "display_data"
    }
   ],
   "source": [
    "kernel = morphology.disk(radius=9)\n",
    "conv = convolution.convolve(kernel.copy(), kernel.copy())\n",
    "print(kernel.sum(), conv.max())\n",
    "plt.imshow(kernel)"
   ]
  },
  {
   "cell_type": "code",
   "execution_count": 24,
   "metadata": {},
   "outputs": [
    {
     "name": "stdout",
     "output_type": "stream",
     "text": [
      "377 0.5305039787798409\n"
     ]
    },
    {
     "data": {
      "text/plain": [
       "<matplotlib.image.AxesImage at 0x7f3779f2e588>"
      ]
     },
     "execution_count": 24,
     "metadata": {},
     "output_type": "execute_result"
    },
    {
     "data": {
      "image/png": "[encoded data removed]",
      "text/plain": [
       "<Figure size 432x288 with 1 Axes>"
      ]
     },
     "metadata": {
      "needs_background": "light"
     },
     "output_type": "display_data"
    }
   ],
   "source": [
    "kernel = morphology.disk(radius=11)\n",
    "kernel2 = kernel.copy()\n",
    "kernel2[:11] = 0\n",
    "conv = convolution.convolve(kernel2, kernel)\n",
    "print(kernel.sum(), conv.max())\n",
    "plt.imshow(kernel)"
   ]
  },
  {
   "cell_type": "code",
   "execution_count": 23,
   "metadata": {},
   "outputs": [
    {
     "data": {
      "text/plain": [
       "<matplotlib.image.AxesImage at 0x7f377a0c8278>"
      ]
     },
     "execution_count": 23,
     "metadata": {},
     "output_type": "execute_result"
    },
    {
     "data": {
      "image/png": "[encoded data removed]",
      "text/plain": [
       "<Figure size 432x288 with 1 Axes>"
      ]
     },
     "metadata": {
      "needs_background": "light"
     },
     "output_type": "display_data"
    }
   ],
   "source": [
    "plt.imshow(kernel2)"
   ]
  },
  {
   "cell_type": "code",
   "execution_count": 120,
   "metadata": {},
   "outputs": [
    {
     "data": {
      "text/plain": [
       "<matplotlib.image.AxesImage at 0x7f60e29142e8>"
      ]
     },
     "execution_count": 120,
     "metadata": {},
     "output_type": "execute_result"
    },
    {
     "data": {
      "image/png": "[encoded data removed]",
      "text/plain": [
       "<Figure size 432x288 with 1 Axes>"
      ]
     },
     "metadata": {
      "needs_background": "light"
     },
     "output_type": "display_data"
    }
   ],
   "source": [
    "plt.imshow(kernel_conv[2])"
   ]
  },
  {
   "cell_type": "code",
   "execution_count": 122,
   "metadata": {},
   "outputs": [
    {
     "data": {
      "text/plain": [
       "(6, 6)"
      ]
     },
     "execution_count": 122,
     "metadata": {},
     "output_type": "execute_result"
    }
   ],
   "source": [
    "kernel_conv.max(), kernel.sum()"
   ]
  },
  {
   "cell_type": "code",
   "execution_count": 91,
   "metadata": {},
   "outputs": [
    {
     "data": {
      "text/plain": [
       "array([[[27.]]])"
      ]
     },
     "execution_count": 91,
     "metadata": {},
     "output_type": "execute_result"
    }
   ],
   "source": [
    "cube1 = np.ones((3, 3, 3))\n",
    "# cube1[1, 1, 1] = 0\n",
    "cube2 = np.ones((3, 3, 3))\n",
    "signal.convolve(cube1, cube2, mode='valid')"
   ]
  },
  {
   "cell_type": "code",
   "execution_count": 74,
   "metadata": {},
   "outputs": [
    {
     "data": {
      "text/plain": [
       "array([[12, 16],\n",
       "       [24, 28]])"
      ]
     },
     "execution_count": 74,
     "metadata": {},
     "output_type": "execute_result"
    }
   ],
   "source": [
    "arr = np.array([\n",
    "    [1, 2, 3],\n",
    "    [4, 5, 6],\n",
    "    [7, 8, 9]\n",
    "])\n",
    "\n",
    "ker = np.array([\n",
    "    [1, 1],\n",
    "    [1, 1]\n",
    "])\n",
    "\n",
    "signal.convolve(arr, ker, mode='valid')"
   ]
  }
 ],
 "metadata": {
  "kernelspec": {
   "display_name": "env-med",
   "language": "python",
   "name": "env-med"
  },
  "language_info": {
   "codemirror_mode": {
    "name": "ipython",
    "version": 3
   },
   "file_extension": ".py",
   "mimetype": "text/x-python",
   "name": "python",
   "nbconvert_exporter": "python",
   "pygments_lexer": "ipython3",
   "version": "3.6.9"
  }
 },
 "nbformat": 4,
 "nbformat_minor": 4
}
