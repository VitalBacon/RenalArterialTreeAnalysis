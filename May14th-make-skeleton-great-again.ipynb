{
 "cells": [
  {
   "cell_type": "code",
   "execution_count": 1,
   "metadata": {},
   "outputs": [],
   "source": [
    "import numpy as np\n",
    "import glob\n",
    "import matplotlib.pyplot as plt\n",
    "import cv2\n",
    "from skimage import measure, segmentation, feature\n",
    "from vis_utils import load_volume, VolumeVisualizer, ColorMapVisualizer\n",
    "from scipy.ndimage import zoom\n",
    "from skimage.morphology import skeletonize, skeletonize_3d\n",
    "\n",
    "from skimage import filters, morphology\n",
    "\n",
    "from scipy.ndimage.filters import convolve, correlate\n",
    "from scipy import signal\n",
    "\n",
    "from skimage.filters import frangi, sato\n",
    "\n",
    "from PIL import Image\n",
    "import pickle"
   ]
  },
  {
   "cell_type": "code",
   "execution_count": 5,
   "metadata": {
    "scrolled": true
   },
   "outputs": [
    {
     "data": {
      "text/plain": [
       "[(0, './data/P01_60um_1612x623x1108.raw'),\n",
       " (1, './data/P12_60um_1333x443x864.raw')]"
      ]
     },
     "execution_count": 5,
     "metadata": {},
     "output_type": "execute_result"
    }
   ],
   "source": [
    "source_dir = './data/*'\n",
    "files = list(sorted(glob.glob(source_dir + '.raw')))\n",
    "list(enumerate(files))"
   ]
  },
  {
   "cell_type": "code",
   "execution_count": 7,
   "metadata": {},
   "outputs": [
    {
     "name": "stdout",
     "output_type": "stream",
     "text": [
      "CPU times: user 1.33 s, sys: 399 ms, total: 1.73 s\n",
      "Wall time: 2.52 s\n"
     ]
    },
    {
     "data": {
      "text/plain": [
       "(432, 222, 666)"
      ]
     },
     "execution_count": 7,
     "metadata": {},
     "output_type": "execute_result"
    }
   ],
   "source": [
    "%%time\n",
    "mask = load_volume(files[1], scale=0.5)\n",
    "mask.shape"
   ]
  },
  {
   "cell_type": "code",
   "execution_count": 9,
   "metadata": {},
   "outputs": [],
   "source": [
    "threshold = 70\n",
    "mask = mask > threshold\n",
    "VolumeVisualizer(mask, binary=True).visualize()"
   ]
  },
  {
   "cell_type": "markdown",
   "metadata": {},
   "source": [
    "## Utility functions"
   ]
  },
  {
   "cell_type": "markdown",
   "metadata": {},
   "source": [
    "### Visualisation functions"
   ]
  },
  {
   "cell_type": "code",
   "execution_count": 10,
   "metadata": {},
   "outputs": [],
   "source": [
    "def visualize_addition(base, base_with_addition):\n",
    "    base = (base.copy() > 0).astype(np.uint8)\n",
    "    addition = (base_with_addition > 0).astype(np.uint8)\n",
    "    addition[base == 1] = 0\n",
    "    ColorMapVisualizer(base + addition * 2).visualize()\n",
    "    \n",
    "def visualize_lsd(lsd_mask):\n",
    "    ColorMapVisualizer(lsd_mask.astype(np.uint8)).visualize()\n",
    "    \n",
    "def visualize_gradient(lsd_mask):\n",
    "    ColorMapVisualizer(lsd_mask.astype(np.uint8)).visualize(gradient=True)\n",
    "    \n",
    "def visualize_mask_bin(mask):\n",
    "    VolumeVisualizer((mask > 0).astype(np.uint8), binary=True).visualize()\n",
    "    \n",
    "def visualize_mask_non_bin(mask):\n",
    "    VolumeVisualizer((mask > 0).astype(np.uint8) * 255, binary=False).visualize()\n",
    "    \n",
    "def visualize_skeleton(mask, visualize_mask=True, visualize_both_versions=False):\n",
    "    skeleton = skeletonize((mask > 0).astype(np.uint8))\n",
    "    if not visualize_mask or visualize_both_versions:\n",
    "        VolumeVisualizer(skeleton, binary=True).visualize()\n",
    "    if visualize_mask or visualize_both_versions:\n",
    "        skeleton = skeleton.astype(np.uint8) * 4\n",
    "        mask = (mask > 0).astype(np.uint8) * 3\n",
    "        mask[skeleton != 0] = 0\n",
    "        ColorMapVisualizer(skeleton + mask).visualize()\n",
    "\n",
    "def visualize_ultimate(lsd, base_mask):\n",
    "    visualize_lsd(lsd)\n",
    "    visualize_mask_non_bin(lsd)\n",
    "    visualize_addition(base_mask, lsd)\n",
    "    visualize_skeleton(lsd, visualize_mask=True)"
   ]
  },
  {
   "cell_type": "code",
   "execution_count": 11,
   "metadata": {},
   "outputs": [],
   "source": [
    "def load_lsd_trees(filename):\n",
    "    with open(filename, 'rb') as f:\n",
    "        lsd_trees = pickle.load(f)\n",
    "    return lsd_trees\n",
    "\n",
    "def save_lsd_trees(lsd_trees, filename):\n",
    "    with open(filename, 'wb') as f:\n",
    "        pickle.dump(lsd_trees, f)"
   ]
  },
  {
   "cell_type": "code",
   "execution_count": 12,
   "metadata": {},
   "outputs": [],
   "source": [
    "def spherical_kernel(outer_radius, thickness=1, filled=True):    \n",
    "    outer_sphere = morphology.ball(radius=outer_radius)\n",
    "    if filled:\n",
    "        return outer_sphere\n",
    "    \n",
    "    inner_radius = outer_radius - thickness\n",
    "    inner_sphere = morphology.ball(radius=inner_radius)\n",
    "    \n",
    "    begin = outer_radius - inner_radius\n",
    "    end = begin + inner_sphere.shape[0]\n",
    "    outer_sphere[begin:end, begin:end, begin:end] -= inner_sphere\n",
    "    return outer_sphere\n",
    "\n",
    "def convolve_with_ball(img, ball_radius, dtype=np.uint16, normalize=True):\n",
    "    kernel = spherical_kernel(ball_radius, filled=True)\n",
    "    convolved = signal.convolve(img.astype(dtype), kernel.astype(dtype), mode='same')\n",
    "    \n",
    "    if not normalize:\n",
    "        return convolved\n",
    "    \n",
    "    return (convolved / kernel.sum()).astype(np.float16)\n",
    "\n",
    "\n",
    "def get_main_regions(binary_mask, min_size=10_000, connectivity=3):\n",
    "    labeled = measure.label(binary_mask, connectivity=connectivity)\n",
    "    region_props = measure.regionprops(labeled)\n",
    "    \n",
    "    main_regions_masks = []\n",
    "    regions_labels = []\n",
    "    bounding_boxes = []\n",
    "    \n",
    "    for props in region_props:\n",
    "        if props.area >= min_size:\n",
    "            main_regions_masks.append(props.filled_image)\n",
    "            regions_labels.append(props.label)\n",
    "            bounding_boxes.append(props.bbox)\n",
    "            \n",
    "    return main_regions_masks, regions_labels, bounding_boxes"
   ]
  },
  {
   "cell_type": "code",
   "execution_count": 14,
   "metadata": {},
   "outputs": [],
   "source": [
    "def annihilate_jemiolas_faster(mask, kernel_sizes=[10, 9, 8], fill_threshold=0.5, iters=1, conv_dtype=np.uint16):\n",
    "\n",
    "    kernel_sizes_maps = []\n",
    "    mask = mask.astype(np.uint8)\n",
    "    \n",
    "    for i in range(iters):\n",
    "        kernel_size_map = np.zeros(mask.shape, dtype=np.uint8)\n",
    "\n",
    "        for kernel_size in kernel_sizes:\n",
    "            fill_percentage = convolve_with_ball(mask, kernel_size, dtype=conv_dtype, normalize=True)\n",
    "            \n",
    "            above_threshold_fill_indices = fill_percentage > fill_threshold\n",
    "            kernel_size_map[above_threshold_fill_indices] = kernel_size + 1\n",
    "\n",
    "            mask[above_threshold_fill_indices] = 1\n",
    "            \n",
    "            print(f'Iteration {i + 1} kernel {kernel_size} done')\n",
    "\n",
    "        kernel_sizes_maps.append(kernel_size_map)\n",
    "        print(f'Iteration {i + 1} ended successfully')\n",
    "\n",
    "    return kernel_sizes_maps\n",
    "\n",
    "def onionize(mask, kernel_sizes=[10, 9, 8], fill_threshold=0.8, conv_dtype=np.uint16):\n",
    "\n",
    "    mask = mask.astype(np.uint8)\n",
    "    \n",
    "    kernel_size_map = np.zeros(mask.shape, dtype=np.uint8)\n",
    "\n",
    "    for kernel_size in sorted(kernel_sizes):\n",
    "        fill_percentage = convolve_with_ball(mask, kernel_size, dtype=conv_dtype, normalize=True)\n",
    "        above_threshold_fill_indices = fill_percentage >= fill_threshold\n",
    "        kernel_size_map[above_threshold_fill_indices] = kernel_size + 1\n",
    "        print(f'Kernel {kernel_size} done')\n",
    "\n",
    "    return kernel_size_map"
   ]
  },
  {
   "cell_type": "markdown",
   "metadata": {},
   "source": [
    "## Main region extraction"
   ]
  },
  {
   "cell_type": "code",
   "execution_count": 15,
   "metadata": {},
   "outputs": [],
   "source": [
    "mask_main = get_main_regions(mask)[0][0].astype(np.uint8)\n",
    "# VolumeVisualizer(mask_main, binary=True).visualize()\n",
    "# VolumeVisualizer(skeletonize_3d(mask_main.astype(np.uint8)), binary=True).visualize()"
   ]
  },
  {
   "cell_type": "code",
   "execution_count": 17,
   "metadata": {
    "scrolled": false
   },
   "outputs": [
    {
     "name": "stdout",
     "output_type": "stream",
     "text": [
      "Iteration 1 kernel 0 done\n",
      "Iteration 1 kernel 1 done\n",
      "Iteration 1 kernel 2 done\n",
      "Iteration 1 kernel 3 done\n",
      "Iteration 1 kernel 4 done\n",
      "Iteration 1 kernel 5 done\n",
      "Iteration 1 kernel 6 done\n",
      "Iteration 1 kernel 7 done\n",
      "Iteration 1 kernel 8 done\n",
      "Iteration 1 kernel 9 done\n",
      "Iteration 1 kernel 10 done\n",
      "Iteration 1 kernel 11 done\n",
      "Iteration 1 kernel 12 done\n",
      "Iteration 1 ended successfully\n",
      "Iteration 2 kernel 0 done\n",
      "Iteration 2 kernel 1 done\n",
      "Iteration 2 kernel 2 done\n",
      "Iteration 2 kernel 3 done\n",
      "Iteration 2 kernel 4 done\n",
      "Iteration 2 kernel 5 done\n",
      "Iteration 2 kernel 6 done\n",
      "Iteration 2 kernel 7 done\n",
      "Iteration 2 kernel 8 done\n",
      "Iteration 2 kernel 9 done\n",
      "Iteration 2 kernel 10 done\n",
      "Iteration 2 kernel 11 done\n",
      "Iteration 2 kernel 12 done\n",
      "Iteration 2 ended successfully\n",
      "Iteration 3 kernel 0 done\n",
      "Iteration 3 kernel 1 done\n",
      "Iteration 3 kernel 2 done\n",
      "Iteration 3 kernel 3 done\n",
      "Iteration 3 kernel 4 done\n",
      "Iteration 3 kernel 5 done\n",
      "Iteration 3 kernel 6 done\n",
      "Iteration 3 kernel 7 done\n",
      "Iteration 3 kernel 8 done\n",
      "Iteration 3 kernel 9 done\n",
      "Iteration 3 kernel 10 done\n",
      "Iteration 3 kernel 11 done\n",
      "Iteration 3 kernel 12 done\n",
      "Iteration 3 ended successfully\n"
     ]
    }
   ],
   "source": [
    "lsd_trees = annihilate_jemiolas_faster(mask_main, kernel_sizes=range(0, 13), iters=3)"
   ]
  },
  {
   "cell_type": "code",
   "execution_count": 18,
   "metadata": {},
   "outputs": [],
   "source": [
    "visualize_skeleton(lsd_trees[-1])"
   ]
  },
  {
   "cell_type": "code",
   "execution_count": 19,
   "metadata": {},
   "outputs": [],
   "source": [
    "# save_lsd_trees(lsd_trees, './filled_trees/P12/trees_3_iters.trees')"
   ]
  },
  {
   "cell_type": "code",
   "execution_count": null,
   "metadata": {},
   "outputs": [],
   "source": [
    "# lsd_trees = load_lsd_trees('./filled_trees/P12/trees_3_iters.trees')"
   ]
  },
  {
   "cell_type": "code",
   "execution_count": 20,
   "metadata": {},
   "outputs": [],
   "source": [
    "reconstruction = (lsd_trees[-1] > 0).astype(np.uint8)\n",
    "lsd_trees = []\n",
    "# visualize_mask_bin(reconstruction)"
   ]
  },
  {
   "cell_type": "code",
   "execution_count": 22,
   "metadata": {},
   "outputs": [],
   "source": [
    "skeleton = skeletonize_3d(reconstruction)"
   ]
  },
  {
   "cell_type": "code",
   "execution_count": 23,
   "metadata": {},
   "outputs": [
    {
     "name": "stdout",
     "output_type": "stream",
     "text": [
      "Kernel 0 done\n",
      "Kernel 1 done\n",
      "Kernel 2 done\n",
      "Kernel 3 done\n",
      "Kernel 4 done\n",
      "Kernel 5 done\n",
      "Kernel 6 done\n",
      "Kernel 7 done\n",
      "Kernel 8 done\n",
      "Kernel 9 done\n",
      "Kernel 10 done\n",
      "Kernel 11 done\n",
      "CPU times: user 1min 5s, sys: 15.3 s, total: 1min 20s\n",
      "Wall time: 1min 21s\n"
     ]
    }
   ],
   "source": [
    "%%time\n",
    "onion = onionize(reconstruction, kernel_sizes=range(12), fill_threshold=0.8)\n",
    "# onion = np.load('./data/P12/processed/onion.npy')"
   ]
  },
  {
   "cell_type": "code",
   "execution_count": 24,
   "metadata": {},
   "outputs": [],
   "source": [
    "visualize_lsd(onion)"
   ]
  },
  {
   "cell_type": "code",
   "execution_count": 25,
   "metadata": {},
   "outputs": [],
   "source": [
    "# np.save('./onions/P12/onion', onion)"
   ]
  },
  {
   "cell_type": "code",
   "execution_count": 26,
   "metadata": {},
   "outputs": [],
   "source": [
    "def correct_skeleton(skeleton, kernel_size_map):\n",
    "    max_radius = int(kernel_size_map.max())\n",
    "    padded_skeleton = np.pad(skeleton, max_radius)\n",
    "    padded_kernel_map = np.pad(kernel_size_map, max_radius)\n",
    "    \n",
    "    skeleton_voxels = np.argwhere(padded_skeleton)\n",
    "    kernels = [spherical_kernel(radius) for radius in range(max_radius)]\n",
    "    \n",
    "    new_skeleton = np.zeros(padded_skeleton.shape)\n",
    "    \n",
    "    for voxel_coords in skeleton_voxels:\n",
    "        x, y, z = tuple(voxel_coords)\n",
    "        kernel_radius = padded_kernel_map[x, y, z] - 1\n",
    "        kernel = kernels[kernel_radius]\n",
    "        \n",
    "        kernel_x, kernel_y, kernel_z = tuple(voxel_coords - kernel_radius)\n",
    "        kernel_diameter = 2 * kernel_radius + 1\n",
    "        kernel_map_slice = padded_kernel_map[\n",
    "            kernel_x:kernel_x + kernel_diameter,\n",
    "            kernel_y:kernel_y + kernel_diameter,\n",
    "            kernel_z:kernel_z + kernel_diameter\n",
    "        ]\n",
    "        \n",
    "        neighbours = kernel_map_slice * kernel\n",
    "        \n",
    "        if neighbours.max() == neighbours[kernel_radius, kernel_radius, kernel_radius]:\n",
    "            target_voxel = (x, y, z)\n",
    "            \n",
    "        else:\n",
    "            local_max_coords = np.argwhere(neighbours == neighbours.max())[0]\n",
    "            dx, dy, dz = tuple(local_max_coords - kernel_radius)\n",
    "            target_voxel = (x + dx, y + dy, z + dz)\n",
    "        \n",
    "        new_skeleton[target_voxel] = 1\n",
    "        \n",
    "    return new_skeleton[max_radius:-max_radius, max_radius:-max_radius, max_radius:-max_radius]\n",
    "\n",
    "\n",
    "def propagate_thiccness(skeleton, kernel_size_map):\n",
    "    padded_skeleton = np.pad(skeleton, 1)\n",
    "    padded_kernels_map = np.pad(kernel_size_map, 1)\n",
    "    \n",
    "    thiccness_map = np.zeros(padded_kernels_map.shape)\n",
    "    thiccness_map[padded_skeleton > 0] = padded_kernels_map[padded_skeleton > 0]\n",
    "    \n",
    "    queue = list([tuple(coords) for coords in np.argwhere(padded_skeleton)])\n",
    "    while(len(queue) > 0):\n",
    "        x, y, z = queue.pop(0)\n",
    "        thiccness = thiccness_map[x, y, z]\n",
    "        \n",
    "        for dx in [-1, 0, 1]:\n",
    "            for dy in [-1, 0, 1]:\n",
    "                for dz in [-1, 0, 1]:\n",
    "                    neighbour_x = x + dx\n",
    "                    neighbour_y = y + dy\n",
    "                    neighbour_z = z + dz\n",
    "                    if thiccness_map[neighbour_x, neighbour_y, neighbour_z] > 0:\n",
    "                        continue\n",
    "                        \n",
    "                    if padded_kernels_map[neighbour_x, neighbour_y, neighbour_z] == 0:\n",
    "                        continue\n",
    "                        \n",
    "                    thiccness_map[neighbour_x, neighbour_y, neighbour_z] = thiccness\n",
    "                    queue.append((neighbour_x, neighbour_y, neighbour_z))\n",
    "                        \n",
    "    return thiccness_map[1:-1, 1:-1, 1:-1]"
   ]
  },
  {
   "cell_type": "code",
   "execution_count": 27,
   "metadata": {},
   "outputs": [
    {
     "name": "stdout",
     "output_type": "stream",
     "text": [
      "CPU times: user 7.64 s, sys: 902 ms, total: 8.55 s\n",
      "Wall time: 8.57 s\n"
     ]
    }
   ],
   "source": [
    "%%time\n",
    "\n",
    "corrected_skeleton = skeleton\n",
    "for i in range(5):\n",
    "    corrected_skeleton = correct_skeleton(corrected_skeleton, onion)"
   ]
  },
  {
   "cell_type": "code",
   "execution_count": 28,
   "metadata": {},
   "outputs": [
    {
     "name": "stdout",
     "output_type": "stream",
     "text": [
      "CPU times: user 46.7 s, sys: 385 ms, total: 47 s\n",
      "Wall time: 47.3 s\n"
     ]
    }
   ],
   "source": [
    "%%time\n",
    "thicc_map = propagate_thiccness(corrected_skeleton, onion)"
   ]
  },
  {
   "cell_type": "code",
   "execution_count": 29,
   "metadata": {},
   "outputs": [],
   "source": [
    "visualize_gradient(thicc_map)"
   ]
  },
  {
   "cell_type": "markdown",
   "metadata": {},
   "source": [
    "# Trim it like a pro"
   ]
  },
  {
   "cell_type": "code",
   "execution_count": 39,
   "metadata": {},
   "outputs": [],
   "source": [
    "def trim_skeleton(skeleton, thicc_map, threshold=0.9):\n",
    "    max_radius = int(thicc_map.max())\n",
    "    padded_skeleton = np.pad(skeleton, max_radius)\n",
    "    padded_thicc_map = np.pad(thicc_map, max_radius)\n",
    "    \n",
    "    skeleton_voxels = np.argwhere(padded_skeleton)\n",
    "    kernels = [spherical_kernel(radius) for radius in range(max_radius)] # from 0 to max_radius - 1\n",
    "    \n",
    "    trimmed_skeleton = np.zeros(padded_skeleton.shape)\n",
    "    \n",
    "    for voxel_coords in skeleton_voxels:\n",
    "        x, y, z = tuple(voxel_coords)\n",
    "        kernel_radius = padded_thicc_map[x, y, z] - 1\n",
    "        kernel = kernels[kernel_radius]\n",
    "        \n",
    "        kernel_x, kernel_y, kernel_z = tuple(voxel_coords - kernel_radius)\n",
    "        kernel_diameter = 2 * kernel_radius + 1\n",
    "        kernel_map_slice = padded_thicc_map[\n",
    "            kernel_x:kernel_x + kernel_diameter,\n",
    "            kernel_y:kernel_y + kernel_diameter,\n",
    "            kernel_z:kernel_z + kernel_diameter\n",
    "        ]\n",
    "        \n",
    "        fill = np.sum(kernel * (kernel_map_slice > 0).astype(np.uint8)) / np.sum(kernel)\n",
    "                \n",
    "        if fill >= threshold:\n",
    "            trimmed_skeleton[x, y, z] = 1\n",
    "        \n",
    "    return trimmed_skeleton[max_radius:-max_radius, max_radius:-max_radius, max_radius:-max_radius]\n"
   ]
  },
  {
   "cell_type": "code",
   "execution_count": 77,
   "metadata": {},
   "outputs": [],
   "source": [
    "trimmed_skeleton = trim_skeleton(skeleton, thicc_map.astype(np.uint8), threshold=0.75)"
   ]
  },
  {
   "cell_type": "code",
   "execution_count": 70,
   "metadata": {},
   "outputs": [],
   "source": [
    "visualize_lsd(trimmed_skeleton)"
   ]
  },
  {
   "cell_type": "code",
   "execution_count": 75,
   "metadata": {},
   "outputs": [],
   "source": [
    "visualize_addition(trimmed_skeleton, skeleton)"
   ]
  },
  {
   "cell_type": "code",
   "execution_count": 78,
   "metadata": {},
   "outputs": [],
   "source": [
    "visualize_addition(trimmed_skeleton, corrected_skeleton)"
   ]
  },
  {
   "cell_type": "code",
   "execution_count": 73,
   "metadata": {},
   "outputs": [
    {
     "data": {
      "text/plain": [
       "1113"
      ]
     },
     "execution_count": 73,
     "metadata": {},
     "output_type": "execute_result"
    }
   ],
   "source": [
    "regions = measure.label(trimmed_skeleton)\n",
    "np.max(regions)"
   ]
  },
  {
   "cell_type": "code",
   "execution_count": 74,
   "metadata": {},
   "outputs": [],
   "source": [
    "visualize_addition(trimmed_skeleton, reconstruction)"
   ]
  },
  {
   "cell_type": "code",
   "execution_count": null,
   "metadata": {},
   "outputs": [],
   "source": []
  },
  {
   "cell_type": "code",
   "execution_count": 92,
   "metadata": {},
   "outputs": [],
   "source": [
    "def eat_leaves(skeleton, iters=1):   \n",
    "    new_skeleton = skeleton\n",
    "    \n",
    "    for i in range(iters):\n",
    "        kernel = np.ones((3,3,3))\n",
    "        convolved = signal.convolve(skeleton.astype(np.uint8), kernel.astype(np.uint8), mode='same')\n",
    "        new_skeleton = new_skeleton * (convolved > 3).astype(np.uint8)\n",
    "        print(f'iteration {i + 1} done')\n",
    "      \n",
    "    return new_skeleton"
   ]
  },
  {
   "cell_type": "code",
   "execution_count": 93,
   "metadata": {},
   "outputs": [
    {
     "name": "stdout",
     "output_type": "stream",
     "text": [
      "iteration 1 done\n",
      "iteration 2 done\n",
      "iteration 3 done\n",
      "iteration 4 done\n",
      "iteration 5 done\n"
     ]
    }
   ],
   "source": [
    "eated_out_skeleton = eat_leaves(skeleton, iters=5)"
   ]
  },
  {
   "cell_type": "code",
   "execution_count": 95,
   "metadata": {},
   "outputs": [],
   "source": [
    "visualize_mask_bin(eated_out_skeleton)"
   ]
  },
  {
   "cell_type": "code",
   "execution_count": 97,
   "metadata": {},
   "outputs": [],
   "source": [
    "visualize_addition(eated_out_skeleton, skeleton)"
   ]
  },
  {
   "cell_type": "code",
   "execution_count": 120,
   "metadata": {},
   "outputs": [],
   "source": [
    "def eat_leaves_smarter_iter(skeleton):   \n",
    "    padded_skeleton = np.pad(skeleton, 1)\n",
    "    new_skeleton = np.zeros(padded_skeleton.shape)\n",
    "    queue = [tuple(np.argwhere(padded_skeleton)[0])]\n",
    "    new_skeleton[queue[0]] == -1;\n",
    "    \n",
    "    while(len(queue) > 0):\n",
    "        x, y, z = queue.pop(0)\n",
    "        \n",
    "        for dx in [-1, 0, 1]:\n",
    "            for dy in [-1, 0, 1]:\n",
    "                for dz in [-1, 0, 1]:\n",
    "                    if dx == dy == dz == 0:\n",
    "                        continue\n",
    "                    \n",
    "                    neighbour_x = x + dx\n",
    "                    neighbour_y = y + dy\n",
    "                    neighbour_z = z + dz\n",
    "                    if padded_skeleton[neighbour_x, neighbour_y, neighbour_z] == 0:\n",
    "                        continue\n",
    "                        \n",
    "                    if new_skeleton[neighbour_x, neighbour_y, neighbour_z] == 0:\n",
    "                        queue.append((neighbour_x, neighbour_y, neighbour_z))\n",
    "                        new_skeleton[neighbour_x, neighbour_y, neighbour_z] = 2;\n",
    "                        new_skeleton[x, y, z] = 1\n",
    "                        \n",
    "    return new_skeleton[1:-1, 1:-1, 1:-1]\n",
    "\n",
    "def eat_leaves_smarter(skeleton, iters=1):\n",
    "    new_skeleton = skeleton.copy()\n",
    "    for i in range(iters):\n",
    "        new_skeleton = eat_leaves_smarter_iter(new_skeleton)\n",
    "        new_skeleton = (new_skeleton == 1).astype(np.uint8)\n",
    "    return new_skeleton"
   ]
  },
  {
   "cell_type": "code",
   "execution_count": 128,
   "metadata": {},
   "outputs": [
    {
     "name": "stdout",
     "output_type": "stream",
     "text": [
      "CPU times: user 33.4 s, sys: 1.31 s, total: 34.7 s\n",
      "Wall time: 34.8 s\n"
     ]
    }
   ],
   "source": [
    "%%time\n",
    "smart_skeleton = eat_leaves_smarter(skeleton, iters=10)"
   ]
  },
  {
   "cell_type": "code",
   "execution_count": 129,
   "metadata": {},
   "outputs": [],
   "source": [
    "visualize_addition(smart_skeleton, skeleton)"
   ]
  },
  {
   "cell_type": "code",
   "execution_count": 138,
   "metadata": {},
   "outputs": [
    {
     "data": {
      "text/plain": [
       "1"
      ]
     },
     "execution_count": 138,
     "metadata": {},
     "output_type": "execute_result"
    }
   ],
   "source": [
    "xd = smart_skeleton == 1\n",
    "regions = measure.label(xd)\n",
    "np.max(regions)"
   ]
  },
  {
   "cell_type": "code",
   "execution_count": 179,
   "metadata": {},
   "outputs": [],
   "source": [
    "real_ends = ((smart_skeleton - skeleton) * (thicc_map < 4)) > 0"
   ]
  },
  {
   "cell_type": "code",
   "execution_count": 180,
   "metadata": {},
   "outputs": [],
   "source": [
    "the_smartest_skeleton = smart_skeleton + real_ends"
   ]
  },
  {
   "cell_type": "code",
   "execution_count": 181,
   "metadata": {},
   "outputs": [
    {
     "data": {
      "text/plain": [
       "9"
      ]
     },
     "execution_count": 181,
     "metadata": {},
     "output_type": "execute_result"
    }
   ],
   "source": [
    "regions = measure.label(the_smartest_skeleton)\n",
    "np.max(regions)"
   ]
  },
  {
   "cell_type": "code",
   "execution_count": 175,
   "metadata": {},
   "outputs": [],
   "source": [
    "visualize_lsd(the_smartest_skeleton)"
   ]
  },
  {
   "cell_type": "code",
   "execution_count": 182,
   "metadata": {},
   "outputs": [],
   "source": [
    "visualize_lsd(regions)"
   ]
  },
  {
   "cell_type": "code",
   "execution_count": null,
   "metadata": {},
   "outputs": [],
   "source": []
  },
  {
   "cell_type": "code",
   "execution_count": null,
   "metadata": {},
   "outputs": [],
   "source": []
  },
  {
   "cell_type": "code",
   "execution_count": null,
   "metadata": {},
   "outputs": [],
   "source": []
  },
  {
   "cell_type": "code",
   "execution_count": null,
   "metadata": {},
   "outputs": [],
   "source": []
  },
  {
   "cell_type": "markdown",
   "metadata": {},
   "source": [
    "# dethiccation"
   ]
  },
  {
   "cell_type": "code",
   "execution_count": 39,
   "metadata": {},
   "outputs": [],
   "source": [
    "def dethiccate(thiccness_map, fill_threshold):\n",
    "    kernels_radii = np.unique(thiccness_map)[1:] - 1.\n",
    "    \n",
    "    thin_tree = np.zeros(thiccness_map.shape)\n",
    "    for radius in kernels_radii:\n",
    "        mask = convolve_with_ball((thiccness_map > 0).astype(np.uint8), radius, normalize=True) >= fill_threshold\n",
    "        thin_tree[thiccness_map == radius+1] = \\\n",
    "            thiccness_map[thiccness_map == radius+1] * mask[thiccness_map == radius+1]\n",
    "        \n",
    "        print(f'kernel {radius} done')\n",
    "        \n",
    "    return thin_tree"
   ]
  },
  {
   "cell_type": "code",
   "execution_count": 40,
   "metadata": {},
   "outputs": [
    {
     "name": "stdout",
     "output_type": "stream",
     "text": [
      "kernel 0.0 done\n",
      "kernel 1.0 done\n",
      "kernel 2.0 done\n",
      "kernel 3.0 done\n",
      "kernel 4.0 done\n",
      "kernel 5.0 done\n",
      "kernel 6.0 done\n",
      "kernel 7.0 done\n",
      "kernel 8.0 done\n",
      "kernel 9.0 done\n",
      "kernel 10.0 done\n",
      "kernel 11.0 done\n",
      "CPU times: user 1min 40s, sys: 21.4 s, total: 2min 2s\n",
      "Wall time: 2min 9s\n"
     ]
    }
   ],
   "source": [
    "%%time\n",
    "thin_tree = dethiccate(thicc_map, fill_threshold=0.7)"
   ]
  },
  {
   "cell_type": "code",
   "execution_count": 41,
   "metadata": {},
   "outputs": [],
   "source": [
    "ColorMapVisualizer(thin_tree.astype(np.uint8)).visualize(gradient=True)"
   ]
  },
  {
   "cell_type": "code",
   "execution_count": 43,
   "metadata": {},
   "outputs": [],
   "source": [
    "visualize_addition(thin_tree, thicc_map)"
   ]
  }
 ],
 "metadata": {
  "kernelspec": {
   "display_name": "Python 3",
   "language": "python",
   "name": "python3"
  },
  "language_info": {
   "codemirror_mode": {
    "name": "ipython",
    "version": 3
   },
   "file_extension": ".py",
   "mimetype": "text/x-python",
   "name": "python",
   "nbconvert_exporter": "python",
   "pygments_lexer": "ipython3",
   "version": "3.7.6"
  }
 },
 "nbformat": 4,
 "nbformat_minor": 4
}
