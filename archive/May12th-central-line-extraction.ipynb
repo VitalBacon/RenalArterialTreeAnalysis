{
 "cells": [
  {
   "cell_type": "code",
   "execution_count": 1,
   "metadata": {},
   "outputs": [],
   "source": [
    "import numpy as np\n",
    "import glob\n",
    "import matplotlib.pyplot as plt\n",
    "import cv2\n",
    "from skimage import measure, segmentation, feature\n",
    "from vis_utils import load_volume, VolumeVisualizer, ColorMapVisualizer\n",
    "from scipy.ndimage import zoom\n",
    "from skimage.morphology import skeletonize, skeletonize_3d\n",
    "\n",
    "from skimage import filters, morphology\n",
    "\n",
    "from scipy.ndimage.filters import convolve, correlate\n",
    "from scipy import signal\n",
    "\n",
    "from skimage.filters import frangi, sato\n",
    "\n",
    "from PIL import Image\n",
    "import pickle"
   ]
  },
  {
   "cell_type": "code",
   "execution_count": 28,
   "metadata": {
    "scrolled": true
   },
   "outputs": [
    {
     "data": {
      "text/plain": [
       "[(0, './data/P01/P01_60um_1612x623x1108.raw'),\n",
       " (1, './data/P02/P02_60um_1387x778x1149.raw'),\n",
       " (2, './data/P03/P03_60um_1473x1163x1148.raw'),\n",
       " (3, './data/P04/P04_60um_1273x466x1045.raw'),\n",
       " (4, './data/P05/P05_60um_1454x817x1102.raw'),\n",
       " (5, './data/P06/P06_60um_1425x564x1028.raw'),\n",
       " (6, './data/P07/P7_60um_1216x692x926.raw'),\n",
       " (7, './data/P08/P08_60um_1728x927x1149.raw'),\n",
       " (8, './data/P09/P09_60um_1359x456x1040.raw'),\n",
       " (9, './data/P10/P10_60um_1339x537x1035.raw'),\n",
       " (10, './data/P11/P11_60um_1735x595x1150.raw'),\n",
       " (11, './data/P12/P12_60um_1333x443x864.raw'),\n",
       " (12, './data/P13/P13_60um_1132x488x877.raw')]"
      ]
     },
     "execution_count": 28,
     "metadata": {},
     "output_type": "execute_result"
    }
   ],
   "source": [
    "source_dir = './data/*'\n",
    "files = list(sorted(glob.glob(source_dir + '/*.raw')))\n",
    "list(enumerate(files))"
   ]
  },
  {
   "cell_type": "code",
   "execution_count": 29,
   "metadata": {},
   "outputs": [
    {
     "name": "stdout",
     "output_type": "stream",
     "text": [
      "CPU times: user 1.17 s, sys: 418 ms, total: 1.59 s\n",
      "Wall time: 1.6 s\n"
     ]
    },
    {
     "data": {
      "text/plain": [
       "(522, 233, 636)"
      ]
     },
     "execution_count": 29,
     "metadata": {},
     "output_type": "execute_result"
    }
   ],
   "source": [
    "%%time\n",
    "mask = load_volume(files[3], scale=0.5)\n",
    "mask.shape"
   ]
  },
  {
   "cell_type": "code",
   "execution_count": 30,
   "metadata": {},
   "outputs": [],
   "source": [
    "threshold = 30\n",
    "mask = mask > threshold\n",
    "# VolumeVisualizer((mask > 30).astype(np.uint8), binary=True).visualize()"
   ]
  },
  {
   "cell_type": "markdown",
   "metadata": {},
   "source": [
    "## Utility functions"
   ]
  },
  {
   "cell_type": "markdown",
   "metadata": {},
   "source": [
    "### Visualisation functions"
   ]
  },
  {
   "cell_type": "code",
   "execution_count": 2,
   "metadata": {},
   "outputs": [],
   "source": [
    "def visualize_addition(base, base_with_addition):\n",
    "    base = (base.copy() > 0).astype(np.uint8)\n",
    "    addition = (base_with_addition > 0).astype(np.uint8)\n",
    "    addition[base == 1] = 0\n",
    "    ColorMapVisualizer(base + addition * 2).visualize()\n",
    "    \n",
    "def visualize_lsd(lsd_mask):\n",
    "    ColorMapVisualizer(lsd_mask.astype(np.uint8)).visualize()\n",
    "    \n",
    "def visualize_mask_bin(mask):\n",
    "    VolumeVisualizer((mask > 0).astype(np.uint8), binary=True).visualize()\n",
    "    \n",
    "def visualize_mask_non_bin(mask):\n",
    "    VolumeVisualizer((mask > 0).astype(np.uint8) * 255, binary=False).visualize()\n",
    "    \n",
    "def visualize_skeleton(mask, visualize_mask=True, visualize_both_versions=False):\n",
    "    skeleton = skeletonize((mask > 0).astype(np.uint8))\n",
    "    if not visualize_mask or visualize_both_versions:\n",
    "        VolumeVisualizer(skeleton, binary=True).visualize()\n",
    "    if visualize_mask or visualize_both_versions:\n",
    "        skeleton = skeleton.astype(np.uint8) * 4\n",
    "        mask = (mask > 0).astype(np.uint8) * 3\n",
    "        mask[skeleton != 0] = 0\n",
    "        ColorMapVisualizer(skeleton + mask).visualize()\n",
    "\n",
    "def visualize_ultimate(lsd, base_mask):\n",
    "    visualize_lsd(lsd)\n",
    "    visualize_mask_non_bin(lsd)\n",
    "    visualize_addition(base_mask, lsd)\n",
    "    visualize_skeleton(lsd, visualize_mask=True)"
   ]
  },
  {
   "cell_type": "code",
   "execution_count": 3,
   "metadata": {},
   "outputs": [],
   "source": [
    "def load_lsd_trees(filename):\n",
    "    with open(filename, 'rb') as f:\n",
    "        lsd_trees = pickle.load(f)\n",
    "    return lsd_trees\n",
    "\n",
    "def save_lsd_trees(lsd_trees, filename):\n",
    "    with open(filename, 'wb') as f:\n",
    "        pickle.dump(lsd_trees, f)"
   ]
  },
  {
   "cell_type": "code",
   "execution_count": 4,
   "metadata": {},
   "outputs": [],
   "source": [
    "def spherical_kernel(outer_radius, thickness=1, filled=True):    \n",
    "    outer_sphere = morphology.ball(radius=outer_radius)\n",
    "    if filled:\n",
    "        return outer_sphere\n",
    "    \n",
    "    inner_radius = outer_radius - thickness\n",
    "    inner_sphere = morphology.ball(radius=inner_radius)\n",
    "    \n",
    "    begin = outer_radius - inner_radius\n",
    "    end = begin + inner_sphere.shape[0]\n",
    "    outer_sphere[begin:end, begin:end, begin:end] -= inner_sphere\n",
    "    return outer_sphere\n",
    "\n",
    "def convolve_with_ball(img, ball_radius, dtype=np.uint16, normalize=True):\n",
    "    kernel = spherical_kernel(ball_radius, filled=True)\n",
    "    convolved = signal.convolve(img.astype(dtype), kernel.astype(dtype), mode='same')\n",
    "    \n",
    "    if not normalize:\n",
    "        return convolved\n",
    "    \n",
    "    return (convolved / kernel.sum()).astype(np.float16)\n",
    "\n",
    "\n",
    "def get_main_regions(binary_mask, min_size=10_000, connectivity=3):\n",
    "    labeled = measure.label(binary_mask, connectivity=connectivity)\n",
    "    region_props = measure.regionprops(labeled)\n",
    "    \n",
    "    main_regions_masks = []\n",
    "    regions_labels = []\n",
    "    bounding_boxes = []\n",
    "    \n",
    "    for props in region_props:\n",
    "        if props.area >= min_size:\n",
    "            main_regions_masks.append(props.filled_image)\n",
    "            regions_labels.append(props.label)\n",
    "            bounding_boxes.append(props.bbox)\n",
    "            \n",
    "    return main_regions_masks, regions_labels, bounding_boxes"
   ]
  },
  {
   "cell_type": "code",
   "execution_count": 5,
   "metadata": {},
   "outputs": [],
   "source": [
    "def annihilate_jemiolas(mask, kernel_sizes=[10, 9, 8], fill_threshold=0.5, iters=1, conv_dtype=np.uint16):\n",
    "\n",
    "    kernel_sizes_maps = []\n",
    "    mask = mask.astype(np.uint8)\n",
    "    \n",
    "    for i in range(iters):\n",
    "        kernel_size_map = np.zeros(mask.shape, dtype=np.uint8)\n",
    "        best_fill_percentage = np.zeros(mask.shape, dtype=np.float16)\n",
    "\n",
    "        for kernel_size in kernel_sizes:\n",
    "            fill_percentage = convolve_with_ball(mask, kernel_size, dtype=conv_dtype, normalize=True)\n",
    "            better_fill_indices = fill_percentage > best_fill_percentage\n",
    "            kernel_size_map[better_fill_indices] = kernel_size\n",
    "            best_fill_percentage[better_fill_indices] = fill_percentage[better_fill_indices]\n",
    "            print(f'Iteration {i + 1} kernel {kernel_size} done')\n",
    "\n",
    "        kernel_size_map *= best_fill_percentage > fill_threshold\n",
    "        kernel_sizes_maps.append(kernel_size_map)\n",
    "        mask = np.minimum(kernel_size_map + mask, 1).astype(np.uint8)        \n",
    "        print(f'Iteration {i + 1} ended successfully')\n",
    "\n",
    "    return kernel_sizes_maps"
   ]
  },
  {
   "cell_type": "code",
   "execution_count": 6,
   "metadata": {},
   "outputs": [],
   "source": [
    "def annihilate_jemiolas_faster(mask, kernel_sizes=[10, 9, 8], fill_threshold=0.5, iters=1, conv_dtype=np.uint16):\n",
    "\n",
    "    kernel_sizes_maps = []\n",
    "    mask = mask.astype(np.uint8)\n",
    "    \n",
    "    for i in range(iters):\n",
    "        kernel_size_map = np.zeros(mask.shape, dtype=np.uint8)\n",
    "\n",
    "        for kernel_size in kernel_sizes:\n",
    "            fill_percentage = convolve_with_ball(mask, kernel_size, dtype=conv_dtype, normalize=True)\n",
    "            \n",
    "            above_threshold_fill_indices = fill_percentage > fill_threshold\n",
    "            kernel_size_map[above_threshold_fill_indices] = kernel_size + 1\n",
    "\n",
    "            mask[above_threshold_fill_indices] = 1\n",
    "            \n",
    "            print(f'Iteration {i + 1} kernel {kernel_size} done')\n",
    "\n",
    "        kernel_sizes_maps.append(kernel_size_map)\n",
    "        print(f'Iteration {i + 1} ended successfully')\n",
    "\n",
    "    return kernel_sizes_maps\n",
    "\n",
    "def onionize(mask, kernel_sizes=[10, 9, 8], fill_threshold=0.8, conv_dtype=np.uint16):\n",
    "\n",
    "    mask = mask.astype(np.uint8)\n",
    "    \n",
    "    kernel_size_map = np.zeros(mask.shape, dtype=np.uint8)\n",
    "\n",
    "    for kernel_size in sorted(kernel_sizes):\n",
    "        fill_percentage = convolve_with_ball(mask, kernel_size, dtype=conv_dtype, normalize=True)\n",
    "        above_threshold_fill_indices = fill_percentage >= fill_threshold\n",
    "        kernel_size_map[above_threshold_fill_indices] = kernel_size + 1\n",
    "        print(f'Kernel {kernel_size} done')\n",
    "\n",
    "    return kernel_size_map"
   ]
  },
  {
   "cell_type": "markdown",
   "metadata": {},
   "source": [
    "## Main region extraction"
   ]
  },
  {
   "cell_type": "code",
   "execution_count": 36,
   "metadata": {},
   "outputs": [],
   "source": [
    "mask_main = get_main_regions(mask)[0][0].astype(np.uint8)\n",
    "# VolumeVisualizer(mask_main, binary=True).visualize()\n",
    "# VolumeVisualizer(skeletonize_3d(mask_main.astype(np.uint8)), binary=True).visualize()"
   ]
  },
  {
   "cell_type": "code",
   "execution_count": 37,
   "metadata": {
    "scrolled": true
   },
   "outputs": [
    {
     "name": "stdout",
     "output_type": "stream",
     "text": [
      "Iteration 1 kernel 0 done\n",
      "Iteration 1 kernel 1 done\n",
      "Iteration 1 kernel 2 done\n",
      "Iteration 1 kernel 3 done\n",
      "Iteration 1 kernel 4 done\n",
      "Iteration 1 kernel 5 done\n",
      "Iteration 1 kernel 6 done\n",
      "Iteration 1 kernel 7 done\n",
      "Iteration 1 kernel 8 done\n",
      "Iteration 1 kernel 9 done\n",
      "Iteration 1 kernel 10 done\n",
      "Iteration 1 kernel 11 done\n",
      "Iteration 1 kernel 12 done\n",
      "Iteration 1 ended successfully\n"
     ]
    },
    {
     "ename": "KeyboardInterrupt",
     "evalue": "",
     "output_type": "error",
     "traceback": [
      "\u001b[0;31m---------------------------------------------------------------------------\u001b[0m",
      "\u001b[0;31mKeyboardInterrupt\u001b[0m                         Traceback (most recent call last)",
      "\u001b[0;32m<ipython-input-37-215353a62c7b>\u001b[0m in \u001b[0;36m<module>\u001b[0;34m\u001b[0m\n\u001b[0;32m----> 1\u001b[0;31m \u001b[0mlsd_trees\u001b[0m \u001b[0;34m=\u001b[0m \u001b[0mannihilate_jemiolas_faster\u001b[0m\u001b[0;34m(\u001b[0m\u001b[0mmask_main\u001b[0m\u001b[0;34m,\u001b[0m \u001b[0mkernel_sizes\u001b[0m\u001b[0;34m=\u001b[0m\u001b[0mrange\u001b[0m\u001b[0;34m(\u001b[0m\u001b[0;36m0\u001b[0m\u001b[0;34m,\u001b[0m \u001b[0;36m13\u001b[0m\u001b[0;34m)\u001b[0m\u001b[0;34m,\u001b[0m \u001b[0miters\u001b[0m\u001b[0;34m=\u001b[0m\u001b[0;36m4\u001b[0m\u001b[0;34m)\u001b[0m\u001b[0;34m\u001b[0m\u001b[0;34m\u001b[0m\u001b[0m\n\u001b[0m",
      "\u001b[0;32m<ipython-input-35-339dde9da741>\u001b[0m in \u001b[0;36mannihilate_jemiolas_faster\u001b[0;34m(mask, kernel_sizes, fill_threshold, iters, conv_dtype)\u001b[0m\n\u001b[1;32m      8\u001b[0m \u001b[0;34m\u001b[0m\u001b[0m\n\u001b[1;32m      9\u001b[0m         \u001b[0;32mfor\u001b[0m \u001b[0mkernel_size\u001b[0m \u001b[0;32min\u001b[0m \u001b[0mkernel_sizes\u001b[0m\u001b[0;34m:\u001b[0m\u001b[0;34m\u001b[0m\u001b[0;34m\u001b[0m\u001b[0m\n\u001b[0;32m---> 10\u001b[0;31m             \u001b[0mfill_percentage\u001b[0m \u001b[0;34m=\u001b[0m \u001b[0mconvolve_with_ball\u001b[0m\u001b[0;34m(\u001b[0m\u001b[0mmask\u001b[0m\u001b[0;34m,\u001b[0m \u001b[0mkernel_size\u001b[0m\u001b[0;34m,\u001b[0m \u001b[0mdtype\u001b[0m\u001b[0;34m=\u001b[0m\u001b[0mconv_dtype\u001b[0m\u001b[0;34m,\u001b[0m \u001b[0mnormalize\u001b[0m\u001b[0;34m=\u001b[0m\u001b[0;32mTrue\u001b[0m\u001b[0;34m)\u001b[0m\u001b[0;34m\u001b[0m\u001b[0;34m\u001b[0m\u001b[0m\n\u001b[0m\u001b[1;32m     11\u001b[0m \u001b[0;34m\u001b[0m\u001b[0m\n\u001b[1;32m     12\u001b[0m             \u001b[0mabove_threshold_fill_indices\u001b[0m \u001b[0;34m=\u001b[0m \u001b[0mfill_percentage\u001b[0m \u001b[0;34m>\u001b[0m \u001b[0mfill_threshold\u001b[0m\u001b[0;34m\u001b[0m\u001b[0;34m\u001b[0m\u001b[0m\n",
      "\u001b[0;32m<ipython-input-33-56d312ae61cd>\u001b[0m in \u001b[0;36mconvolve_with_ball\u001b[0;34m(img, ball_radius, dtype, normalize)\u001b[0m\n\u001b[1;32m     14\u001b[0m \u001b[0;32mdef\u001b[0m \u001b[0mconvolve_with_ball\u001b[0m\u001b[0;34m(\u001b[0m\u001b[0mimg\u001b[0m\u001b[0;34m,\u001b[0m \u001b[0mball_radius\u001b[0m\u001b[0;34m,\u001b[0m \u001b[0mdtype\u001b[0m\u001b[0;34m=\u001b[0m\u001b[0mnp\u001b[0m\u001b[0;34m.\u001b[0m\u001b[0muint16\u001b[0m\u001b[0;34m,\u001b[0m \u001b[0mnormalize\u001b[0m\u001b[0;34m=\u001b[0m\u001b[0;32mTrue\u001b[0m\u001b[0;34m)\u001b[0m\u001b[0;34m:\u001b[0m\u001b[0;34m\u001b[0m\u001b[0;34m\u001b[0m\u001b[0m\n\u001b[1;32m     15\u001b[0m     \u001b[0mkernel\u001b[0m \u001b[0;34m=\u001b[0m \u001b[0mspherical_kernel\u001b[0m\u001b[0;34m(\u001b[0m\u001b[0mball_radius\u001b[0m\u001b[0;34m,\u001b[0m \u001b[0mfilled\u001b[0m\u001b[0;34m=\u001b[0m\u001b[0;32mTrue\u001b[0m\u001b[0;34m)\u001b[0m\u001b[0;34m\u001b[0m\u001b[0;34m\u001b[0m\u001b[0m\n\u001b[0;32m---> 16\u001b[0;31m     \u001b[0mconvolved\u001b[0m \u001b[0;34m=\u001b[0m \u001b[0msignal\u001b[0m\u001b[0;34m.\u001b[0m\u001b[0mconvolve\u001b[0m\u001b[0;34m(\u001b[0m\u001b[0mimg\u001b[0m\u001b[0;34m.\u001b[0m\u001b[0mastype\u001b[0m\u001b[0;34m(\u001b[0m\u001b[0mdtype\u001b[0m\u001b[0;34m)\u001b[0m\u001b[0;34m,\u001b[0m \u001b[0mkernel\u001b[0m\u001b[0;34m.\u001b[0m\u001b[0mastype\u001b[0m\u001b[0;34m(\u001b[0m\u001b[0mdtype\u001b[0m\u001b[0;34m)\u001b[0m\u001b[0;34m,\u001b[0m \u001b[0mmode\u001b[0m\u001b[0;34m=\u001b[0m\u001b[0;34m'same'\u001b[0m\u001b[0;34m)\u001b[0m\u001b[0;34m\u001b[0m\u001b[0;34m\u001b[0m\u001b[0m\n\u001b[0m\u001b[1;32m     17\u001b[0m \u001b[0;34m\u001b[0m\u001b[0m\n\u001b[1;32m     18\u001b[0m     \u001b[0;32mif\u001b[0m \u001b[0;32mnot\u001b[0m \u001b[0mnormalize\u001b[0m\u001b[0;34m:\u001b[0m\u001b[0;34m\u001b[0m\u001b[0;34m\u001b[0m\u001b[0m\n",
      "\u001b[0;32m~/Programming/Python/informatyka-medyczna/env-med/lib/python3.6/site-packages/scipy/signal/signaltools.py\u001b[0m in \u001b[0;36mconvolve\u001b[0;34m(in1, in2, mode, method)\u001b[0m\n\u001b[1;32m   1292\u001b[0m             \u001b[0;32mreturn\u001b[0m \u001b[0mnp\u001b[0m\u001b[0;34m.\u001b[0m\u001b[0mconvolve\u001b[0m\u001b[0;34m(\u001b[0m\u001b[0mvolume\u001b[0m\u001b[0;34m,\u001b[0m \u001b[0mkernel\u001b[0m\u001b[0;34m,\u001b[0m \u001b[0mmode\u001b[0m\u001b[0;34m)\u001b[0m\u001b[0;34m\u001b[0m\u001b[0;34m\u001b[0m\u001b[0m\n\u001b[1;32m   1293\u001b[0m \u001b[0;34m\u001b[0m\u001b[0m\n\u001b[0;32m-> 1294\u001b[0;31m         \u001b[0;32mreturn\u001b[0m \u001b[0mcorrelate\u001b[0m\u001b[0;34m(\u001b[0m\u001b[0mvolume\u001b[0m\u001b[0;34m,\u001b[0m \u001b[0m_reverse_and_conj\u001b[0m\u001b[0;34m(\u001b[0m\u001b[0mkernel\u001b[0m\u001b[0;34m)\u001b[0m\u001b[0;34m,\u001b[0m \u001b[0mmode\u001b[0m\u001b[0;34m,\u001b[0m \u001b[0;34m'direct'\u001b[0m\u001b[0;34m)\u001b[0m\u001b[0;34m\u001b[0m\u001b[0;34m\u001b[0m\u001b[0m\n\u001b[0m\u001b[1;32m   1295\u001b[0m     \u001b[0;32melse\u001b[0m\u001b[0;34m:\u001b[0m\u001b[0;34m\u001b[0m\u001b[0;34m\u001b[0m\u001b[0m\n\u001b[1;32m   1296\u001b[0m         raise ValueError(\"Acceptable method flags are 'auto',\"\n",
      "\u001b[0;32m~/Programming/Python/informatyka-medyczna/env-med/lib/python3.6/site-packages/scipy/signal/signaltools.py\u001b[0m in \u001b[0;36mcorrelate\u001b[0;34m(in1, in2, mode, method)\u001b[0m\n\u001b[1;32m    248\u001b[0m                 \u001b[0mout\u001b[0m \u001b[0;34m=\u001b[0m \u001b[0mnp\u001b[0m\u001b[0;34m.\u001b[0m\u001b[0mempty\u001b[0m\u001b[0;34m(\u001b[0m\u001b[0min1\u001b[0m\u001b[0;34m.\u001b[0m\u001b[0mshape\u001b[0m\u001b[0;34m,\u001b[0m \u001b[0min1\u001b[0m\u001b[0;34m.\u001b[0m\u001b[0mdtype\u001b[0m\u001b[0;34m)\u001b[0m\u001b[0;34m\u001b[0m\u001b[0;34m\u001b[0m\u001b[0m\n\u001b[1;32m    249\u001b[0m \u001b[0;34m\u001b[0m\u001b[0m\n\u001b[0;32m--> 250\u001b[0;31m             \u001b[0mz\u001b[0m \u001b[0;34m=\u001b[0m \u001b[0msigtools\u001b[0m\u001b[0;34m.\u001b[0m\u001b[0m_correlateND\u001b[0m\u001b[0;34m(\u001b[0m\u001b[0min1zpadded\u001b[0m\u001b[0;34m,\u001b[0m \u001b[0min2\u001b[0m\u001b[0;34m,\u001b[0m \u001b[0mout\u001b[0m\u001b[0;34m,\u001b[0m \u001b[0mval\u001b[0m\u001b[0;34m)\u001b[0m\u001b[0;34m\u001b[0m\u001b[0;34m\u001b[0m\u001b[0m\n\u001b[0m\u001b[1;32m    251\u001b[0m \u001b[0;34m\u001b[0m\u001b[0m\n\u001b[1;32m    252\u001b[0m         \u001b[0;32mif\u001b[0m \u001b[0mswapped_inputs\u001b[0m\u001b[0;34m:\u001b[0m\u001b[0;34m\u001b[0m\u001b[0;34m\u001b[0m\u001b[0m\n",
      "\u001b[0;31mKeyboardInterrupt\u001b[0m: "
     ]
    }
   ],
   "source": [
    "lsd_trees = annihilate_jemiolas_faster(mask_main, kernel_sizes=range(0, 13), iters=4)"
   ]
  },
  {
   "cell_type": "code",
   "execution_count": 13,
   "metadata": {},
   "outputs": [],
   "source": [
    "visualize_skeleton(lsd_trees[-1])"
   ]
  },
  {
   "cell_type": "code",
   "execution_count": 7,
   "metadata": {},
   "outputs": [],
   "source": [
    "# save_lsd_trees(lsd_trees, './trash/P12-lsd-trees')\n",
    "lsd_trees = load_lsd_trees('./trash/P12-lsd-trees')\n",
    "reconstruction = (lsd_trees[-1] > 0).astype(np.uint8)\n",
    "# visualize_mask_bin(reconstruction)"
   ]
  },
  {
   "cell_type": "code",
   "execution_count": 8,
   "metadata": {},
   "outputs": [],
   "source": [
    "skeleton = skeletonize_3d(reconstruction)"
   ]
  },
  {
   "cell_type": "code",
   "execution_count": 9,
   "metadata": {},
   "outputs": [
    {
     "name": "stdout",
     "output_type": "stream",
     "text": [
      "CPU times: user 1.51 ms, sys: 60.1 ms, total: 61.6 ms\n",
      "Wall time: 126 ms\n"
     ]
    }
   ],
   "source": [
    "%%time\n",
    "# onion = onionize(reconstruction, kernel_sizes=range(12), fill_threshold=0.8)\n",
    "onion = np.load('./data/P12/processed/onion.npy')"
   ]
  },
  {
   "cell_type": "code",
   "execution_count": 10,
   "metadata": {},
   "outputs": [],
   "source": [
    "visualize_lsd(onion)"
   ]
  },
  {
   "cell_type": "code",
   "execution_count": 13,
   "metadata": {},
   "outputs": [],
   "source": [
    "# np.save('./data/P12/processed/onion', onion)"
   ]
  },
  {
   "cell_type": "code",
   "execution_count": 11,
   "metadata": {},
   "outputs": [],
   "source": [
    "def correct_skeleton(skeleton, kernel_size_map):\n",
    "    max_radius = int(kernel_size_map.max())\n",
    "    padded_skeleton = np.pad(skeleton, max_radius)\n",
    "    padded_kernel_map = np.pad(kernel_size_map, max_radius)\n",
    "    \n",
    "    skeleton_voxels = np.argwhere(padded_skeleton)\n",
    "    kernels = [spherical_kernel(radius) for radius in range(max_radius)]\n",
    "    \n",
    "    new_skeleton = np.zeros(padded_skeleton.shape)\n",
    "    \n",
    "    for voxel_coords in skeleton_voxels:\n",
    "        x, y, z = tuple(voxel_coords)\n",
    "        kernel_radius = padded_kernel_map[x, y, z] - 1\n",
    "        kernel = kernels[kernel_radius]\n",
    "        \n",
    "        kernel_x, kernel_y, kernel_z = tuple(voxel_coords - kernel_radius)\n",
    "        kernel_diameter = 2 * kernel_radius + 1\n",
    "        kernel_map_slice = padded_kernel_map[\n",
    "            kernel_x:kernel_x + kernel_diameter,\n",
    "            kernel_y:kernel_y + kernel_diameter,\n",
    "            kernel_z:kernel_z + kernel_diameter\n",
    "        ]\n",
    "        \n",
    "        neighbours = kernel_map_slice * kernel\n",
    "        \n",
    "        if neighbours.max() == neighbours[kernel_radius, kernel_radius, kernel_radius]:\n",
    "            target_voxel = (x, y, z)\n",
    "            \n",
    "        else:\n",
    "            local_max_coords = np.argwhere(neighbours == neighbours.max())[0]\n",
    "            dx, dy, dz = tuple(local_max_coords - kernel_radius)\n",
    "            target_voxel = (x + dx, y + dy, z + dz)\n",
    "        \n",
    "        new_skeleton[target_voxel] = 1\n",
    "        \n",
    "    return new_skeleton[max_radius:-max_radius, max_radius:-max_radius, max_radius:-max_radius]\n",
    "\n",
    "\n",
    "def propagate_thiccness(skeleton, kernel_size_map):\n",
    "    padded_skeleton = np.pad(skeleton, 1)\n",
    "    padded_kernels_map = np.pad(kernel_size_map, 1)\n",
    "    \n",
    "    thiccness_map = np.zeros(padded_kernels_map.shape)\n",
    "    thiccness_map[padded_skeleton > 0] = padded_kernels_map[padded_skeleton > 0]\n",
    "    \n",
    "    queue = list([tuple(coords) for coords in np.argwhere(padded_skeleton)])\n",
    "    while(len(queue) > 0):\n",
    "        x, y, z = queue.pop(0)\n",
    "        thiccness = thiccness_map[x, y, z]\n",
    "        \n",
    "        for dx in [-1, 0, 1]:\n",
    "            for dy in [-1, 0, 1]:\n",
    "                for dz in [-1, 0, 1]:\n",
    "                    neighbour_x = x + dx\n",
    "                    neighbour_y = y + dy\n",
    "                    neighbour_z = z + dz\n",
    "                    if thiccness_map[neighbour_x, neighbour_y, neighbour_z] > 0:\n",
    "                        continue\n",
    "                        \n",
    "                    if padded_kernels_map[neighbour_x, neighbour_y, neighbour_z] == 0:\n",
    "                        continue\n",
    "                        \n",
    "                    thiccness_map[neighbour_x, neighbour_y, neighbour_z] = thiccness\n",
    "                    queue.append((neighbour_x, neighbour_y, neighbour_z))\n",
    "                        \n",
    "    return thiccness_map[1:-1, 1:-1, 1:-1]"
   ]
  },
  {
   "cell_type": "code",
   "execution_count": 12,
   "metadata": {},
   "outputs": [
    {
     "name": "stdout",
     "output_type": "stream",
     "text": [
      "CPU times: user 7.04 s, sys: 1.03 s, total: 8.07 s\n",
      "Wall time: 8.09 s\n"
     ]
    }
   ],
   "source": [
    "%%time\n",
    "\n",
    "corrected_skeleton = skeleton\n",
    "for i in range(5):\n",
    "    corrected_skeleton = correct_skeleton(corrected_skeleton, onion)"
   ]
  },
  {
   "cell_type": "code",
   "execution_count": 13,
   "metadata": {},
   "outputs": [
    {
     "name": "stdout",
     "output_type": "stream",
     "text": [
      "CPU times: user 39.2 s, sys: 371 ms, total: 39.6 s\n",
      "Wall time: 39.6 s\n"
     ]
    }
   ],
   "source": [
    "%%time\n",
    "thicc_map = propagate_thiccness(corrected_skeleton, onion)"
   ]
  },
  {
   "cell_type": "code",
   "execution_count": 14,
   "metadata": {},
   "outputs": [],
   "source": [
    "ColorMapVisualizer(thicc_map.astype(np.uint8)).visualize(gradient=True)"
   ]
  },
  {
   "cell_type": "markdown",
   "metadata": {},
   "source": [
    "# dethiccation"
   ]
  },
  {
   "cell_type": "code",
   "execution_count": 15,
   "metadata": {},
   "outputs": [],
   "source": [
    "def dethiccate(thiccness_map, fill_threshold):\n",
    "    kernels_radii = np.unique(thiccness_map)[1:] - 1.\n",
    "    \n",
    "    thin_tree = np.zeros(thiccness_map.shape)\n",
    "    for radius in kernels_radii:\n",
    "        mask = convolve_with_ball((thiccness_map > 0).astype(np.uint8), radius, normalize=True) >= fill_threshold\n",
    "        thin_tree[thiccness_map == radius+1] = \\\n",
    "            thiccness_map[thiccness_map == radius+1] * mask[thiccness_map == radius+1]\n",
    "        \n",
    "        print(f'kernel {radius} done')\n",
    "        \n",
    "    return thin_tree"
   ]
  },
  {
   "cell_type": "code",
   "execution_count": 16,
   "metadata": {},
   "outputs": [
    {
     "name": "stdout",
     "output_type": "stream",
     "text": [
      "kernel 0.0 done\n",
      "kernel 1.0 done\n",
      "kernel 2.0 done\n",
      "kernel 3.0 done\n",
      "kernel 4.0 done\n",
      "kernel 5.0 done\n",
      "kernel 6.0 done\n",
      "kernel 7.0 done\n",
      "kernel 8.0 done\n",
      "kernel 9.0 done\n",
      "kernel 10.0 done\n",
      "kernel 11.0 done\n",
      "CPU times: user 1min 39s, sys: 16.7 s, total: 1min 56s\n",
      "Wall time: 1min 56s\n"
     ]
    }
   ],
   "source": [
    "%%time\n",
    "thin_tree = dethiccate(thicc_map, fill_threshold=0.7)"
   ]
  },
  {
   "cell_type": "code",
   "execution_count": 17,
   "metadata": {},
   "outputs": [],
   "source": [
    "ColorMapVisualizer(thin_tree.astype(np.uint8)).visualize(gradient=True)"
   ]
  },
  {
   "cell_type": "code",
   "execution_count": 18,
   "metadata": {},
   "outputs": [],
   "source": [
    "visualize_addition(thin_tree, thicc_map)"
   ]
  }
 ],
 "metadata": {
  "kernelspec": {
   "display_name": "env-med",
   "language": "python",
   "name": "env-med"
  },
  "language_info": {
   "codemirror_mode": {
    "name": "ipython",
    "version": 3
   },
   "file_extension": ".py",
   "mimetype": "text/x-python",
   "name": "python",
   "nbconvert_exporter": "python",
   "pygments_lexer": "ipython3",
   "version": "3.6.9"
  }
 },
 "nbformat": 4,
 "nbformat_minor": 4
}
