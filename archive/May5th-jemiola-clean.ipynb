{
 "cells": [
  {
   "cell_type": "code",
   "execution_count": 1,
   "metadata": {},
   "outputs": [],
   "source": [
    "import numpy as np\n",
    "import glob\n",
    "import matplotlib.pyplot as plt\n",
    "import cv2\n",
    "from skimage import measure, segmentation\n",
    "from vis_utils import load_volume, VolumeVisualizer, ColorMapVisualizer\n",
    "from scipy.ndimage import zoom\n",
    "from skimage.morphology import skeletonize, skeletonize_3d\n",
    "\n",
    "from skimage import filters, morphology\n",
    "\n",
    "from scipy.ndimage.filters import convolve, correlate\n",
    "from scipy import signal\n",
    "\n",
    "from skimage.filters import frangi, sato\n",
    "\n",
    "from PIL import Image\n",
    "import pickle"
   ]
  },
  {
   "cell_type": "code",
   "execution_count": 2,
   "metadata": {},
   "outputs": [
    {
     "data": {
      "text/plain": [
       "[(0, './data/P01/P01_60um_1612x623x1108.raw'),\n",
       " (1, './data/P02/P02_60um_1387x778x1149.raw'),\n",
       " (2, './data/P03/P03_60um_1473x1163x1148.raw'),\n",
       " (3, './data/P04/P04_60um_1273x466x1045.raw'),\n",
       " (4, './data/P05/P05_60um_1454x817x1102.raw'),\n",
       " (5, './data/P06/P06_60um_1425x564x1028.raw'),\n",
       " (6, './data/P07/P7_60um_1216x692x926.raw'),\n",
       " (7, './data/P08/P08_60um_1728x927x1149.raw'),\n",
       " (8, './data/P09/P09_60um_1359x456x1040.raw'),\n",
       " (9, './data/P10/P10_60um_1339x537x1035.raw'),\n",
       " (10, './data/P11/P11_60um_1735x595x1150.raw'),\n",
       " (11, './data/P12/P12_60um_1333x443x864.raw'),\n",
       " (12, './data/P13/P13_60um_1132x488x877.raw')]"
      ]
     },
     "execution_count": 2,
     "metadata": {},
     "output_type": "execute_result"
    }
   ],
   "source": [
    "source_dir = './data/'\n",
    "files = list(sorted(glob.glob(source_dir + '/*/*.raw')))\n",
    "list(enumerate(files))"
   ]
  },
  {
   "cell_type": "code",
   "execution_count": 13,
   "metadata": {},
   "outputs": [
    {
     "name": "stdout",
     "output_type": "stream",
     "text": [
      "(432, 222, 666)\n",
      "CPU times: user 1.43 s, sys: 1.19 s, total: 2.62 s\n",
      "Wall time: 2.88 s\n"
     ]
    }
   ],
   "source": [
    "%%time\n",
    "threshold = 70\n",
    "\n",
    "mask = load_volume(files[11], scale=0.5)\n",
    "mask = mask > threshold\n",
    "print(mask.shape)"
   ]
  },
  {
   "cell_type": "code",
   "execution_count": 4,
   "metadata": {},
   "outputs": [],
   "source": [
    "# VolumeVisualizer(mask, binary=True).visualize()"
   ]
  },
  {
   "cell_type": "markdown",
   "metadata": {},
   "source": [
    "## utility functions"
   ]
  },
  {
   "cell_type": "code",
   "execution_count": 25,
   "metadata": {},
   "outputs": [],
   "source": [
    "def spherical_kernel(outer_radius, thickness=1, filled=True):    \n",
    "    outer_sphere = morphology.ball(radius=outer_radius)\n",
    "    if filled:\n",
    "        return outer_sphere\n",
    "    \n",
    "    inner_radius = outer_radius - thickness\n",
    "    inner_sphere = morphology.ball(radius=inner_radius)\n",
    "    \n",
    "    begin = outer_radius - inner_radius\n",
    "    end = begin + inner_sphere.shape[0]\n",
    "    outer_sphere[begin:end, begin:end, begin:end] -= inner_sphere\n",
    "    return outer_sphere\n",
    "\n",
    "def convolve_with_ball(img, ball_radius, dtype=np.uint16, normalize=True):\n",
    "    kernel = spherical_kernel(ball_radius, filled=True)\n",
    "    convolved = signal.convolve(img.astype(dtype), kernel.astype(dtype), mode='same')\n",
    "    \n",
    "    if not normalize:\n",
    "        return convolved\n",
    "    \n",
    "    return (convolved / kernel.sum()).astype(np.float16)\n",
    "\n",
    "def get_arterial_regions(conv_img, lower_hyst_fraction, upper_hyst_fraction):\n",
    "    lower_hyst_value = lower_hyst_fraction * conv_img.max()\n",
    "    upper_hyst_value = upper_hyst_fraction * conv_img.max()\n",
    "    return filters.apply_hysteresis_threshold(conv_img, lower_hyst_value, upper_hyst_value)\n",
    "\n",
    "def reconstruct_from_skeleton(skeleton, ball_radius):    \n",
    "    mask = np.zeros(skeleton.shape, dtype=np.uint8)\n",
    "    mask = np.pad(mask, ball_radius)\n",
    "    \n",
    "    kernel = spherical_kernel(ball_radius, filled=True)\n",
    "    central_points = np.argwhere(skeleton == 1)\n",
    "    \n",
    "    for central_point in central_points:\n",
    "        start_corner = tuple(central_point)\n",
    "        end_corner = tuple(central_point + 2*ball_radius + 1)\n",
    "        \n",
    "        start1, start2, start3 = start_corner\n",
    "        end1, end2, end3 = end_corner\n",
    "        \n",
    "        mask_slice = mask[start1:end1, start2:end2, start3:end3]\n",
    "        mask_slice[:] = np.logical_or(mask_slice, kernel)\n",
    "                \n",
    "    return mask[ball_radius:-ball_radius, ball_radius:-ball_radius, ball_radius:-ball_radius]\n",
    "\n",
    "# high level functions\n",
    "\n",
    "def get_tree_core(tree_mask, kernel_radius, max_fraction):\n",
    "    convolved_mask = convolve_with_ball(tree_mask, kernel_radius)\n",
    "    core_voxels = convolved_mask > max_fraction * convolved_mask.max()\n",
    "    core_skeleton = skeletonize_3d(core_voxels.astype(np.uint8))\n",
    "    core_reconstruction = reconstruct_from_skeleton(core_skeleton, kernel_radius)\n",
    "    \n",
    "    return core_reconstruction\n",
    "\n",
    "def expand_tree_reconstruction(tree_mask, reconstruction, kernel_radius, max_fraction):\n",
    "    convolved_mask = convolve_with_ball(tree_mask, kernel_radius)\n",
    "    \n",
    "    kernel_vol = spherical_kernel(kernel_radius).sum()\n",
    "    threshold_value = int(max_fraction * kernel_vol)\n",
    "    \n",
    "    # set current reconstruction to infinity\n",
    "    convolved_mask_with_huge_core = convolved_mask + reconstruction * (kernel_vol + 2)\n",
    "        \n",
    "        \n",
    "    expanded_rec = filters.apply_hysteresis_threshold(convolved_mask_with_huge_core, threshold_value, kernel_vol + 5)\n",
    "    expansion = expanded_rec - reconstruction\n",
    "    \n",
    "    convolved_mask_with_huge_expansion = convolved_mask + expansion * (kernel_vol + 2)\n",
    "    expanded_expansion = filters.apply_hysteresis_threshold(convolved_mask_with_huge_expansion, threshold_value, kernel_vol + 5)\n",
    "    \n",
    "    ee_skeleton = skeletonize_3d(expanded_expansion.astype(np.uint8))\n",
    "    ee_reconstruction = reconstruct_from_skeleton(ee_skeleton, kernel_radius)\n",
    "    \n",
    "    return ee_reconstruction#, ee_skeleton\n",
    "\n",
    "def get_main_regions(binary_mask, min_size=10_000, connectivity=3):\n",
    "    labeled = measure.label(binary_mask, connectivity=connectivity)\n",
    "    region_props = measure.regionprops(labeled)\n",
    "    \n",
    "    main_regions_masks = []\n",
    "    \n",
    "    for props in region_props:\n",
    "        if props.area >= min_size:\n",
    "            main_regions_masks.append((props.filled_image, props.bbox))\n",
    "            \n",
    "    return main_regions_masks\n",
    "\n",
    "def fill_jemiola(shape, cache, fill_threshold=0.5):\n",
    "\n",
    "    kernel_size_map = np.zeros(shape, dtype=np.uint8)\n",
    "    best_fill_percentage_map = np.zeros(shape, dtype=np.float16)\n",
    "\n",
    "    for key, conv_map in cache.items():\n",
    "        better_fill = conv_map > best_fill_percentage_map\n",
    "        kernel_size_map[better_fill] = key\n",
    "        best_fill_percentage_map[better_fill] = conv_map[better_fill]\n",
    "\n",
    "    kernel_size_map *= best_fill_percentage_map > fill_threshold\n",
    "    \n",
    "    return kernel_size_map.astype(np.uint8)"
   ]
  },
  {
   "cell_type": "markdown",
   "metadata": {},
   "source": [
    "## mask main region"
   ]
  },
  {
   "cell_type": "code",
   "execution_count": 16,
   "metadata": {},
   "outputs": [],
   "source": [
    "mask_main = get_main_regions(mask)[0][0]\n",
    "# VolumeVisualizer(mask_main, binary=True).visualize()"
   ]
  },
  {
   "cell_type": "markdown",
   "metadata": {},
   "source": [
    "## caching convolution results"
   ]
  },
  {
   "cell_type": "code",
   "execution_count": 7,
   "metadata": {},
   "outputs": [],
   "source": [
    "with open('convolved_volume_cache', 'rb') as f:\n",
    "    cache_iter1 = pickle.load(f)\n",
    "    \n",
    "with open('double_cache', 'rb') as f:\n",
    "    cache_iter2 = pickle.load(f)"
   ]
  },
  {
   "cell_type": "code",
   "execution_count": 13,
   "metadata": {},
   "outputs": [],
   "source": [
    "ultimate_mask = mask_main.copy().astype(np.uint8)\n",
    "ultimate_mask += fill_jemiola(mask_main.shape, cache_iter1, fill_threshold=0.5)\n",
    "ultimate_mask += fill_jemiola(mask_main.shape, cache_iter2, fill_threshold=0.5)"
   ]
  },
  {
   "cell_type": "code",
   "execution_count": 4,
   "metadata": {},
   "outputs": [],
   "source": [
    "# VolumeVisualizer((ultimate_mask > 0).astype(np.uint8) * 255, binary=False).visualize()\n",
    "# np.save('mask_after_2_iters', (ultimate_mask > 0))\n",
    "mask_after_2_iters = np.load('mask_after_2_iters.npy')\n",
    "VolumeVisualizer((mask_after_2_iters).astype(np.uint8) * 255, binary=False).visualize()"
   ]
  },
  {
   "cell_type": "code",
   "execution_count": 5,
   "metadata": {},
   "outputs": [
    {
     "name": "stdout",
     "output_type": "stream",
     "text": [
      "1\n",
      "2\n",
      "3\n",
      "4\n",
      "5\n",
      "6\n",
      "7\n",
      "8\n",
      "9\n",
      "10\n"
     ]
    }
   ],
   "source": [
    "cache_iter3 = {}\n",
    "kernel_sizes = range(1, 11)\n",
    "\n",
    "for k in kernel_sizes:\n",
    "    \n",
    "    if k in cache_iter3.keys():\n",
    "        print(f'skipping {k}')\n",
    "        continue\n",
    "    \n",
    "    cache_iter3[k] = convolve_with_ball(mask_after_2_iters, k)\n",
    "    print(k)"
   ]
  },
  {
   "cell_type": "code",
   "execution_count": null,
   "metadata": {},
   "outputs": [],
   "source": []
  },
  {
   "cell_type": "code",
   "execution_count": 6,
   "metadata": {},
   "outputs": [],
   "source": [
    "mask2 = mask_after_2_iters.copy()\n",
    "mask3 = fill_jemiola(mask_after_2_iters.shape, cache_iter3, fill_threshold=0.5)\n",
    "\n",
    "ColorMapVisualizer(mask3).visualize()"
   ]
  },
  {
   "cell_type": "code",
   "execution_count": 8,
   "metadata": {},
   "outputs": [],
   "source": [
    "lol = mask2.copy()\n",
    "lsd = mask3 > 0\n",
    "lsd[lol == 1] = 0\n",
    "VolumeVisualizer(lsd * 255, binary=False).visualize()"
   ]
  },
  {
   "cell_type": "code",
   "execution_count": 22,
   "metadata": {},
   "outputs": [],
   "source": [
    "reconstruction = np.minimum(lsd.astype(np.uint8) + lol.astype(np.uint8), 1)\n",
    "VolumeVisualizer(reconstruction, binary=True).visualize()"
   ]
  },
  {
   "cell_type": "code",
   "execution_count": 20,
   "metadata": {},
   "outputs": [],
   "source": [
    "ColorMapVisualizer(mask_main.astype(np.uint8)*2 + reconstruction).visualize()"
   ]
  },
  {
   "cell_type": "markdown",
   "metadata": {},
   "source": [
    "## igranie z ogniem"
   ]
  },
  {
   "cell_type": "code",
   "execution_count": 29,
   "metadata": {},
   "outputs": [
    {
     "name": "stdout",
     "output_type": "stream",
     "text": [
      "core is nice\n",
      "iter for 10 ended successfully XD\n",
      "iter for 9 ended successfully XD\n",
      "iter for 8 ended successfully XD\n"
     ]
    }
   ],
   "source": [
    "# %%time\n",
    "\n",
    "rec = get_tree_core(reconstruction, 15, 0.95)\n",
    "total_rec = rec.copy().astype(np.uint8)\n",
    "new_rec = rec.copy()\n",
    "print('core is nice')\n",
    "\n",
    "for i, kernel_radius in enumerate([10, 9, 8]):#, 7, 6, 5, 4, 3, 2, 1]):\n",
    "    new_rec = expand_tree_reconstruction(reconstruction, new_rec, kernel_radius=kernel_radius, max_fraction=0.5)\n",
    "    rec = np.logical_or(rec, new_rec).astype(np.uint8)\n",
    "    \n",
    "    just_expansion = new_rec.copy()\n",
    "    just_expansion[total_rec > 0] = 0\n",
    "    total_rec += just_expansion * (i + 2)\n",
    "    \n",
    "    print('iter for', kernel_radius, 'ended successfully XD')"
   ]
  },
  {
   "cell_type": "code",
   "execution_count": 32,
   "metadata": {},
   "outputs": [],
   "source": [
    "ColorMapVisualizer(skeletonize_3d(reconstruction)).visualize()"
   ]
  }
 ],
 "metadata": {
  "kernelspec": {
   "display_name": "env-med",
   "language": "python",
   "name": "env-med"
  },
  "language_info": {
   "codemirror_mode": {
    "name": "ipython",
    "version": 3
   },
   "file_extension": ".py",
   "mimetype": "text/x-python",
   "name": "python",
   "nbconvert_exporter": "python",
   "pygments_lexer": "ipython3",
   "version": "3.6.9"
  }
 },
 "nbformat": 4,
 "nbformat_minor": 4
}
