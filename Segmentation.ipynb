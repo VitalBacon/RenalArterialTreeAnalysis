{
 "cells": [
  {
   "cell_type": "code",
   "execution_count": 4,
   "metadata": {},
   "outputs": [],
   "source": [
    "import numpy as np\n",
    "import glob\n",
    "import matplotlib.pyplot as plt\n",
    "import cv2\n",
    "from skimage import measure, segmentation\n",
    "from vis_utils import load_volume, VolumeVisualizer\n",
    "from scipy.ndimage import zoom"
   ]
  },
  {
   "cell_type": "code",
   "execution_count": 5,
   "metadata": {},
   "outputs": [
    {
     "data": {
      "text/plain": [
       "'./data/P12/P12_60um_1333x443x864.raw'"
      ]
     },
     "execution_count": 5,
     "metadata": {},
     "output_type": "execute_result"
    }
   ],
   "source": [
    "source_dir = './data/'\n",
    "files = glob.glob(source_dir + '/*/*.raw')\n",
    "files[0]"
   ]
  },
  {
   "cell_type": "code",
   "execution_count": 6,
   "metadata": {},
   "outputs": [
    {
     "name": "stdout",
     "output_type": "stream",
     "text": [
      "(864, 443, 1333)\n",
      "CPU times: user 0 ns, sys: 239 ms, total: 239 ms\n",
      "Wall time: 241 ms\n"
     ]
    }
   ],
   "source": [
    "%%time\n",
    "sample_volume = load_volume(files[0])\n",
    "print(sample_volume.shape)"
   ]
  },
  {
   "cell_type": "code",
   "execution_count": 7,
   "metadata": {},
   "outputs": [],
   "source": [
    "# visualizer = VolumeVisualizer(sample_volume).visualize(scale=0.6)"
   ]
  },
  {
   "cell_type": "code",
   "execution_count": 8,
   "metadata": {},
   "outputs": [
    {
     "data": {
      "text/plain": [
       "(864, 443, 1333)"
      ]
     },
     "execution_count": 8,
     "metadata": {},
     "output_type": "execute_result"
    }
   ],
   "source": [
    "og_binary_mask = (sample_volume > 80).astype(np.uint8)\n",
    "og_binary_mask.shape"
   ]
  },
  {
   "cell_type": "code",
   "execution_count": 9,
   "metadata": {},
   "outputs": [],
   "source": [
    "# visualizer = VolumeVisualizer(og_vol_binary_mask).visualize(scale=0.6, primary_color=(255,255,255))"
   ]
  },
  {
   "cell_type": "code",
   "execution_count": 10,
   "metadata": {},
   "outputs": [],
   "source": [
    "def get_main_regions_zoomed_seeds(og_binary_mask, zoom_value=2, size_threshold=5000):\n",
    "    zoomed_binary_mask = zoom(og_binary_mask, 1 / zoom_value, order=0)\n",
    "    zoomed_binary_mask_regions = measure.label(zoomed_binary_mask)\n",
    "    print('number of found regions is', np.max(zoomed_binary_mask_regions))\n",
    "    zoomed_binary_mask_regionprops = measure.regionprops(zoomed_binary_mask_regions)\n",
    "    \n",
    "    main_regions_zoomed_seeds = []\n",
    "    for reg in zoomed_binary_mask_regionprops:\n",
    "        if(reg.filled_area > size_threshold):\n",
    "            main_regions_zoomed_seeds.append(np.argwhere(zoomed_binary_mask == reg.label)[0])\n",
    "    return main_regions_zoomed_seeds"
   ]
  },
  {
   "cell_type": "code",
   "execution_count": 11,
   "metadata": {},
   "outputs": [
    {
     "name": "stdout",
     "output_type": "stream",
     "text": [
      "number of found regions is 385\n"
     ]
    },
    {
     "data": {
      "text/plain": [
       "[array([ 15,  74, 211])]"
      ]
     },
     "execution_count": 11,
     "metadata": {},
     "output_type": "execute_result"
    }
   ],
   "source": [
    "zoom_value = 2\n",
    "size_threshold = 10000\n",
    "main_regions_zoomed_seeds = get_main_regions_zoomed_seeds(og_binary_mask, zoom_value, size_threshold)\n",
    "main_regions_zoomed_seeds"
   ]
  },
  {
   "cell_type": "code",
   "execution_count": null,
   "metadata": {},
   "outputs": [],
   "source": [
    "def get_main_regions_seeds(main_regions_zoomed_seeds, zoom_value):\n",
    "    main_regions_seeds = []\n",
    "    for zoomed_seed in main_regions_zoomed_seeds:\n",
    "        main_regions_seeds.append(zoomed_seed * zoom_value)\n",
    "        # TODO mozliwe ze trzeba ogarnac szescian\n",
    "    return main_regions_seeds"
   ]
  },
  {
   "cell_type": "code",
   "execution_count": 20,
   "metadata": {},
   "outputs": [
    {
     "data": {
      "text/plain": [
       "[array([ 30, 148, 422])]"
      ]
     },
     "execution_count": 20,
     "metadata": {},
     "output_type": "execute_result"
    }
   ],
   "source": [
    "main_regions_seeds = get_main_regions_seeds(main_regions_zoomed_seeds, zoom_value)\n",
    "main_regions_seeds"
   ]
  },
  {
   "cell_type": "code",
   "execution_count": 28,
   "metadata": {},
   "outputs": [],
   "source": [
    "def get_main_region_masks(og_binary_mask, main_regions_seeds):\n",
    "    main_regions = []\n",
    "    for seed in main_regions_seeds:\n",
    "        if og_binary_mask[tuple(seed)] == 0:\n",
    "            raise Exception(\"seed point set to background\")\n",
    "        region = segmentation.flood(og_binary_mask, tuple(seed))\n",
    "    return main_regions"
   ]
  },
  {
   "cell_type": "code",
   "execution_count": 29,
   "metadata": {},
   "outputs": [
    {
     "ename": "Exception",
     "evalue": "raczychho",
     "output_type": "error",
     "traceback": [
      "\u001b[0;31m---------------------------------------------------------------------------\u001b[0m",
      "\u001b[0;31mException\u001b[0m                                 Traceback (most recent call last)",
      "\u001b[0;32m<ipython-input-29-7c2035355f1f>\u001b[0m in \u001b[0;36m<module>\u001b[0;34m\u001b[0m\n\u001b[0;32m----> 1\u001b[0;31m \u001b[0mxd\u001b[0m \u001b[0;34m=\u001b[0m \u001b[0mget_main_region_masks\u001b[0m\u001b[0;34m(\u001b[0m\u001b[0mog_binary_mask\u001b[0m\u001b[0;34m,\u001b[0m \u001b[0mmain_regions_seeds\u001b[0m\u001b[0;34m)\u001b[0m\u001b[0;34m\u001b[0m\u001b[0;34m\u001b[0m\u001b[0m\n\u001b[0m",
      "\u001b[0;32m<ipython-input-28-38465b327a64>\u001b[0m in \u001b[0;36mget_main_region_masks\u001b[0;34m(og_binary_mask, main_regions_seeds)\u001b[0m\n\u001b[1;32m      3\u001b[0m     \u001b[0;32mfor\u001b[0m \u001b[0mseed\u001b[0m \u001b[0;32min\u001b[0m \u001b[0mmain_regions_seeds\u001b[0m\u001b[0;34m:\u001b[0m\u001b[0;34m\u001b[0m\u001b[0;34m\u001b[0m\u001b[0m\n\u001b[1;32m      4\u001b[0m         \u001b[0;32mif\u001b[0m \u001b[0mog_binary_mask\u001b[0m\u001b[0;34m[\u001b[0m\u001b[0mtuple\u001b[0m\u001b[0;34m(\u001b[0m\u001b[0mseed\u001b[0m\u001b[0;34m)\u001b[0m\u001b[0;34m]\u001b[0m \u001b[0;34m==\u001b[0m \u001b[0;36m0\u001b[0m\u001b[0;34m:\u001b[0m\u001b[0;34m\u001b[0m\u001b[0;34m\u001b[0m\u001b[0m\n\u001b[0;32m----> 5\u001b[0;31m             \u001b[0;32mraise\u001b[0m \u001b[0mException\u001b[0m\u001b[0;34m(\u001b[0m\u001b[0;34m\"raczychho\"\u001b[0m\u001b[0;34m)\u001b[0m\u001b[0;34m\u001b[0m\u001b[0;34m\u001b[0m\u001b[0m\n\u001b[0m\u001b[1;32m      6\u001b[0m         \u001b[0mregion\u001b[0m \u001b[0;34m=\u001b[0m \u001b[0msegmentation\u001b[0m\u001b[0;34m.\u001b[0m\u001b[0mflood\u001b[0m\u001b[0;34m(\u001b[0m\u001b[0mog_binary_mask\u001b[0m\u001b[0;34m,\u001b[0m \u001b[0mtuple\u001b[0m\u001b[0;34m(\u001b[0m\u001b[0mseed\u001b[0m\u001b[0;34m)\u001b[0m\u001b[0;34m)\u001b[0m\u001b[0;34m\u001b[0m\u001b[0;34m\u001b[0m\u001b[0m\n\u001b[1;32m      7\u001b[0m     \u001b[0;32mreturn\u001b[0m \u001b[0mmain_regions\u001b[0m\u001b[0;34m\u001b[0m\u001b[0;34m\u001b[0m\u001b[0m\n",
      "\u001b[0;31mException\u001b[0m: raczychho"
     ]
    }
   ],
   "source": [
    "xd = get_main_region_masks(og_binary_mask, main_regions_seeds)"
   ]
  },
  {
   "cell_type": "code",
   "execution_count": null,
   "metadata": {},
   "outputs": [],
   "source": [
    "xd\n"
   ]
  },
  {
   "cell_type": "code",
   "execution_count": null,
   "metadata": {},
   "outputs": [],
   "source": []
  },
  {
   "cell_type": "code",
   "execution_count": 12,
   "metadata": {},
   "outputs": [],
   "source": [
    "def get_main_region_masks(vol_binary_mask, size_threshold):\n",
    "    vol_binary_mask = vol_binary_mask.copy()\n",
    "    seeds = np.argwhere(vol_binary_mask == 1)\n",
    "    main_regions = []\n",
    "    for seed in seeds:\n",
    "        if vol_binary_mask[tuple(seed)] == 0:\n",
    "            continue\n",
    "        region = segmentation.flood(vol_binary_mask, tuple(seed))\n",
    "        vol_binary_mask -= region\n",
    "        if np.count_nonzero(region) > size_threshold:\n",
    "            main_regions.append(region)\n",
    "    return main_regions"
   ]
  },
  {
   "cell_type": "code",
   "execution_count": 5,
   "metadata": {},
   "outputs": [],
   "source": [
    "def get_main_region_masks(vol_binary_mask, size_threshold):\n",
    "    vol_binary_mask = vol_binary_mask.copy()\n",
    "    main_regions = []\n",
    "    while True:\n",
    "        print(\"dick\")\n",
    "        seeds = np.argwhere(vol_binary_mask == 1)\n",
    "        if seeds.size == 0:\n",
    "            break\n",
    "        print(seeds[0])\n",
    "        region = segmentation.flood(vol_binary_mask, tuple(seeds[0]))\n",
    "        vol_binary_mask -= region\n",
    "        if np.count_nonzero(region) > size_threshold:\n",
    "            main_regions.append(region)\n",
    "    return main_regions"
   ]
  },
  {
   "cell_type": "code",
   "execution_count": 6,
   "metadata": {},
   "outputs": [
    {
     "name": "stdout",
     "output_type": "stream",
     "text": [
      "dick\n",
      "[ 28 149 425]\n",
      "dick\n",
      "[ 37 150 402]\n",
      "dick\n",
      "[ 68 214 579]\n",
      "dick\n",
      "[ 70 111 370]\n",
      "dick\n",
      "[ 72 213 580]\n",
      "dick\n",
      "[ 74 182 304]\n",
      "dick\n",
      "[ 75 183 306]\n",
      "dick\n",
      "[ 76 183 308]\n",
      "dick\n",
      "[ 81 207 666]\n",
      "dick\n",
      "[ 90  71 350]\n",
      "dick\n",
      "[ 93 215 711]\n",
      "dick\n",
      "[ 95  74 294]\n",
      "dick\n",
      "[113 206 553]\n",
      "dick\n",
      "[119 232 806]\n",
      "dick\n",
      "[122  67 360]\n",
      "dick\n",
      "[122 199 297]\n",
      "dick\n",
      "[131 114 278]\n",
      "dick\n",
      "[136  53 359]\n",
      "dick\n",
      "[144 133 300]\n",
      "dick\n",
      "[145 177 712]\n",
      "dick\n",
      "[146 101 268]\n",
      "dick\n",
      "[146 249 566]\n",
      "dick\n",
      "[148 273 628]\n",
      "dick\n",
      "[150  63 406]\n",
      "dick\n",
      "[150 250 712]\n",
      "dick\n",
      "[152 273 486]\n",
      "dick\n",
      "[153 224 458]\n",
      "dick\n",
      "[153 250 436]\n",
      "dick\n",
      "[154 244 364]\n",
      "dick\n",
      "[156 235 705]\n",
      "dick\n",
      "[157  54 256]\n",
      "dick\n",
      "[159 148 289]\n",
      "dick\n",
      "[159 215 451]\n",
      "dick\n",
      "[160 142 237]\n",
      "dick\n",
      "[162 248 721]\n",
      "dick\n",
      "[164 293 729]\n",
      "dick\n",
      "[168 129 229]\n",
      "dick\n",
      "[170 211 352]\n",
      "dick\n",
      "[171 309 823]\n",
      "dick\n",
      "[176  61 349]\n",
      "dick\n",
      "[184 170 260]\n",
      "dick\n",
      "[184 284 735]\n",
      "dick\n",
      "[ 188  224 1107]\n",
      "dick\n",
      "[190 111 277]\n",
      "dick\n",
      "[198 143 324]\n",
      "dick\n",
      "[201 151 362]\n",
      "dick\n",
      "[201 319 918]\n",
      "dick\n",
      "[203 296 854]\n",
      "dick\n",
      "[205 269 238]\n",
      "dick\n",
      "[208 163 352]\n",
      "dick\n",
      "[209 164 362]\n",
      "dick\n",
      "[ 214  248 1097]\n",
      "dick\n",
      "[215  61 374]\n",
      "dick\n",
      "[ 218  257 1015]\n",
      "dick\n",
      "[221 250 655]\n",
      "dick\n",
      "[224 205 633]\n",
      "dick\n",
      "[ 224  221 1197]\n"
     ]
    },
    {
     "ename": "KeyboardInterrupt",
     "evalue": "",
     "output_type": "error",
     "traceback": [
      "\u001b[0;31m---------------------------------------------------------------------------\u001b[0m",
      "\u001b[0;31mKeyboardInterrupt\u001b[0m                         Traceback (most recent call last)",
      "\u001b[0;32m<ipython-input-6-02d8e6f2b5d6>\u001b[0m in \u001b[0;36m<module>\u001b[0;34m\u001b[0m\n\u001b[0;32m----> 1\u001b[0;31m \u001b[0mmain_region_masks\u001b[0m \u001b[0;34m=\u001b[0m \u001b[0mget_main_region_masks\u001b[0m\u001b[0;34m(\u001b[0m\u001b[0mog_vol_binary_mask\u001b[0m\u001b[0;34m,\u001b[0m \u001b[0;36m10000\u001b[0m\u001b[0;34m)\u001b[0m\u001b[0;34m\u001b[0m\u001b[0;34m\u001b[0m\u001b[0m\n\u001b[0m\u001b[1;32m      2\u001b[0m \u001b[0mlen\u001b[0m\u001b[0;34m(\u001b[0m\u001b[0mmain_region_masks\u001b[0m\u001b[0;34m)\u001b[0m\u001b[0;34m\u001b[0m\u001b[0;34m\u001b[0m\u001b[0m\n",
      "\u001b[0;32m<ipython-input-5-1374df0b6c90>\u001b[0m in \u001b[0;36mget_main_region_masks\u001b[0;34m(vol_binary_mask, size_threshold)\u001b[0m\n\u001b[1;32m      8\u001b[0m             \u001b[0;32mbreak\u001b[0m\u001b[0;34m\u001b[0m\u001b[0;34m\u001b[0m\u001b[0m\n\u001b[1;32m      9\u001b[0m         \u001b[0mprint\u001b[0m\u001b[0;34m(\u001b[0m\u001b[0mseeds\u001b[0m\u001b[0;34m[\u001b[0m\u001b[0;36m0\u001b[0m\u001b[0;34m]\u001b[0m\u001b[0;34m)\u001b[0m\u001b[0;34m\u001b[0m\u001b[0;34m\u001b[0m\u001b[0m\n\u001b[0;32m---> 10\u001b[0;31m         \u001b[0mregion\u001b[0m \u001b[0;34m=\u001b[0m \u001b[0msegmentation\u001b[0m\u001b[0;34m.\u001b[0m\u001b[0mflood\u001b[0m\u001b[0;34m(\u001b[0m\u001b[0mvol_binary_mask\u001b[0m\u001b[0;34m,\u001b[0m \u001b[0mtuple\u001b[0m\u001b[0;34m(\u001b[0m\u001b[0mseeds\u001b[0m\u001b[0;34m[\u001b[0m\u001b[0;36m0\u001b[0m\u001b[0;34m]\u001b[0m\u001b[0;34m)\u001b[0m\u001b[0;34m)\u001b[0m\u001b[0;34m\u001b[0m\u001b[0;34m\u001b[0m\u001b[0m\n\u001b[0m\u001b[1;32m     11\u001b[0m         \u001b[0mvol_binary_mask\u001b[0m \u001b[0;34m-=\u001b[0m \u001b[0mregion\u001b[0m\u001b[0;34m\u001b[0m\u001b[0;34m\u001b[0m\u001b[0m\n\u001b[1;32m     12\u001b[0m         \u001b[0;32mif\u001b[0m \u001b[0mnp\u001b[0m\u001b[0;34m.\u001b[0m\u001b[0mcount_nonzero\u001b[0m\u001b[0;34m(\u001b[0m\u001b[0mregion\u001b[0m\u001b[0;34m)\u001b[0m \u001b[0;34m>\u001b[0m \u001b[0msize_threshold\u001b[0m\u001b[0;34m:\u001b[0m\u001b[0;34m\u001b[0m\u001b[0;34m\u001b[0m\u001b[0m\n",
      "\u001b[0;32m~/anaconda3/lib/python3.7/site-packages/skimage/morphology/_flood_fill.py\u001b[0m in \u001b[0;36mflood\u001b[0;34m(image, seed_point, selem, connectivity, tolerance)\u001b[0m\n\u001b[1;32m    239\u001b[0m     \u001b[0;31m# Use a set of flags; see _flood_fill_cy.pyx for meanings\u001b[0m\u001b[0;34m\u001b[0m\u001b[0;34m\u001b[0m\u001b[0;34m\u001b[0m\u001b[0m\n\u001b[1;32m    240\u001b[0m     \u001b[0mflags\u001b[0m \u001b[0;34m=\u001b[0m \u001b[0mnp\u001b[0m\u001b[0;34m.\u001b[0m\u001b[0mzeros\u001b[0m\u001b[0;34m(\u001b[0m\u001b[0mworking_image\u001b[0m\u001b[0;34m.\u001b[0m\u001b[0mshape\u001b[0m\u001b[0;34m,\u001b[0m \u001b[0mdtype\u001b[0m\u001b[0;34m=\u001b[0m\u001b[0mnp\u001b[0m\u001b[0;34m.\u001b[0m\u001b[0muint8\u001b[0m\u001b[0;34m)\u001b[0m\u001b[0;34m\u001b[0m\u001b[0;34m\u001b[0m\u001b[0m\n\u001b[0;32m--> 241\u001b[0;31m     \u001b[0m_set_edge_values_inplace\u001b[0m\u001b[0;34m(\u001b[0m\u001b[0mflags\u001b[0m\u001b[0;34m,\u001b[0m \u001b[0mvalue\u001b[0m\u001b[0;34m=\u001b[0m\u001b[0;36m2\u001b[0m\u001b[0;34m)\u001b[0m\u001b[0;34m\u001b[0m\u001b[0;34m\u001b[0m\u001b[0m\n\u001b[0m\u001b[1;32m    242\u001b[0m \u001b[0;34m\u001b[0m\u001b[0m\n\u001b[1;32m    243\u001b[0m     \u001b[0;32mtry\u001b[0m\u001b[0;34m:\u001b[0m\u001b[0;34m\u001b[0m\u001b[0;34m\u001b[0m\u001b[0m\n",
      "\u001b[0;32m~/anaconda3/lib/python3.7/site-packages/skimage/morphology/extrema.py\u001b[0m in \u001b[0;36m_set_edge_values_inplace\u001b[0;34m(image, value)\u001b[0m\n\u001b[1;32m    234\u001b[0m         \u001b[0;31m# Set edge in front\u001b[0m\u001b[0;34m\u001b[0m\u001b[0;34m\u001b[0m\u001b[0;34m\u001b[0m\u001b[0m\n\u001b[1;32m    235\u001b[0m         \u001b[0msl\u001b[0m\u001b[0;34m[\u001b[0m\u001b[0maxis\u001b[0m\u001b[0;34m]\u001b[0m \u001b[0;34m=\u001b[0m \u001b[0;36m0\u001b[0m\u001b[0;34m\u001b[0m\u001b[0;34m\u001b[0m\u001b[0m\n\u001b[0;32m--> 236\u001b[0;31m         \u001b[0mimage\u001b[0m\u001b[0;34m[\u001b[0m\u001b[0mtuple\u001b[0m\u001b[0;34m(\u001b[0m\u001b[0msl\u001b[0m\u001b[0;34m)\u001b[0m\u001b[0;34m]\u001b[0m \u001b[0;34m=\u001b[0m \u001b[0mvalue\u001b[0m\u001b[0;34m\u001b[0m\u001b[0;34m\u001b[0m\u001b[0m\n\u001b[0m\u001b[1;32m    237\u001b[0m         \u001b[0;31m# Set edge to the end\u001b[0m\u001b[0;34m\u001b[0m\u001b[0;34m\u001b[0m\u001b[0;34m\u001b[0m\u001b[0m\n\u001b[1;32m    238\u001b[0m         \u001b[0msl\u001b[0m\u001b[0;34m[\u001b[0m\u001b[0maxis\u001b[0m\u001b[0;34m]\u001b[0m \u001b[0;34m=\u001b[0m \u001b[0;34m-\u001b[0m\u001b[0;36m1\u001b[0m\u001b[0;34m\u001b[0m\u001b[0;34m\u001b[0m\u001b[0m\n",
      "\u001b[0;31mKeyboardInterrupt\u001b[0m: "
     ]
    }
   ],
   "source": [
    "main_region_masks = get_main_region_masks(og_vol_binary_mask, 10000)\n",
    "len(main_region_masks)"
   ]
  },
  {
   "cell_type": "code",
   "execution_count": 22,
   "metadata": {},
   "outputs": [],
   "source": [
    "visualizer = VolumeVisualizer(main_region).visualize(primary_color=(255,255,255))"
   ]
  },
  {
   "cell_type": "code",
   "execution_count": 16,
   "metadata": {},
   "outputs": [],
   "source": [
    "first_reg = (regions == 1).astype(np.uint8) * 255"
   ]
  },
  {
   "cell_type": "code",
   "execution_count": 17,
   "metadata": {},
   "outputs": [],
   "source": [
    "visualizer = VolumeVisualizer(first_reg)\n",
    "visualizer.visualize(primary_color=(255,255,255))"
   ]
  },
  {
   "cell_type": "code",
   "execution_count": 52,
   "metadata": {},
   "outputs": [
    {
     "data": {
      "text/plain": [
       "(22, 119, 340)"
      ]
     },
     "execution_count": 52,
     "metadata": {},
     "output_type": "execute_result"
    }
   ],
   "source": [
    "tuple(seeds[0])"
   ]
  },
  {
   "cell_type": "code",
   "execution_count": 53,
   "metadata": {},
   "outputs": [
    {
     "data": {
      "text/plain": [
       "260758524"
      ]
     },
     "execution_count": 53,
     "metadata": {},
     "output_type": "execute_result"
    }
   ],
   "source": [
    "zoomed_binary_mask.size"
   ]
  },
  {
   "cell_type": "code",
   "execution_count": 47,
   "metadata": {},
   "outputs": [],
   "source": [
    "main_region = segmentation.flood(zoomed_binary_mask, tuple(seeds[0]))"
   ]
  },
  {
   "cell_type": "code",
   "execution_count": 49,
   "metadata": {},
   "outputs": [],
   "source": []
  },
  {
   "cell_type": "code",
   "execution_count": 51,
   "metadata": {},
   "outputs": [
    {
     "data": {
      "text/plain": [
       "260758524"
      ]
     },
     "execution_count": 51,
     "metadata": {},
     "output_type": "execute_result"
    }
   ],
   "source": [
    "main_region.size"
   ]
  },
  {
   "cell_type": "code",
   "execution_count": 50,
   "metadata": {},
   "outputs": [
    {
     "ename": "MemoryError",
     "evalue": "Unable to allocate 1.94 GiB for an array with shape (260758524,) and data type int64",
     "output_type": "error",
     "traceback": [
      "\u001b[0;31m---------------------------------------------------------------------------\u001b[0m",
      "\u001b[0;31mMemoryError\u001b[0m                               Traceback (most recent call last)",
      "\u001b[0;32m<ipython-input-50-ca4cc208ad7a>\u001b[0m in \u001b[0;36m<module>\u001b[0;34m\u001b[0m\n\u001b[0;32m----> 1\u001b[0;31m \u001b[0mmain_region_regions\u001b[0m \u001b[0;34m=\u001b[0m \u001b[0mmeasure\u001b[0m\u001b[0;34m.\u001b[0m\u001b[0mlabel\u001b[0m\u001b[0;34m(\u001b[0m\u001b[0mmain_region\u001b[0m\u001b[0;34m)\u001b[0m\u001b[0;34m\u001b[0m\u001b[0;34m\u001b[0m\u001b[0m\n\u001b[0m\u001b[1;32m      2\u001b[0m \u001b[0;31m# main_region_regionprops = measure.regionprops(main_region_regions)\u001b[0m\u001b[0;34m\u001b[0m\u001b[0;34m\u001b[0m\u001b[0;34m\u001b[0m\u001b[0m\n\u001b[1;32m      3\u001b[0m \u001b[0mmain_region_regions\u001b[0m\u001b[0;34m.\u001b[0m\u001b[0mmax\u001b[0m\u001b[0;34m(\u001b[0m\u001b[0;34m)\u001b[0m\u001b[0;34m\u001b[0m\u001b[0;34m\u001b[0m\u001b[0m\n",
      "\u001b[0;32m~/anaconda3/lib/python3.7/site-packages/skimage/measure/_label.py\u001b[0m in \u001b[0;36mlabel\u001b[0;34m(input, neighbors, background, return_num, connectivity)\u001b[0m\n\u001b[1;32m     91\u001b[0m      [0 0 0]]\n\u001b[1;32m     92\u001b[0m     \"\"\"\n\u001b[0;32m---> 93\u001b[0;31m     \u001b[0;32mreturn\u001b[0m \u001b[0mclabel\u001b[0m\u001b[0;34m(\u001b[0m\u001b[0minput\u001b[0m\u001b[0;34m,\u001b[0m \u001b[0mneighbors\u001b[0m\u001b[0;34m,\u001b[0m \u001b[0mbackground\u001b[0m\u001b[0;34m,\u001b[0m \u001b[0mreturn_num\u001b[0m\u001b[0;34m,\u001b[0m \u001b[0mconnectivity\u001b[0m\u001b[0;34m)\u001b[0m\u001b[0;34m\u001b[0m\u001b[0;34m\u001b[0m\u001b[0m\n\u001b[0m",
      "\u001b[0;32mskimage/measure/_ccomp.pyx\u001b[0m in \u001b[0;36mskimage.measure._ccomp.label_cython\u001b[0;34m()\u001b[0m\n",
      "\u001b[0;31mMemoryError\u001b[0m: Unable to allocate 1.94 GiB for an array with shape (260758524,) and data type int64"
     ]
    }
   ],
   "source": [
    "main_region_regions = measure.label(main_region)\n",
    "# main_region_regionprops = measure.regionprops(main_region_regions)\n",
    "main_region_regions.max()"
   ]
  },
  {
   "cell_type": "code",
   "execution_count": null,
   "metadata": {},
   "outputs": [],
   "source": []
  },
  {
   "cell_type": "code",
   "execution_count": null,
   "metadata": {},
   "outputs": [],
   "source": []
  }
 ],
 "metadata": {
  "kernelspec": {
   "display_name": "Python 3",
   "language": "python",
   "name": "python3"
  },
  "language_info": {
   "codemirror_mode": {
    "name": "ipython",
    "version": 3
   },
   "file_extension": ".py",
   "mimetype": "text/x-python",
   "name": "python",
   "nbconvert_exporter": "python",
   "pygments_lexer": "ipython3",
   "version": "3.7.6"
  }
 },
 "nbformat": 4,
 "nbformat_minor": 4
}
