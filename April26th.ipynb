{
 "cells": [
  {
   "cell_type": "code",
   "execution_count": 1,
   "metadata": {},
   "outputs": [],
   "source": [
    "import numpy as np\n",
    "import glob\n",
    "import matplotlib.pyplot as plt\n",
    "import cv2\n",
    "from skimage import measure, segmentation\n",
    "from vis_utils import load_volume, VolumeVisualizer, ColorMapVisualizer\n",
    "from scipy.ndimage import zoom\n",
    "from skimage.morphology import skeletonize, skeletonize_3d\n",
    "from skimage import filters, morphology\n",
    "\n",
    "from scipy.ndimage.filters import convolve, correlate\n",
    "from scipy import signal"
   ]
  },
  {
   "cell_type": "code",
   "execution_count": 2,
   "metadata": {},
   "outputs": [
    {
     "data": {
      "text/plain": [
       "[(0, './data/P12/P12_60um_1333x443x864.raw')]"
      ]
     },
     "execution_count": 2,
     "metadata": {},
     "output_type": "execute_result"
    }
   ],
   "source": [
    "source_dir = './data/'\n",
    "files = list(sorted(glob.glob(source_dir + '/*/*.raw')))\n",
    "list(enumerate(files))"
   ]
  },
  {
   "cell_type": "code",
   "execution_count": 3,
   "metadata": {},
   "outputs": [
    {
     "name": "stdout",
     "output_type": "stream",
     "text": [
      "CPU times: user 1.36 s, sys: 429 ms, total: 1.79 s\n",
      "Wall time: 2.61 s\n"
     ]
    }
   ],
   "source": [
    "%%time\n",
    "volume = load_volume(files[0], scale=0.5)\n",
    "# visualizer = VolumeVisualizer(volume, binary=False).visualize()"
   ]
  },
  {
   "cell_type": "markdown",
   "metadata": {},
   "source": [
    "## simple threshold segmentation"
   ]
  },
  {
   "cell_type": "code",
   "execution_count": 4,
   "metadata": {},
   "outputs": [],
   "source": [
    "threshold = 70\n",
    "mask_raw = volume > threshold\n",
    "\n",
    "# VolumeVisualizer(mask_raw).visualize()"
   ]
  },
  {
   "cell_type": "code",
   "execution_count": 5,
   "metadata": {},
   "outputs": [],
   "source": [
    "def get_main_regions(binary_mask, min_size=10_000, connectivity=3):\n",
    "    labeled = measure.label(binary_mask, connectivity=connectivity)\n",
    "    region_props = measure.regionprops(labeled)\n",
    "    \n",
    "    main_regions_masks = []\n",
    "    \n",
    "    for props in region_props:\n",
    "        if props.area >= min_size:\n",
    "            main_regions_masks.append((props.filled_image, props.bbox))\n",
    "            \n",
    "    return main_regions_masks\n",
    "\n",
    "def merge_masks(masks, img_shape):\n",
    "    result_mask = np.zeros(img_shape, dtype=np.uint8)\n",
    "    for mask, bbox in masks:\n",
    "        min1, min2, min3, max1, max2, max3 = bbox\n",
    "        result_mask[min1:max1, min2:max2, min3:max3] += mask.astype(np.uint8)\n",
    "        \n",
    "    return result_mask"
   ]
  },
  {
   "cell_type": "code",
   "execution_count": 6,
   "metadata": {},
   "outputs": [
    {
     "name": "stdout",
     "output_type": "stream",
     "text": [
      "CPU times: user 8.74 s, sys: 736 ms, total: 9.48 s\n",
      "Wall time: 9.49 s\n"
     ]
    }
   ],
   "source": [
    "%%time\n",
    "main_regions_masks = get_main_regions(mask_raw, min_size=5_000, connectivity=1)"
   ]
  },
  {
   "cell_type": "code",
   "execution_count": 7,
   "metadata": {},
   "outputs": [],
   "source": [
    "mask = main_regions_masks[0][0]\n",
    "# VolumeVisualizer(mask).visualize()"
   ]
  },
  {
   "cell_type": "markdown",
   "metadata": {},
   "source": [
    "## utility functions"
   ]
  },
  {
   "cell_type": "code",
   "execution_count": 8,
   "metadata": {},
   "outputs": [],
   "source": [
    "def spherical_kernel(outer_radius, thickness=1, filled=True):    \n",
    "    outer_sphere = morphology.ball(radius=outer_radius)\n",
    "    if filled:\n",
    "        return outer_sphere\n",
    "    \n",
    "    inner_radius = outer_radius - thickness\n",
    "    inner_sphere = morphology.ball(radius=inner_radius)\n",
    "    \n",
    "    begin = outer_radius - inner_radius\n",
    "    end = begin + inner_sphere.shape[0]\n",
    "    outer_sphere[begin:end, begin:end, begin:end] -= inner_sphere\n",
    "    return outer_sphere\n",
    "\n",
    "def convolve_with_ball(mask, ball_radius, dtype=np.uint16):\n",
    "    kernel = spherical_kernel(ball_radius, filled=True)\n",
    "    return signal.convolve(mask.astype(dtype), kernel.astype(dtype), mode='same')\n",
    "\n",
    "def get_arterial_regions(conv_img, lower_hyst_fraction, upper_hyst_fraction):\n",
    "    lower_hyst_value = lower_hyst_fraction * conv_img.max()\n",
    "    upper_hyst_value = upper_hyst_fraction * conv_img.max()\n",
    "    return filters.apply_hysteresis_threshold(conv_img, lower_hyst_value, upper_hyst_value)\n",
    "\n",
    "def reconstruct_from_skeleton(skeleton, ball_radius):    \n",
    "    mask = np.zeros(skeleton.shape, dtype=np.uint8)\n",
    "    mask = np.pad(mask, ball_radius)\n",
    "    \n",
    "    kernel = spherical_kernel(ball_radius, filled=True)\n",
    "    central_points = np.argwhere(skeleton == 1)\n",
    "    \n",
    "    for central_point in central_points:\n",
    "        start_corner = tuple(central_point)\n",
    "        end_corner = tuple(central_point + 2*ball_radius + 1)\n",
    "        \n",
    "        start1, start2, start3 = start_corner\n",
    "        end1, end2, end3 = end_corner\n",
    "        \n",
    "        mask_slice = mask[start1:end1, start2:end2, start3:end3]\n",
    "        mask_slice[:] = np.logical_or(mask_slice, kernel)\n",
    "                \n",
    "    return mask[ball_radius:-ball_radius, ball_radius:-ball_radius, ball_radius:-ball_radius]\n",
    "\n",
    "# high level functions\n",
    "\n",
    "def get_tree_core(tree_mask, kernel_radius, max_fraction):\n",
    "    convolved_mask = convolve_with_ball(tree_mask, kernel_radius)\n",
    "    core_voxels = convolved_mask > max_fraction * convolved_mask.max()\n",
    "    core_skeleton = skeletonize_3d(core_voxels.astype(np.uint8))\n",
    "    core_reconstruction = reconstruct_from_skeleton(core_skeleton, kernel_radius)\n",
    "    \n",
    "    return core_reconstruction\n",
    "\n",
    "def expand_tree_reconstruction(tree_mask, reconstruction, kernel_radius, max_fraction):\n",
    "    convolved_mask = convolve_with_ball(tree_mask, kernel_radius)\n",
    "    \n",
    "    kernel_vol = spherical_kernel(kernel_radius).sum()\n",
    "    threshold_value = int(max_fraction * kernel_vol)\n",
    "    \n",
    "    # set current reconstruction to infinity\n",
    "    convolved_mask_with_huge_core = convolved_mask + reconstruction * (kernel_vol + 2)\n",
    "        \n",
    "        \n",
    "    expanded_rec = filters.apply_hysteresis_threshold(convolved_mask_with_huge_core, threshold_value, kernel_vol + 5)\n",
    "    expansion = expanded_rec - reconstruction\n",
    "    \n",
    "    convolved_mask_with_huge_expansion = convolved_mask + expansion * (kernel_vol + 2)\n",
    "    expanded_expansion = filters.apply_hysteresis_threshold(convolved_mask_with_huge_expansion, threshold_value, kernel_vol + 5)\n",
    "    \n",
    "    ee_skeleton = skeletonize_3d(expanded_expansion.astype(np.uint8))\n",
    "    ee_reconstruction = reconstruct_from_skeleton(ee_skeleton, kernel_radius)\n",
    "    \n",
    "    return ee_reconstruction"
   ]
  },
  {
   "cell_type": "code",
   "execution_count": 9,
   "metadata": {},
   "outputs": [
    {
     "name": "stdout",
     "output_type": "stream",
     "text": [
      "CPU times: user 11.1 s, sys: 4.37 s, total: 15.5 s\n",
      "Wall time: 19.4 s\n"
     ]
    }
   ],
   "source": [
    "%%time\n",
    "core_rec = get_tree_core(mask, 15, 0.95)\n",
    "# VolumeVisualizer(np.logical_or(core_rec, mask)).visualize()\n",
    "VolumeVisualizer(core_rec).visualize()"
   ]
  },
  {
   "cell_type": "code",
   "execution_count": 10,
   "metadata": {},
   "outputs": [
    {
     "name": "stdout",
     "output_type": "stream",
     "text": [
      "CPU times: user 12.8 s, sys: 3.64 s, total: 16.5 s\n",
      "Wall time: 21.4 s\n"
     ]
    }
   ],
   "source": [
    "%%time\n",
    "ee = expand_tree_reconstruction(mask, core_rec, kernel_radius=10, max_fraction=0.8)\n",
    "VolumeVisualizer(ee).visualize()"
   ]
  },
  {
   "cell_type": "code",
   "execution_count": 11,
   "metadata": {},
   "outputs": [
    {
     "name": "stdout",
     "output_type": "stream",
     "text": [
      "core is nice\n",
      "iter for 10 ended successfully XD\n",
      "iter for 8 ended successfully XD\n",
      "iter for 7 ended successfully XD\n",
      "iter for 6 ended successfully XD\n",
      "iter for 5 ended successfully XD\n",
      "iter for 5 ended successfully XD\n",
      "iter for 4 ended successfully XD\n",
      "iter for 4 ended successfully XD\n",
      "iter for 4 ended successfully XD\n",
      "iter for 3 ended successfully XD\n",
      "iter for 3 ended successfully XD\n",
      "iter for 3 ended successfully XD\n",
      "iter for 3 ended successfully XD\n",
      "iter for 2 ended successfully XD\n",
      "iter for 2 ended successfully XD\n",
      "iter for 2 ended successfully XD\n",
      "CPU times: user 3min 13s, sys: 34.4 s, total: 3min 47s\n",
      "Wall time: 3min 48s\n"
     ]
    }
   ],
   "source": [
    "%%time\n",
    "\n",
    "rec = get_tree_core(mask, 15, 0.95)\n",
    "total_rec = rec.copy().astype(np.uint8)\n",
    "new_rec = rec.copy()\n",
    "print('core is nice')\n",
    "\n",
    "for i, kernel_radius in enumerate([10, 8, 7, 6, 5, 5, 4, 4, 4, 3, 3, 3, 3, 2, 2, 2]):\n",
    "    new_rec = expand_tree_reconstruction(mask, new_rec, kernel_radius=kernel_radius, max_fraction=0.5)\n",
    "    rec = np.logical_or(rec, new_rec).astype(np.uint8)\n",
    "    \n",
    "    just_expansion = new_rec.copy()\n",
    "    just_expansion[total_rec > 0] = 0\n",
    "    total_rec += just_expansion * (i + 2)\n",
    "    \n",
    "    print('iter for', kernel_radius, 'ended successfully XD')\n",
    "    "
   ]
  },
  {
   "cell_type": "code",
   "execution_count": 19,
   "metadata": {},
   "outputs": [],
   "source": [
    "VolumeVisualizer(rec).visualize()"
   ]
  },
  {
   "cell_type": "code",
   "execution_count": 20,
   "metadata": {},
   "outputs": [],
   "source": [
    "ColorMapVisualizer(total_rec).visualize(interactive=False)"
   ]
  },
  {
   "cell_type": "code",
   "execution_count": 21,
   "metadata": {},
   "outputs": [],
   "source": [
    "ColorMapVisualizer(mask + total_rec).visualize(interactive=True)"
   ]
  },
  {
   "cell_type": "code",
   "execution_count": 15,
   "metadata": {},
   "outputs": [],
   "source": [
    "reconstruction_skeleton = skeletonize_3d(rec)\n",
    "VolumeVisualizer(reconstruction_skeleton).visualize()"
   ]
  },
  {
   "cell_type": "code",
   "execution_count": 22,
   "metadata": {},
   "outputs": [],
   "source": [
    "mask_with_no_skeleton = mask.copy()\n",
    "mask_with_no_skeleton[reconstruction_skeleton == 1] = 0\n",
    "\n",
    "VolumeVisualizer(reconstruction_skeleton.astype(np.uint8) * 2 + mask_with_no_skeleton, binary=False).visualize(primary_color=(1,1,1))"
   ]
  },
  {
   "cell_type": "code",
   "execution_count": 17,
   "metadata": {},
   "outputs": [],
   "source": [
    "VolumeVisualizer(reconstruction_skeleton).visualize()"
   ]
  },
  {
   "cell_type": "code",
   "execution_count": 23,
   "metadata": {},
   "outputs": [],
   "source": [
    "mask_skel = skeletonize_3d(mask.astype(np.uint8))\n",
    "\n",
    "mask_with_no_skeleton = mask.copy()\n",
    "mask_with_no_skeleton[mask_skel == 1] = 0\n",
    "\n",
    "VolumeVisualizer(mask_skel.astype(np.uint8) * 2 + mask_with_no_skeleton, binary=False).visualize(primary_color=(1,1,1))"
   ]
  },
  {
   "cell_type": "code",
   "execution_count": null,
   "metadata": {},
   "outputs": [],
   "source": []
  },
  {
   "cell_type": "code",
   "execution_count": null,
   "metadata": {},
   "outputs": [],
   "source": []
  },
  {
   "cell_type": "code",
   "execution_count": null,
   "metadata": {},
   "outputs": [],
   "source": []
  },
  {
   "cell_type": "code",
   "execution_count": null,
   "metadata": {},
   "outputs": [],
   "source": []
  }
 ],
 "metadata": {
  "kernelspec": {
   "display_name": "Python 3",
   "language": "python",
   "name": "python3"
  },
  "language_info": {
   "codemirror_mode": {
    "name": "ipython",
    "version": 3
   },
   "file_extension": ".py",
   "mimetype": "text/x-python",
   "name": "python",
   "nbconvert_exporter": "python",
   "pygments_lexer": "ipython3",
   "version": "3.7.6"
  }
 },
 "nbformat": 4,
 "nbformat_minor": 4
}
