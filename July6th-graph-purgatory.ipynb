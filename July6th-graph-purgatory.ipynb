{
 "cells": [
  {
   "cell_type": "code",
   "execution_count": 1,
   "metadata": {},
   "outputs": [],
   "source": [
    "import numpy as np\n",
    "import glob\n",
    "import matplotlib.pyplot as plt\n",
    "import cv2\n",
    "from skimage import measure, segmentation, feature\n",
    "from vis_utils import load_volume, VolumeVisualizer, ColorMapVisualizer\n",
    "from scipy.ndimage import zoom\n",
    "from skimage.morphology import skeletonize, skeletonize_3d, binary_dilation\n",
    "\n",
    "from skimage import filters, morphology\n",
    "\n",
    "from scipy.ndimage.filters import convolve, correlate\n",
    "from scipy import signal\n",
    "\n",
    "from skimage.filters import frangi, sato\n",
    "from skimage.draw import line_nd\n",
    "\n",
    "from PIL import Image\n",
    "import pickle"
   ]
  },
  {
   "cell_type": "code",
   "execution_count": 2,
   "metadata": {
    "scrolled": true
   },
   "outputs": [],
   "source": [
    "source_dir = './data/P12/'\n",
    "skeleton = np.load(source_dir + 'skeleton.npy')\n",
    "thiccness_map = np.load(source_dir + 'thiccness-map.npy')\n",
    "\n",
    "# !!!!!!!!!!!!!!!!!!!!!!!!!!!!!!!!!!!!!!!!!!!!!!!!!!!!!!!!!!!!\n",
    "skeleton = np.pad(skeleton, 1)\n",
    "thiccness_map = np.pad(thiccness_map, 1)"
   ]
  },
  {
   "cell_type": "code",
   "execution_count": 3,
   "metadata": {},
   "outputs": [],
   "source": [
    "def visualize_addition(base, base_with_addition):\n",
    "    base = (base.copy() > 0).astype(np.uint8)\n",
    "    addition = (base_with_addition > 0).astype(np.uint8)\n",
    "    addition[base == 1] = 0\n",
    "    ColorMapVisualizer(base + addition * 4).visualize()\n",
    "    \n",
    "def visualize_lsd(lsd_mask):\n",
    "    ColorMapVisualizer(lsd_mask.astype(np.uint8)).visualize()\n",
    "    \n",
    "def visualize_gradient(lsd_mask):\n",
    "    ColorMapVisualizer(lsd_mask.astype(np.uint8)).visualize(gradient=True)\n",
    "    \n",
    "def visualize_mask_bin(mask):\n",
    "    VolumeVisualizer((mask > 0).astype(np.uint8), binary=True).visualize()\n",
    "    \n",
    "def visualize_mask_non_bin(mask):\n",
    "    VolumeVisualizer((mask > 0).astype(np.uint8) * 255, binary=False).visualize()\n",
    "    \n",
    "def visualize_skeleton(mask, visualize_mask=True, visualize_both_versions=False):\n",
    "    skeleton = skeletonize((mask > 0).astype(np.uint8))\n",
    "    if not visualize_mask or visualize_both_versions:\n",
    "        VolumeVisualizer(skeleton, binary=True).visualize()\n",
    "    if visualize_mask or visualize_both_versions:\n",
    "        skeleton = skeleton.astype(np.uint8) * 4\n",
    "        mask = (mask > 0).astype(np.uint8) * 3\n",
    "        mask[skeleton != 0] = 0\n",
    "        ColorMapVisualizer(skeleton + mask).visualize()\n",
    "\n",
    "def visualize_ultimate(lsd, base_mask):\n",
    "    visualize_lsd(lsd)\n",
    "    visualize_mask_non_bin(lsd)\n",
    "    visualize_addition(base_mask, lsd)\n",
    "    visualize_skeleton(lsd, visualize_mask=True)"
   ]
  },
  {
   "cell_type": "code",
   "execution_count": 4,
   "metadata": {},
   "outputs": [],
   "source": [
    "def trim_skeleton(skeleton):   \n",
    "    # TODO: fix wczesniejszych skeletonow !!!!!!!!!!!!!!!!!!!!!!!!!!!!!!!!TODOTODOTODOTODOTODOTODOTODOTODOTODOTODOTODOTO\n",
    "    padded_skeleton = np.pad(skeleton, 1)\n",
    "    new_skeleton = np.zeros(padded_skeleton.shape)\n",
    "    queue = [tuple(np.argwhere(padded_skeleton)[0])]\n",
    "    \n",
    "    while(len(queue) > 0):\n",
    "        x, y, z = queue.pop(0)\n",
    "        \n",
    "        for dx in [-1, 0, 1]:\n",
    "            for dy in [-1, 0, 1]:\n",
    "                for dz in [-1, 0, 1]:\n",
    "                    if dx == dy == dz == 0:\n",
    "                        continue\n",
    "                    \n",
    "                    neighbour_x = x + dx\n",
    "                    neighbour_y = y + dy\n",
    "                    neighbour_z = z + dz\n",
    "                    if padded_skeleton[neighbour_x, neighbour_y, neighbour_z] == 0:\n",
    "                        continue\n",
    "                        \n",
    "                    if new_skeleton[neighbour_x, neighbour_y, neighbour_z] == 0:\n",
    "                        queue.append((neighbour_x, neighbour_y, neighbour_z))\n",
    "                        new_skeleton[neighbour_x, neighbour_y, neighbour_z] += 1;\n",
    "                        new_skeleton[x, y, z] += 1\n",
    "                        \n",
    "    return (new_skeleton[1:-1, 1:-1, 1:-1] > 1).astype(np.uint8)\n",
    "\n",
    "\n",
    "\n",
    "def mark_bifurcation_regions(skeleton):\n",
    "    \n",
    "    padded_skeleton = np.pad(skeleton, 1)\n",
    "    bifurcations_map = np.zeros(padded_skeleton.shape)\n",
    "    \n",
    "    for skeleton_voxel in np.argwhere(padded_skeleton > 0):\n",
    "        x, y, z = tuple(skeleton_voxel)\n",
    "        kernel_radius = 1\n",
    "        kernel = np.ones((3, 3, 3))\n",
    "        kernel[1, 1, 1] = 0\n",
    "        \n",
    "        skeleton_slice = padded_skeleton[\n",
    "            x-kernel_radius:x+kernel_radius + 1,\n",
    "            y-kernel_radius:y+kernel_radius + 1,\n",
    "            z-kernel_radius:z+kernel_radius + 1\n",
    "        ]\n",
    "        \n",
    "        intersections = (skeleton_slice > 0) * kernel\n",
    "        bifurcations_map[x, y, z] = np.sum(intersections)\n",
    "        \n",
    "    return (bifurcations_map[1:-1, 1:-1, 1:-1] > 2).astype(np.uint8)\n",
    "\n",
    "def mark_leaves(skeleton):\n",
    "    trimmed = trim_skeleton(skeleton)\n",
    "    leaves = skeleton - trimmed\n",
    "    return leaves\n",
    "\n",
    "def mark_nodes(skeleton):\n",
    "    bifurcation_map = mark_bifurcation_regions(skeleton)\n",
    "    leaves_map = mark_leaves(skeleton)\n",
    "    return bifurcation_map + leaves_map"
   ]
  },
  {
   "cell_type": "code",
   "execution_count": 67,
   "metadata": {},
   "outputs": [],
   "source": [
    "class Node:\n",
    "    def __init__(self, coords):\n",
    "        self.coords = coords\n",
    "        self.edges = []\n",
    "        self.data = {}\n",
    "            \n",
    "    def add_edge(self, edge):\n",
    "        self.edges.append(edge)\n",
    "        \n",
    "    def get_neighbours(self):\n",
    "        return [e.node_a if e.node_a != self else e.node_b for e in self.edges]\n",
    "    \n",
    "    def copy_without_edges(self):\n",
    "        copied_node = Node(self.coords)\n",
    "        copied_node.data = self.data\n",
    "        return copied_node\n",
    "    \n",
    "    def __setitem__(self, key, value):\n",
    "        self.data[key] = value\n",
    "    \n",
    "    def __getitem__(self, key):\n",
    "        return self.data[key]\n",
    "    \n",
    "    def __hash__(self):\n",
    "        return hash(self.coords)\n",
    "    \n",
    "    def __repr__(self):\n",
    "        return f'Node {str(self.coords)}'\n",
    "        \n",
    "class Edge:\n",
    "    def __init__(self, node_a, node_b):\n",
    "        self.node_a = node_a\n",
    "        self.node_b = node_b\n",
    "        self.data = {}\n",
    "        \n",
    "    def __setitem__(self, key, value):\n",
    "        self.data[key] = value\n",
    "    \n",
    "    def __getitem__(self, key):\n",
    "        return self.data[key]\n",
    "    \n",
    "    def __repr__(self):\n",
    "        return f'Edge {self.node_a.coords} -> {self.node_b.coords}'"
   ]
  },
  {
   "cell_type": "code",
   "execution_count": 69,
   "metadata": {},
   "outputs": [],
   "source": [
    "def construct_graph(skeleton, nodes_mask, thiccness_map):\n",
    "    nodes_labels = measure.label(nodes_mask)\n",
    "    nodes_props = measure.regionprops(nodes_labels)\n",
    "    print('nodes found (regions on nodes mask):', nodes_labels.max())\n",
    "    voxel_to_node = dict()\n",
    "    \n",
    "    for props in nodes_props:\n",
    "        if props.label < 1:\n",
    "            continue\n",
    "            \n",
    "        node = Node(tuple(props.coords[0]))\n",
    "        node['voxels'] = props.coords\n",
    "        node['label'] = props.label\n",
    "        node['thiccness'] = thiccness_map[tuple(props.coords[0])]\n",
    "        \n",
    "        for c in props.coords:\n",
    "            voxel_to_node[tuple(c)] = node\n",
    "            \n",
    "    edges_mask = skeleton - nodes_mask\n",
    "    edges_labels = measure.label(edges_mask > 0)\n",
    "    print('edges found:', edges_labels.max())\n",
    "    \n",
    "    visited = np.zeros(skeleton.shape, dtype=np.bool)\n",
    "    \n",
    "    def find_touching_nodes(source_voxel):\n",
    "        touching_nodes = set()\n",
    "        queue = [source_voxel]\n",
    "        while len(queue) > 0:\n",
    "            x, y, z = queue.pop(0)\n",
    "            \n",
    "            for dx in [-1, 0, 1]:\n",
    "                for dy in [-1, 0, 1]:\n",
    "                    for dz in [-1, 0, 1]:\n",
    "                        if dx == dy == dz == 0:\n",
    "                            continue\n",
    "\n",
    "                        neighbour_x = x + dx\n",
    "                        neighbour_y = y + dy\n",
    "                        neighbour_z = z + dz\n",
    "                        if visited[neighbour_x, neighbour_y, neighbour_z]:\n",
    "                            continue\n",
    "                            \n",
    "                        potential_node = voxel_to_node.get((neighbour_x, neighbour_y, neighbour_z))\n",
    "                        if potential_node is not None:\n",
    "                            touching_nodes.add(potential_node)\n",
    "\n",
    "                        if edges_mask[neighbour_x, neighbour_y, neighbour_z] == 1:\n",
    "                            queue.append((neighbour_x, neighbour_y, neighbour_z))\n",
    "                            visited[neighbour_x, neighbour_y, neighbour_z] = True\n",
    "        return list(touching_nodes)\n",
    "       \n",
    "        \n",
    "    edges_props = measure.regionprops(edges_labels)\n",
    "    \n",
    "    edges = []\n",
    "    bad_edges = []\n",
    "    for props in edges_props:\n",
    "        edge_voxel = props.coords[0]\n",
    "        touching_nodes = find_touching_nodes(edge_voxel)\n",
    "        if len(touching_nodes) != 2:\n",
    "            print(f'bad edge found! touching nodes count: {len(touching_nodes)}')\n",
    "            bad_edges.append(props.coords)\n",
    "            continue\n",
    "            \n",
    "        edge = Edge(touching_nodes[0], touching_nodes[1])\n",
    "        edge['voxels'] = props.coords\n",
    "        edges.append(edge)\n",
    "    return edges, bad_edges"
   ]
  },
  {
   "cell_type": "code",
   "execution_count": 70,
   "metadata": {},
   "outputs": [],
   "source": [
    "bifurcations_mask = mark_bifurcation_regions(skeleton)\n",
    "leaves_mask = mark_leaves(skeleton)\n",
    "nodes_mask = ((bifurcations_mask + leaves_mask) > 0).astype(np.uint8)"
   ]
  },
  {
   "cell_type": "code",
   "execution_count": 71,
   "metadata": {},
   "outputs": [
    {
     "name": "stdout",
     "output_type": "stream",
     "text": [
      "nodes found (regions on nodes mask): 2300\n",
      "edges found: 2338\n",
      "bad edge found! touching nodes count: 1\n",
      "bad edge found! touching nodes count: 1\n",
      "bad edge found! touching nodes count: 1\n",
      "bad edge found! touching nodes count: 1\n",
      "bad edge found! touching nodes count: 1\n",
      "bad edge found! touching nodes count: 1\n",
      "bad edge found! touching nodes count: 1\n",
      "Number of bad edged found: 7\n",
      "CPU times: user 5.96 s, sys: 424 ms, total: 6.39 s\n",
      "Wall time: 6.36 s\n"
     ]
    }
   ],
   "source": [
    "%%time\n",
    "edges, bad_edges = construct_graph(skeleton, nodes_mask, thiccness_map)\n",
    "print(\"Number of bad edged found:\", len(bad_edges))"
   ]
  },
  {
   "cell_type": "code",
   "execution_count": 72,
   "metadata": {},
   "outputs": [],
   "source": [
    "skeleton_without_bad_edges = skeleton.copy()\n",
    "for bad_edge in bad_edges:\n",
    "    for coords in bad_edge:\n",
    "        skeleton_without_bad_edges[tuple(coords)] = 0\n",
    "# visualize_addition(skeleton_without_bad_edges, skeleton)"
   ]
  },
  {
   "cell_type": "markdown",
   "metadata": {},
   "source": [
    "## Graph purification"
   ]
  },
  {
   "cell_type": "code",
   "execution_count": 78,
   "metadata": {},
   "outputs": [],
   "source": [
    "def remove_redundant_edges(edges):\n",
    "    def universal_hash(node_a, node_b):\n",
    "        hash_a = hash(node_a)\n",
    "        hash_b = hash(node_b)\n",
    "        if hash_a < hash_b:\n",
    "            return hash((hash_a, hash_b))\n",
    "\n",
    "        return hash((hash_b, hash_a))\n",
    "\n",
    "    edges_dict = {}\n",
    "    \n",
    "    for e in edges:\n",
    "        edge_hash = universal_hash(e.node_a, e.node_b)\n",
    "        edges_dict[edge_hash] = e\n",
    "        \n",
    "    return list(edges_dict.values())\n",
    "\n",
    "def convert_to_nodes_list(edges):\n",
    "    nodes = {}\n",
    "    for e in edges:\n",
    "        nodes[e.node_a] = e.node_a.copy_without_edges()\n",
    "        nodes[e.node_b] = e.node_b.copy_without_edges()\n",
    "        \n",
    "    for e in edges:\n",
    "        nodes[e.node_a].add_edge(e)\n",
    "        nodes[e.node_b].add_edge(e)\n",
    "        \n",
    "    return list(nodes.values())\n",
    "\n",
    "def get_proper_nodes_mask(nodes, shape):\n",
    "    # removes nodes with degree of 2\n",
    "    proper_nodes = [node for node in nodes if len(node.edges) != 2]\n",
    "    print('Number of proper nodes found', len(proper_nodes))\n",
    "    proper_nodes_mask = np.zeros(shape, dtype=np.uint8)\n",
    "    for node in proper_nodes:\n",
    "        for voxel in node['voxels']:\n",
    "            proper_nodes_mask[tuple(voxel)] = 1\n",
    "    return proper_nodes_mask, len(proper_nodes)"
   ]
  },
  {
   "cell_type": "code",
   "execution_count": 79,
   "metadata": {},
   "outputs": [],
   "source": [
    "def remove_redundant_nodes(edges, skeleton_without_bad_edges, thiccness_map):\n",
    "    iterations_count = 0    \n",
    "    \n",
    "    while True:\n",
    "        edges_without_redundancies = remove_redundant_edges(edges)\n",
    "        nodes = convert_to_nodes_list(edges_without_redundancies)\n",
    "        proper_nodes_mask, proper_nodes_count = get_proper_nodes_mask(nodes, skeleton_without_bad_edges.shape)\n",
    "        if len(nodes) == proper_nodes_count:\n",
    "            break\n",
    "        \n",
    "        edges, graph_bad_edges = construct_graph(\n",
    "            skeleton_without_bad_edges, proper_nodes_mask, thiccness_map)\n",
    "        if len(graph_bad_edges) != 0:\n",
    "            raise Exception(\"Something went wrong, new bad edges were found ;_;\")\n",
    "        \n",
    "        iterations_count += 1\n",
    "        print('Iteration', iterations_count, 'done, nodes removed', len(nodes) - proper_nodes_count)\n",
    "                \n",
    "    return nodes, edges_without_redundancies"
   ]
  },
  {
   "cell_type": "code",
   "execution_count": 80,
   "metadata": {
    "scrolled": true
   },
   "outputs": [
    {
     "name": "stdout",
     "output_type": "stream",
     "text": [
      "Number of proper nodes found 2251\n",
      "nodes found (regions on nodes mask): 2251\n",
      "edges found: 2280\n",
      "Iteration 1 done, nodes removed 49\n",
      "Number of proper nodes found 2251\n"
     ]
    },
    {
     "data": {
      "text/plain": [
       "2278"
      ]
     },
     "execution_count": 80,
     "metadata": {},
     "output_type": "execute_result"
    }
   ],
   "source": [
    "nodes, new_edges = remove_redundant_nodes(edges, skeleton_without_bad_edges, thiccness_map)\n",
    "len(new_edges)"
   ]
  },
  {
   "cell_type": "code",
   "execution_count": 95,
   "metadata": {},
   "outputs": [],
   "source": [
    "def find_tree_root(nodes, root_degree):\n",
    "    proper_degree_nodes = [node for node in nodes if len(node.edges) == root_degree]\n",
    "    root_thickness = max(map(lambda node: node['thiccness'], proper_degree_nodes))\n",
    "    root_candidates = [node for node in proper_degree_nodes if node['thiccness'] == root_thickness]\n",
    "    return root_candidates"
   ]
  },
  {
   "cell_type": "code",
   "execution_count": 97,
   "metadata": {},
   "outputs": [
    {
     "name": "stdout",
     "output_type": "stream",
     "text": [
      "number of candidates for root found 1\n"
     ]
    },
    {
     "data": {
      "text/plain": [
       "[Node (395, 79, 279)]"
      ]
     },
     "execution_count": 97,
     "metadata": {},
     "output_type": "execute_result"
    }
   ],
   "source": [
    "root_candidates = find_tree_root(nodes, 1)\n",
    "print('number of candidates for root found', len(root_candidates))\n",
    "root_candidates"
   ]
  },
  {
   "cell_type": "code",
   "execution_count": 118,
   "metadata": {},
   "outputs": [],
   "source": [
    "def spherical_kernel(outer_radius, thickness=1, filled=True):    \n",
    "    outer_sphere = morphology.ball(radius=outer_radius)\n",
    "    if filled:\n",
    "        return outer_sphere\n",
    "    \n",
    "    thickness = min(thickness, outer_radius)\n",
    "    \n",
    "    inner_radius = outer_radius - thickness\n",
    "    inner_sphere = morphology.ball(radius=inner_radius)\n",
    "    \n",
    "    begin = outer_radius - inner_radius\n",
    "    end = begin + inner_sphere.shape[0]\n",
    "    outer_sphere[begin:end, begin:end, begin:end] -= inner_sphere\n",
    "    return outer_sphere\n",
    "\n",
    "def print_kernels(image, nodes, value):\n",
    "    image = image.copy()\n",
    "    max_kernel_radius = int(max([node['thiccness'] for node in nodes]))\n",
    "    kernels = [spherical_kernel(radius) for radius in range(max_kernel_radius + 1)]\n",
    "    \n",
    "    padded_image = np.pad(image, max_kernel_radius)\n",
    "    kernels_image = np.zeros(padded_image.shape)\n",
    "    \n",
    "    for node in nodes:\n",
    "        x, y, z = (coord + max_kernel_radius for coord in node.coords)\n",
    "        kernel_radius = int(node['thiccness'])\n",
    "        kernel = kernels[kernel_radius]\n",
    "        \n",
    "        mask_slice = kernels_image[\n",
    "            x-kernel_radius:x+kernel_radius + 1,\n",
    "            y-kernel_radius:y+kernel_radius + 1,\n",
    "            z-kernel_radius:z+kernel_radius + 1\n",
    "        ]\n",
    "        \n",
    "        mask_slice[:] = np.logical_or(mask_slice, kernel)\n",
    "            \n",
    "    kernels_image = kernels_image[\n",
    "        max_kernel_radius:-max_kernel_radius,\n",
    "        max_kernel_radius:-max_kernel_radius,\n",
    "        max_kernel_radius:-max_kernel_radius\n",
    "    ]\n",
    "    \n",
    "    image[kernels_image == 1] = value\n",
    "    return image\n",
    "\n",
    "def visualise_nodes(image, nodes, value=2):\n",
    "    nodes_image = print_kernels(image, nodes, value)\n",
    "    visualize_lsd(nodes_image)"
   ]
  },
  {
   "cell_type": "code",
   "execution_count": 119,
   "metadata": {},
   "outputs": [],
   "source": [
    "visualise_nodes(skeleton, root_candidates)"
   ]
  },
  {
   "cell_type": "code",
   "execution_count": 124,
   "metadata": {},
   "outputs": [],
   "source": [
    "all_nodes_skeleton = print_kernels(skeleton, nodes, 2)\n",
    "all_nodes_with_root_skeleton = print_kernels(all_nodes_skeleton, root_candidates, 3)\n",
    "visualize_lsd(all_nodes_with_root_skeleton)"
   ]
  },
  {
   "cell_type": "markdown",
   "metadata": {},
   "source": [
    "### remove cycles"
   ]
  },
  {
   "cell_type": "code",
   "execution_count": null,
   "metadata": {},
   "outputs": [],
   "source": []
  },
  {
   "cell_type": "code",
   "execution_count": null,
   "metadata": {},
   "outputs": [],
   "source": []
  },
  {
   "cell_type": "markdown",
   "metadata": {},
   "source": [
    "### one more purge after removing cycles"
   ]
  },
  {
   "cell_type": "code",
   "execution_count": null,
   "metadata": {},
   "outputs": [],
   "source": []
  },
  {
   "cell_type": "code",
   "execution_count": null,
   "metadata": {},
   "outputs": [],
   "source": []
  },
  {
   "cell_type": "code",
   "execution_count": null,
   "metadata": {},
   "outputs": [],
   "source": []
  },
  {
   "cell_type": "markdown",
   "metadata": {},
   "source": [
    "## graph visualization"
   ]
  },
  {
   "cell_type": "code",
   "execution_count": 29,
   "metadata": {},
   "outputs": [],
   "source": [
    "def draw_graph(edges, shape='auto', lsd=False):\n",
    "    if shape == 'auto':\n",
    "        max_x, max_y, max_z = (0, 0, 0)\n",
    "        for i, edge in enumerate(edges):\n",
    "            max_x, max_y, max_z = tuple(np.maximum([max_x, max_y, max_z], edge.node_a.coords))\n",
    "            max_x, max_y, max_z = tuple(np.maximum([max_x, max_y, max_z], edge.node_b.coords))\n",
    "        shape = (max_x + 1, max_y + 1, max_z + 1)\n",
    "\n",
    "    graph = np.zeros(shape)\n",
    "\n",
    "    for i, edge in enumerate(edges):\n",
    "        graph[line_nd(edge.node_a.coords, edge.node_b.coords)] = i\n",
    "        \n",
    "    return graph if lsd else graph > 0"
   ]
  },
  {
   "cell_type": "code",
   "execution_count": 30,
   "metadata": {},
   "outputs": [],
   "source": [
    "graph = draw_graph(edges, shape = skeleton.shape)"
   ]
  },
  {
   "cell_type": "code",
   "execution_count": 13,
   "metadata": {},
   "outputs": [],
   "source": [
    "visualize_mask_bin(graph)"
   ]
  },
  {
   "cell_type": "code",
   "execution_count": 31,
   "metadata": {},
   "outputs": [],
   "source": [
    "def get_main_regions(binary_mask, min_size=10_000, connectivity=3):\n",
    "    labeled = measure.label(binary_mask, connectivity=connectivity)\n",
    "    region_props = measure.regionprops(labeled)\n",
    "    \n",
    "    main_regions_masks = []\n",
    "    regions_labels = []\n",
    "    bounding_boxes = []\n",
    "    \n",
    "    for props in region_props:\n",
    "        if props.area >= min_size:\n",
    "            main_regions_masks.append(props.filled_image)\n",
    "            regions_labels.append(props.label)\n",
    "            bounding_boxes.append(props.bbox)\n",
    "            \n",
    "    return main_regions_masks, regions_labels, bounding_boxes\n",
    "\n",
    "volume = np.pad(load_volume('./data/P12/P12_60um_1333x443x864.raw', scale=0.5), 1)\n",
    "volume = volume > 70\n",
    "main_regions = get_main_regions(volume)\n",
    "mask_main = np.pad(main_regions[0][0].astype(np.uint8), 1)"
   ]
  },
  {
   "cell_type": "code",
   "execution_count": 32,
   "metadata": {},
   "outputs": [],
   "source": [
    "visualize_addition(graph, mask_main)"
   ]
  },
  {
   "cell_type": "code",
   "execution_count": 35,
   "metadata": {},
   "outputs": [],
   "source": []
  },
  {
   "cell_type": "code",
   "execution_count": null,
   "metadata": {},
   "outputs": [],
   "source": []
  }
 ],
 "metadata": {
  "kernelspec": {
   "display_name": "Python 3",
   "language": "python",
   "name": "python3"
  },
  "language_info": {
   "codemirror_mode": {
    "name": "ipython",
    "version": 3
   },
   "file_extension": ".py",
   "mimetype": "text/x-python",
   "name": "python",
   "nbconvert_exporter": "python",
   "pygments_lexer": "ipython3",
   "version": "3.7.6"
  }
 },
 "nbformat": 4,
 "nbformat_minor": 4
}
