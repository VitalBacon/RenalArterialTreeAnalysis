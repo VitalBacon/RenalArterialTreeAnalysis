{
 "cells": [
  {
   "cell_type": "code",
   "execution_count": 1,
   "metadata": {},
   "outputs": [],
   "source": [
    "import numpy as np\n",
    "import glob\n",
    "import matplotlib.pyplot as plt\n",
    "import cv2\n",
    "import pickle\n",
    "from skimage import measure, segmentation, feature\n",
    "from vis_utils import load_volume, VolumeVisualizer, ColorMapVisualizer\n",
    "from scipy.ndimage import zoom\n",
    "from skimage.morphology import skeletonize, skeletonize_3d, binary_dilation\n",
    "from skimage import filters, morphology\n",
    "from scipy.ndimage.filters import convolve, correlate\n",
    "from scipy import signal\n",
    "from skimage.filters import frangi, sato\n",
    "from PIL import Image"
   ]
  },
  {
   "cell_type": "code",
   "execution_count": 2,
   "metadata": {},
   "outputs": [],
   "source": [
    "TREE_NAME = 'P12'"
   ]
  },
  {
   "cell_type": "markdown",
   "metadata": {},
   "source": [
    "## Loading specimen volume"
   ]
  },
  {
   "cell_type": "code",
   "execution_count": 3,
   "metadata": {
    "scrolled": true
   },
   "outputs": [
    {
     "data": {
      "text/plain": [
       "{'P01': './data/P01/P01_60um_1612x623x1108.raw',\n",
       " 'P04': './data/P04/P04_60um_1273x466x1045.raw',\n",
       " 'P11': './data/P11/P11_60um_1735x595x1150.raw',\n",
       " 'P12': './data/P12/P12_60um_1333x443x864.raw'}"
      ]
     },
     "execution_count": 3,
     "metadata": {},
     "output_type": "execute_result"
    }
   ],
   "source": [
    "source_dir = './data/'\n",
    "files = {path.split('/')[2]: path for path in sorted(glob.glob(source_dir + '*/*.raw'))}\n",
    "files"
   ]
  },
  {
   "cell_type": "code",
   "execution_count": 4,
   "metadata": {},
   "outputs": [
    {
     "name": "stdout",
     "output_type": "stream",
     "text": [
      "(432, 222, 666)\n",
      "CPU times: user 4.1 s, sys: 960 ms, total: 5.06 s\n",
      "Wall time: 13.1 s\n"
     ]
    }
   ],
   "source": [
    "%%time\n",
    "\n",
    "scales = {\n",
    "    'P04': 0.5,\n",
    "    'P11': 0.5,\n",
    "    'P12': 0.5,\n",
    "}\n",
    "\n",
    "volume = load_volume(files[TREE_NAME], scale=scales.get(TREE_NAME, 0.5))\n",
    "print(volume.shape)\n",
    "VolumeVisualizer(volume, binary=False).visualize()"
   ]
  },
  {
   "cell_type": "markdown",
   "metadata": {},
   "source": [
    "## Utility visualisation functions"
   ]
  },
  {
   "cell_type": "code",
   "execution_count": 5,
   "metadata": {},
   "outputs": [],
   "source": [
    "def visualize_addition(base, base_with_addition):\n",
    "    base = (base.copy() > 0).astype(np.uint8)\n",
    "    addition = (base_with_addition > 0).astype(np.uint8)\n",
    "    addition[base == 1] = 0\n",
    "    ColorMapVisualizer(base + addition * 4).visualize()\n",
    "    \n",
    "def visualize_lsd(lsd_mask):\n",
    "    ColorMapVisualizer(lsd_mask.astype(np.uint8)).visualize()\n",
    "    \n",
    "def visualize_gradient(lsd_mask):\n",
    "    ColorMapVisualizer(lsd_mask.astype(np.uint8)).visualize(gradient=True)\n",
    "    \n",
    "def visualize_mask_bin(mask):\n",
    "    VolumeVisualizer((mask > 0).astype(np.uint8), binary=True).visualize()\n",
    "    \n",
    "def visualize_mask_non_bin(mask):\n",
    "    VolumeVisualizer((mask > 0).astype(np.uint8) * 255, binary=False).visualize()\n",
    "    \n",
    "def visualize_skeleton(mask, visualize_mask=True, visualize_both_versions=False):\n",
    "    skeleton = skeletonize((mask > 0).astype(np.uint8))\n",
    "    if not visualize_mask or visualize_both_versions:\n",
    "        VolumeVisualizer(skeleton, binary=True).visualize()\n",
    "    if visualize_mask or visualize_both_versions:\n",
    "        skeleton = skeleton.astype(np.uint8) * 4\n",
    "        mask = (mask > 0).astype(np.uint8) * 3\n",
    "        mask[skeleton != 0] = 0\n",
    "        ColorMapVisualizer(skeleton + mask).visualize()\n",
    "\n",
    "def visualize_ultimate(lsd, base_mask):\n",
    "    visualize_lsd(lsd)\n",
    "    visualize_mask_non_bin(lsd)\n",
    "    visualize_addition(base_mask, lsd)\n",
    "    visualize_skeleton(lsd, visualize_mask=True)"
   ]
  },
  {
   "cell_type": "markdown",
   "metadata": {},
   "source": [
    "## Thresholding volume to get binary mask"
   ]
  },
  {
   "cell_type": "code",
   "execution_count": 6,
   "metadata": {},
   "outputs": [],
   "source": [
    "thresholds = {\n",
    "    'P04': 30,\n",
    "    'P11': 100, # 40 to get whole tree \n",
    "    'P12': 70,\n",
    "}\n",
    "\n",
    "mask = volume > thresholds[TREE_NAME]\n",
    "volume = None\n",
    "visualize_mask_bin(mask)"
   ]
  },
  {
   "cell_type": "markdown",
   "metadata": {},
   "source": [
    "## Extracting main region "
   ]
  },
  {
   "cell_type": "code",
   "execution_count": 7,
   "metadata": {},
   "outputs": [],
   "source": [
    "def get_main_regions(binary_mask, min_size=10_000, connectivity=3):\n",
    "    labeled = measure.label(binary_mask, connectivity=connectivity)\n",
    "    region_props = measure.regionprops(labeled)\n",
    "    \n",
    "    main_regions_masks = []\n",
    "    regions_labels = []\n",
    "    bounding_boxes = []\n",
    "    \n",
    "    for props in region_props:\n",
    "        if props.area >= min_size:\n",
    "            main_regions_masks.append(props.filled_image)\n",
    "            regions_labels.append(props.label)\n",
    "            bounding_boxes.append(props.bbox)\n",
    "            \n",
    "    return main_regions_masks, regions_labels, bounding_boxes"
   ]
  },
  {
   "cell_type": "code",
   "execution_count": 8,
   "metadata": {},
   "outputs": [
    {
     "name": "stdout",
     "output_type": "stream",
     "text": [
      "number of main regions: 1 \n"
     ]
    }
   ],
   "source": [
    "main_region_min_size = {\n",
    "    'P04': 10_000,\n",
    "    'P11': 10_000,\n",
    "    'P12': 10_000,\n",
    "}\n",
    "\n",
    "main_regions, _, _ = get_main_regions(mask, min_size=main_region_min_size.get(TREE_NAME, 10_000))\n",
    "print('number of main regions:', len(main_regions), f'{\"PANIC!!!\" if len(main_regions) > 1 else \"\"}')\n",
    "mask_main = main_regions[0].astype(np.uint8)\n",
    "mask = None\n",
    "main_regions = None\n",
    "visualize_mask_bin(mask_main)"
   ]
  },
  {
   "cell_type": "markdown",
   "metadata": {},
   "source": [
    "## Filling holes in the mask to get rid of mistletoes in skeleton"
   ]
  },
  {
   "cell_type": "code",
   "execution_count": 9,
   "metadata": {},
   "outputs": [],
   "source": [
    "def spherical_kernel(outer_radius, thickness=1, filled=True):    \n",
    "    outer_sphere = morphology.ball(radius=outer_radius)\n",
    "    if filled:\n",
    "        return outer_sphere\n",
    "    \n",
    "    thickness = min(thickness, outer_radius)\n",
    "    \n",
    "    inner_radius = outer_radius - thickness\n",
    "    inner_sphere = morphology.ball(radius=inner_radius)\n",
    "    \n",
    "    begin = outer_radius - inner_radius\n",
    "    end = begin + inner_sphere.shape[0]\n",
    "    outer_sphere[begin:end, begin:end, begin:end] -= inner_sphere\n",
    "    return outer_sphere\n",
    "\n",
    "def convolve_with_ball(img, ball_radius, dtype=np.uint16, normalize=True):\n",
    "    kernel = spherical_kernel(ball_radius, filled=True)\n",
    "    convolved = signal.convolve(img.astype(dtype), kernel.astype(dtype), mode='same')\n",
    "    \n",
    "    if not normalize:\n",
    "        return convolved\n",
    "    \n",
    "    return (convolved / kernel.sum()).astype(np.float16)\n",
    "\n",
    "def annihilate_jemiolas(mask, kernel_sizes=[10, 9, 8], fill_threshold=0.5, iters=1, conv_dtype=np.uint16):\n",
    "    kernel_sizes_maps = []\n",
    "    mask = mask.astype(np.uint8)\n",
    "    \n",
    "    for i in range(iters):\n",
    "        kernel_size_map = np.zeros(mask.shape, dtype=np.uint8)\n",
    "\n",
    "        for kernel_size in kernel_sizes:\n",
    "            fill_percentage = convolve_with_ball(mask, kernel_size, dtype=conv_dtype, normalize=True)\n",
    "            \n",
    "            above_threshold_fill_indices = fill_percentage > fill_threshold\n",
    "            kernel_size_map[above_threshold_fill_indices] = kernel_size + 1\n",
    "\n",
    "            mask[above_threshold_fill_indices] = 1\n",
    "            \n",
    "            print(f'Iteration {i + 1} kernel {kernel_size} done')\n",
    "\n",
    "        kernel_sizes_maps.append(kernel_size_map)\n",
    "        print(f'Iteration {i + 1} ended successfully')\n",
    "\n",
    "    return kernel_sizes_maps"
   ]
  },
  {
   "cell_type": "code",
   "execution_count": 10,
   "metadata": {
    "scrolled": false
   },
   "outputs": [
    {
     "name": "stdout",
     "output_type": "stream",
     "text": [
      "Iteration 1 kernel 0 done\n",
      "Iteration 1 kernel 1 done\n",
      "Iteration 1 kernel 2 done\n",
      "Iteration 1 kernel 3 done\n",
      "Iteration 1 kernel 4 done\n",
      "Iteration 1 kernel 5 done\n",
      "Iteration 1 kernel 6 done\n",
      "Iteration 1 kernel 7 done\n",
      "Iteration 1 kernel 8 done\n",
      "Iteration 1 kernel 9 done\n",
      "Iteration 1 kernel 10 done\n",
      "Iteration 1 kernel 11 done\n",
      "Iteration 1 kernel 12 done\n",
      "Iteration 1 ended successfully\n",
      "Iteration 2 kernel 0 done\n",
      "Iteration 2 kernel 1 done\n",
      "Iteration 2 kernel 2 done\n",
      "Iteration 2 kernel 3 done\n",
      "Iteration 2 kernel 4 done\n",
      "Iteration 2 kernel 5 done\n",
      "Iteration 2 kernel 6 done\n",
      "Iteration 2 kernel 7 done\n",
      "Iteration 2 kernel 8 done\n",
      "Iteration 2 kernel 9 done\n",
      "Iteration 2 kernel 10 done\n",
      "Iteration 2 kernel 11 done\n",
      "Iteration 2 kernel 12 done\n",
      "Iteration 2 ended successfully\n",
      "Iteration 3 kernel 0 done\n",
      "Iteration 3 kernel 1 done\n",
      "Iteration 3 kernel 2 done\n",
      "Iteration 3 kernel 3 done\n",
      "Iteration 3 kernel 4 done\n",
      "Iteration 3 kernel 5 done\n",
      "Iteration 3 kernel 6 done\n",
      "Iteration 3 kernel 7 done\n",
      "Iteration 3 kernel 8 done\n",
      "Iteration 3 kernel 9 done\n",
      "Iteration 3 kernel 10 done\n",
      "Iteration 3 kernel 11 done\n",
      "Iteration 3 kernel 12 done\n",
      "Iteration 3 ended successfully\n"
     ]
    }
   ],
   "source": [
    "kernel_sizes = {\n",
    "    'P04': range(0, 13),\n",
    "    'P11': range(0, 13),\n",
    "    'P12': range(0, 13),\n",
    "}\n",
    "\n",
    "number_of_iterations = {\n",
    "    'P04': 3,\n",
    "    'P11': 3,\n",
    "    'P12': 3,\n",
    "}\n",
    "\n",
    "lsd_trees = annihilate_jemiolas(mask_main, \n",
    "                                kernel_sizes=kernel_sizes.get(TREE_NAME, range(0, 13)), \n",
    "                                iters=number_of_iterations.get(TREE_NAME, 3))"
   ]
  },
  {
   "cell_type": "markdown",
   "metadata": {},
   "source": [
    "## Verifying obtained reconstruction "
   ]
  },
  {
   "cell_type": "code",
   "execution_count": 11,
   "metadata": {},
   "outputs": [],
   "source": [
    "# if the reconstruction looks bad try using results of previous iterations\n",
    "# if the skelecon still has mistletoes try increasing number of iterations\n",
    "reconstruction = (lsd_trees[-1] > 0).astype(np.uint8)\n",
    "visualize_mask_non_bin(reconstruction) # check for holes\n",
    "visualize_skeleton(reconstruction) # check for mistletoes\n",
    "visualize_addition(mask_main, reconstruction) # check for anomalies"
   ]
  },
  {
   "cell_type": "markdown",
   "metadata": {},
   "source": [
    "## Saving the reconstruction"
   ]
  },
  {
   "cell_type": "code",
   "execution_count": 12,
   "metadata": {},
   "outputs": [],
   "source": [
    "reconstruction = np.pad(reconstruction, 1) # padding reconstruction to avoid padding later\n",
    "np.save(source_dir + TREE_NAME + '/reconstruction', reconstruction)"
   ]
  },
  {
   "cell_type": "code",
   "execution_count": null,
   "metadata": {},
   "outputs": [],
   "source": []
  }
 ],
 "metadata": {
  "kernelspec": {
   "display_name": "Python 3",
   "language": "python",
   "name": "python3"
  },
  "language_info": {
   "codemirror_mode": {
    "name": "ipython",
    "version": 3
   },
   "file_extension": ".py",
   "mimetype": "text/x-python",
   "name": "python",
   "nbconvert_exporter": "python",
   "pygments_lexer": "ipython3",
   "version": "3.7.6"
  }
 },
 "nbformat": 4,
 "nbformat_minor": 4
}
