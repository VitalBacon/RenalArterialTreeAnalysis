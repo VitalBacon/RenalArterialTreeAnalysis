{
 "cells": [
  {
   "cell_type": "code",
   "execution_count": 17,
   "metadata": {},
   "outputs": [],
   "source": [
    "import numpy as np\n",
    "import glob\n",
    "import matplotlib.pyplot as plt\n",
    "import cv2\n",
    "from skimage import measure, segmentation\n",
    "from vis_utils import load_volume, VolumeVisualizer\n",
    "from scipy.ndimage import zoom\n",
    "from skimage.morphology import skeletonize, skeletonize_3d"
   ]
  },
  {
   "cell_type": "code",
   "execution_count": 34,
   "metadata": {},
   "outputs": [
    {
     "data": {
      "text/plain": [
       "'./data/P320/320_60um_1739x553x960.raw'"
      ]
     },
     "execution_count": 34,
     "metadata": {},
     "output_type": "execute_result"
    }
   ],
   "source": [
    "source_dir = './data/'\n",
    "files = glob.glob(source_dir + '/*/*.raw')\n",
    "files[0]"
   ]
  },
  {
   "cell_type": "code",
   "execution_count": 35,
   "metadata": {},
   "outputs": [
    {
     "name": "stdout",
     "output_type": "stream",
     "text": [
      "(460, 371, 691)\n",
      "CPU times: user 2.01 s, sys: 6.93 s, total: 8.95 s\n",
      "Wall time: 12.8 s\n"
     ]
    }
   ],
   "source": [
    "%%time\n",
    "sample_volume = load_volume(files[1], scale=0.4)\n",
    "print(sample_volume.shape)"
   ]
  },
  {
   "cell_type": "code",
   "execution_count": 5,
   "metadata": {},
   "outputs": [],
   "source": [
    "visualizer = VolumeVisualizer(sample_volume).visualize(scale=0.5)"
   ]
  },
  {
   "cell_type": "code",
   "execution_count": 4,
   "metadata": {},
   "outputs": [
    {
     "data": {
      "text/plain": [
       "(384, 221, 696)"
      ]
     },
     "execution_count": 4,
     "metadata": {},
     "output_type": "execute_result"
    }
   ],
   "source": [
    "binary_mask = (sample_volume > 90).astype(np.uint8)\n",
    "binary_mask.shape"
   ]
  },
  {
   "cell_type": "code",
   "execution_count": 5,
   "metadata": {},
   "outputs": [],
   "source": [
    "visualizer = VolumeVisualizer(binary_mask).visualize(scale=1, primary_color=(255,255,255))"
   ]
  },
  {
   "cell_type": "code",
   "execution_count": 26,
   "metadata": {},
   "outputs": [],
   "source": [
    "def get_main_regions(binary_mask, min_size=10_000, connectivity=3):\n",
    "    labeled = measure.label(binary_mask, connectivity=connectivity)\n",
    "    region_props = measure.regionprops(labeled)\n",
    "    \n",
    "    main_regions_masks = []\n",
    "    \n",
    "    for props in region_props:\n",
    "        if props.area >= min_size:\n",
    "            main_regions_masks.append((props.filled_image, props.bbox))\n",
    "            \n",
    "    return main_regions_masks\n",
    "\n",
    "def merge_masks(masks, img_shape):\n",
    "    result_mask = np.zeros(img_shape, dtype=np.uint8)\n",
    "    for mask, bbox in masks:\n",
    "        min1, min2, min3, max1, max2, max3 = bbox\n",
    "        result_mask[min1:max1, min2:max2, min3:max3] += mask.astype(np.uint8)\n",
    "        \n",
    "    return result_mask"
   ]
  },
  {
   "cell_type": "code",
   "execution_count": 7,
   "metadata": {},
   "outputs": [
    {
     "name": "stdout",
     "output_type": "stream",
     "text": [
      "CPU times: user 10.6 s, sys: 479 ms, total: 11.1 s\n",
      "Wall time: 11.1 s\n"
     ]
    },
    {
     "data": {
      "text/plain": [
       "2"
      ]
     },
     "execution_count": 7,
     "metadata": {},
     "output_type": "execute_result"
    }
   ],
   "source": [
    "%%time\n",
    "main_regions_masks = get_main_regions(binary_mask, min_size=5_000, connectivity=1)\n",
    "len(main_regions_masks)"
   ]
  },
  {
   "cell_type": "code",
   "execution_count": 8,
   "metadata": {},
   "outputs": [],
   "source": [
    "visualizer = VolumeVisualizer(\n",
    "    main_regions_masks[0][0]\n",
    ").visualize(scale=1, primary_color=(255,255,255))"
   ]
  },
  {
   "cell_type": "code",
   "execution_count": 33,
   "metadata": {},
   "outputs": [],
   "source": [
    "merged_mask = merge_masks(main_regions_masks, binary_mask.shape)\n",
    "merged_mask[50:180, 50:160, 70:200] = 0.5\n",
    "\n",
    "visualizer = VolumeVisualizer(\n",
    "    merged_mask * 100\n",
    ").visualize(scale=1, primary_color=(255,255,255))"
   ]
  },
  {
   "cell_type": "code",
   "execution_count": 16,
   "metadata": {},
   "outputs": [
    {
     "data": {
      "text/plain": [
       "True"
      ]
     },
     "execution_count": 16,
     "metadata": {},
     "output_type": "execute_result"
    }
   ],
   "source": [
    "main_regions_masks[0][0].max()"
   ]
  },
  {
   "cell_type": "markdown",
   "metadata": {},
   "source": [
    "## morphological skeletonization central line extraction"
   ]
  },
  {
   "cell_type": "code",
   "execution_count": 25,
   "metadata": {},
   "outputs": [
    {
     "name": "stdout",
     "output_type": "stream",
     "text": [
      "(384, 221, 696)\n",
      "(29, 45, 173, 384, 193, 661)\n",
      "(37, 25, 23, 384, 163, 389)\n",
      "CPU times: user 3.84 s, sys: 131 ms, total: 3.97 s\n",
      "Wall time: 3.98 s\n"
     ]
    }
   ],
   "source": [
    "%%time\n",
    "\n",
    "sample_mask = merge_masks(main_regions_masks, binary_mask.shape)\n",
    "\n",
    "skeleton = skeletonize_3d(sample_mask)"
   ]
  },
  {
   "cell_type": "code",
   "execution_count": 27,
   "metadata": {},
   "outputs": [],
   "source": [
    "visualizer = VolumeVisualizer(\n",
    "    skeleton\n",
    ").visualize(scale=1, primary_color=(255,255,255))"
   ]
  }
 ],
 "metadata": {
  "kernelspec": {
   "display_name": "env-med",
   "language": "python",
   "name": "env-med"
  },
  "language_info": {
   "codemirror_mode": {
    "name": "ipython",
    "version": 3
   },
   "file_extension": ".py",
   "mimetype": "text/x-python",
   "name": "python",
   "nbconvert_exporter": "python",
   "pygments_lexer": "ipython3",
   "version": "3.6.9"
  }
 },
 "nbformat": 4,
 "nbformat_minor": 4
}
